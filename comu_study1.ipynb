{
 "cells": [
  {
   "cell_type": "markdown",
   "id": "oriented-adapter",
   "metadata": {},
   "source": [
    "## 1일차"
   ]
  },
  {
   "cell_type": "code",
   "execution_count": null,
   "id": "spiritual-likelihood",
   "metadata": {},
   "outputs": [],
   "source": []
  },
  {
   "cell_type": "code",
   "execution_count": 18,
   "id": "usual-measure",
   "metadata": {},
   "outputs": [
    {
     "name": "stdin",
     "output_type": "stream",
     "text": [
      " 딸기 사과 당근 포도 딸기\n"
     ]
    },
    {
     "name": "stdout",
     "output_type": "stream",
     "text": [
      "당근 딸기 사과 포도\n"
     ]
    }
   ],
   "source": [
    "#1\n",
    "a,b,c,d,e=input('문장을 입력해 주세요').split(' ') #띄어쓰기 기준으로 단어 추출\n",
    "fr={a,b,c,d,e}\n",
    "ans=sorted(fr) #순서대로 배열\n",
    "print(\" \".join(ans)) #배열>문자열"
   ]
  },
  {
   "cell_type": "code",
   "execution_count": 5,
   "id": "mathematical-jersey",
   "metadata": {},
   "outputs": [
    {
     "name": "stdin",
     "output_type": "stream",
     "text": [
      "문장을 입력해주세요:  안녕 안녕 안영 수경\n"
     ]
    },
    {
     "name": "stdout",
     "output_type": "stream",
     "text": [
      "['수경', '안녕', '안영']\n",
      "수경 안녕 안영 "
     ]
    }
   ],
   "source": [
    "#정답\n",
    "a = input(\"문장을 입력해주세요: \")  # 문장 입력\n",
    "b = a.split(' ')     # 공백을 기준으로 문장 속 단어 나누기 \n",
    "b = set(b)           # b의 자료형 집합 자료형으로 바꾸어 중복 단어 삭제\n",
    "b = list(b)          # list형으로 자료형 다시 변환\n",
    "b.sort()             # sort 함수를 통해 단어 오름차순 정렬\n",
    "print(b)\n",
    "for i in b:\n",
    "    print(i, end = ' ') # 각 단어 출력"
   ]
  },
  {
   "cell_type": "code",
   "execution_count": null,
   "id": "complete-competition",
   "metadata": {},
   "outputs": [],
   "source": [
    "#2\n",
    "a=input('문장을 입력해 주세요').split('. ') #. 기준으로 단어 추출\n",
    "k=[i.capitalize() for i in a] #첫부분 대문자 변환\n",
    "print(\". \".join(k)) #배열>문자열"
   ]
  },
  {
   "cell_type": "code",
   "execution_count": null,
   "id": "proof-operation",
   "metadata": {},
   "outputs": [],
   "source": [
    "#정답\n",
    "a = input(\"문장을 입력해주세요: \")   # 문장 입력\n",
    "b = a.split('.')              # 마침표를 기준으로 문장 나누기\n",
    "\n",
    "for i in range(len(b)-1):     # for문을 통해 각 문장 별로 살펴보기\n",
    "    c = b[i].strip()          # 각 문장의 좌우 끝 공백 제거하기\n",
    "    d = c.split(' ')          # 공백을 기준으로 단어 나누기\n",
    "    for j in range(len(d)):   # for문을 통해 각 단어 살펴보기\n",
    "        d[j] = d[j].lower()   # 모든 단어의 알파벳 소문자로 변환\n",
    "        if d[j] == 'i': \n",
    "            d[j] = 'I'        # 'i'만 존재하는 경우 대문자 'I'로 변환\n",
    "        elif d[j][0:2] == \"i'\":\n",
    "            d[j]= d[j].replace('i','I') # \"i'\"로 존재하는 경우 대문자 'i'를 'I'로 변환\n",
    "    d[0] = d[0].capitalize()  # 문장 첫 번째 단어의 첫 번째 문자를 대문자료 변환\n",
    "    d= ' '.join(d)            # 리스트 형태의 단어들을 문자열로 변환\n",
    "    print(d, end = '. ')      # 문장 출력하고 끝에 end 키워드를 통해 마침표 찍어주기"
   ]
  },
  {
   "cell_type": "markdown",
   "id": "demonstrated-greensboro",
   "metadata": {},
   "source": [
    "## 2일차"
   ]
  },
  {
   "cell_type": "code",
   "execution_count": 16,
   "id": "demographic-living",
   "metadata": {},
   "outputs": [
    {
     "name": "stdin",
     "output_type": "stream",
     "text": [
      "숫자를 입력해주세요: 4.56\n"
     ]
    },
    {
     "name": "stdout",
     "output_type": "stream",
     "text": [
      "5\n"
     ]
    }
   ],
   "source": [
    "a=input('숫자를 입력해주세요:')\n",
    "if int(a[2]) >=5: #소수점 첫째 자리 수 크기 판단\n",
    "    print(int(a[0])+1) # 5이상이면 올림\n",
    "else:\n",
    "    print(a[0]) # 4이하면 유지\n",
    "    "
   ]
  },
  {
   "cell_type": "code",
   "execution_count": 13,
   "id": "elegant-allergy",
   "metadata": {},
   "outputs": [
    {
     "name": "stdin",
     "output_type": "stream",
     "text": [
      "각 숫자를 공백으로 구분하여 입력해주세요: 45 56 123\n"
     ]
    },
    {
     "name": "stdout",
     "output_type": "stream",
     "text": [
      "56\n"
     ]
    }
   ],
   "source": [
    "list=[]\n",
    "a=input('각 숫자를 공백으로 구분하여 입력해주세요:').split(' ')\n",
    "for x in range(len(a)):\n",
    "    total=0\n",
    "    for i in a[x]: \n",
    "        total+=int(i) #자릿수 합 계산\n",
    "    list.append(total) \n",
    "index=list.index(max(list)) #최댓값 인덱스 위치 추출\n",
    "print(a[index]) \n",
    "\n"
   ]
  },
  {
   "cell_type": "markdown",
   "id": "photographic-bangkok",
   "metadata": {},
   "source": [
    "## 3일차"
   ]
  },
  {
   "cell_type": "code",
   "execution_count": 16,
   "id": "immediate-consortium",
   "metadata": {},
   "outputs": [
    {
     "name": "stdin",
     "output_type": "stream",
     "text": [
      "삼각형의 높이를 입력해주세요: 7\n"
     ]
    },
    {
     "name": "stdout",
     "output_type": "stream",
     "text": [
      "      *\n",
      "     **\n",
      "    ***\n",
      "   ****\n",
      "  *****\n",
      " ******\n",
      "*******\n"
     ]
    }
   ],
   "source": [
    "h=int(input('삼각형의 높이를 입력해주세요:'))#높이 입력\n",
    "for star in range(1,h+1): \n",
    "    print(f'{\" \"*(h-star)}{\"*\"*star}') #공백 활용해 우측 정렬"
   ]
  },
  {
   "cell_type": "code",
   "execution_count": 181,
   "id": "helpful-optimization",
   "metadata": {},
   "outputs": [
    {
     "name": "stdout",
     "output_type": "stream",
     "text": [
      "              <3월 달력>\n",
      "   일   월   화   수   목   금    토\n",
      "        1    2    3    4    5    6  \n",
      "   7    8    9   10   11   12   13  \n",
      "  14   15   16   17   18   19   20  \n",
      "  21   22   23   24   25   26   27  \n",
      "  28   29   30   31 "
     ]
    }
   ],
   "source": [
    "print(f'{\"<3월 달력>\":>21}')\n",
    "print('   일   월   화   수   목   금    토')\n",
    "print('    ',end=' ')\n",
    "for i in range(1,32): #1~31출력\n",
    "    if i%7==0:        #7주기로 줄바꿈\n",
    "        print(' ')\n",
    "    print(f'{i:>4}',end=' ')"
   ]
  },
  {
   "cell_type": "markdown",
   "id": "plastic-nashville",
   "metadata": {},
   "source": [
    "## 4일차"
   ]
  },
  {
   "cell_type": "code",
   "execution_count": 18,
   "id": "steady-asian",
   "metadata": {
    "tags": []
   },
   "outputs": [
    {
     "name": "stdin",
     "output_type": "stream",
     "text": [
      "숫자를 입력해주세요: 5\n"
     ]
    },
    {
     "name": "stdout",
     "output_type": "stream",
     "text": [
      "5!은 120입니다.\n"
     ]
    }
   ],
   "source": [
    "num=int(input('숫자를 입력해주세요:'))\n",
    "ans=1\n",
    "for i in range(1,num+1): \n",
    "        ans*=i\n",
    "print(f'{num}!은 {ans}입니다.')"
   ]
  },
  {
   "cell_type": "code",
   "execution_count": 39,
   "id": "paperback-hormone",
   "metadata": {},
   "outputs": [
    {
     "name": "stdin",
     "output_type": "stream",
     "text": [
      "숫자 두 개를 입력해주세요(ex.'3 5') 2 21\n",
      "배수를 알고 싶은 숫자를 입력해주세요:  5\n"
     ]
    },
    {
     "name": "stdout",
     "output_type": "stream",
     "text": [
      "5 10 15 20 "
     ]
    }
   ],
   "source": [
    "a=input(\"숫자 두 개를 입력해주세요(ex.'3 5')\").split(' ')\n",
    "b=int(input('배수를 알고 싶은 숫자를 입력해주세요: '))\n",
    "for i in range(int(a[0])+1,int(a[1])):\n",
    "    if i%b==0:\n",
    "        print(i,end=' ')  "
   ]
  },
  {
   "cell_type": "code",
   "execution_count": 4,
   "id": "operating-promotion",
   "metadata": {},
   "outputs": [
    {
     "name": "stdin",
     "output_type": "stream",
     "text": [
      " OXOOOXOO\n"
     ]
    },
    {
     "name": "stdout",
     "output_type": "stream",
     "text": [
      "1\n",
      "1\n",
      "2\n",
      "3\n",
      "1\n",
      "2\n",
      "10\n"
     ]
    }
   ],
   "source": [
    "ans=input()\n",
    "a=0; b=0\n",
    "for i in range (0,len(ans)):\n",
    "    if ans[i]=='O':\n",
    "        a+=1\n",
    "        b+=a\n",
    "    else:\n",
    "        a=0\n",
    "print(b)"
   ]
  },
  {
   "cell_type": "code",
   "execution_count": 2,
   "id": "flush-advantage",
   "metadata": {},
   "outputs": [
    {
     "name": "stdin",
     "output_type": "stream",
     "text": [
      " 사과\n"
     ]
    },
    {
     "name": "stdout",
     "output_type": "stream",
     "text": [
      "['사과']\n"
     ]
    },
    {
     "name": "stdin",
     "output_type": "stream",
     "text": [
      " 과일\n",
      " 일본\n",
      " 본드\n",
      " 드럼\n",
      " 럼주\n"
     ]
    },
    {
     "name": "stdout",
     "output_type": "stream",
     "text": [
      "중간점검 현재까지 5개 입력\n"
     ]
    },
    {
     "name": "stdin",
     "output_type": "stream",
     "text": [
      " 주량\n",
      " 량분\n",
      " 분량\n",
      " 량분\n",
      " 분량\n"
     ]
    },
    {
     "name": "stdout",
     "output_type": "stream",
     "text": [
      "중간점검 현재까지 10개 입력\n"
     ]
    },
    {
     "name": "stdin",
     "output_type": "stream",
     "text": [
      " 량분\n",
      " 사랑\n"
     ]
    },
    {
     "name": "stdout",
     "output_type": "stream",
     "text": [
      "틀린단어를 입력하셨습니다. 게임을 종료합니다\n",
      "['사과', '과일', '일본', '본드', '드럼', '럼주', '주량', '량분', '분량', '량분', '분량', '량분']\n"
     ]
    }
   ],
   "source": [
    "b=[]\n",
    "a=input()\n",
    "b.append(a)\n",
    "i=0\n",
    "\n",
    "while True:\n",
    "    c=input()\n",
    "    i+=1  \n",
    "    if c[0]==b[-1][-1]:\n",
    "        b.append(c)\n",
    "    \n",
    "    elif c in b:\n",
    "        print('중복단어 입력')\n",
    "        break\n",
    "        \n",
    "    elif c[0]!=b[-1][-1]:\n",
    "        print('틀린 단어를 입력하셨습니다. 게임을 종료합니다')\n",
    "        break\n",
    "\n",
    "    if i%5==0:\n",
    "        print(f'(중간점검) 현재까지 {i}개 입력')\n"
   ]
  },
  {
   "cell_type": "code",
   "execution_count": null,
   "id": "experienced-marketing",
   "metadata": {},
   "outputs": [],
   "source": [
    "result = list(input(\"ox퀴즈의 결과를 입력해주세요(ex.OOXOXXO): \"))\n",
    "score = combo = 0\n",
    "for i in range(len(result)):\n",
    "    if(result[i]=='X'):\n",
    "        combo = 0\n",
    "    elif (result[i] == 'O'):\n",
    "        score = score + combo + 1\n",
    "        combo += 1\n",
    "print(score)"
   ]
  },
  {
   "cell_type": "markdown",
   "id": "controversial-zoning",
   "metadata": {},
   "source": [
    "## 6일차"
   ]
  },
  {
   "cell_type": "code",
   "execution_count": 9,
   "id": "laden-means",
   "metadata": {},
   "outputs": [
    {
     "name": "stdin",
     "output_type": "stream",
     "text": [
      " ==========도형 목록==========\n",
      "1. 원\n",
      "2. 삼각형\n",
      "3. 직사각형\n",
      "4. 정사각형\n",
      "============================\n",
      "도형 목록에서 넓이를 계산할 도형의 번호를 입력해주세요:  3\n",
      " 직사각형 가로 길이를 입력해주세요:  2\n",
      " 직사각형 세로 길이를 입력해주세요:  4\n"
     ]
    },
    {
     "name": "stdout",
     "output_type": "stream",
     "text": [
      " 가로가 2고, 세로가 4인 직사각형의 넓이는 8입니다.\n"
     ]
    }
   ],
   "source": [
    "import math #pi값 불러오기 위한 함수\n",
    "def circle(x): #circle이라는 함수 지정\n",
    "    return math.pi*x**2\n",
    "def tri(x,y): #삼각형\n",
    "    return x*y*1/2\n",
    "def rec(x,y): #직사각형\n",
    "    return x*y\n",
    "def sqr(x): #정사각형\n",
    "    return x**2\n",
    "q=input(\"\"\" ==========도형 목록==========\n",
    "1. 원\n",
    "2. 삼각형\n",
    "3. 직사각형\n",
    "4. 정사각형\n",
    "============================\n",
    "도형 목록에서 넓이를 계산할 도형의 번호를 입력해주세요: \"\"\")\n",
    "if q==\"1\":\n",
    "    a=int(input(' 원의 반지름 길이를 입력해주세요: '))\n",
    "    print(f' 반지름 길이가 {a}인 원의 넓이는 약 {circle(a):.2f}입니다.') #소수점 둘째자리까지 출력\n",
    "elif q==\"2\":\n",
    "    a=int(input(' 삼각형 밑변 길이를 입력해주세요: '))\n",
    "    b=int(input(' 삼각형 높이를 입력해주세요: '))\n",
    "    print(f' 가로가 {a}고, 높이가 {b}인 삼각형의 넓이는 {tri(a,b)}입니다.')\n",
    "elif q==\"3\":\n",
    "    a=int(input(' 직사각형 가로 길이를 입력해주세요: '))\n",
    "    b=int(input(' 직사각형 세로 길이를 입력해주세요: '))\n",
    "    print(f' 가로가 {a}고, 세로가 {b}인 직사각형의 넓이는 {rec(a,b)}입니다.')\n",
    "elif q==\"4\":\n",
    "    a=int(input(' 정사각형 한 변의 길이를 입력해주세요: '))\n",
    "    print(f' 한변의 길이가 {a}인 삼각형의 넓이는 {sqr(a)}입니다.')\n",
    "else:\n",
    "    print('1~4 중에서 선택해주세요.') # 1~4 외의 값을 입력한 경우\n",
    "\n"
   ]
  },
  {
   "cell_type": "code",
   "execution_count": null,
   "id": "confident-consolidation",
   "metadata": {},
   "outputs": [],
   "source": []
  },
  {
   "cell_type": "code",
   "execution_count": null,
   "id": "answering-article",
   "metadata": {},
   "outputs": [],
   "source": [
    "your_name=input('What is your name?')\n",
    "print(your_name)"
   ]
  },
  {
   "cell_type": "code",
   "execution_count": null,
   "id": "absent-trail",
   "metadata": {},
   "outputs": [],
   "source": [
    "def numreverse(x): #입력받은 수를 거꾸로 출력하는 함수 \n",
    "    return int(\"\".join(reversed(x)))\n",
    "def zerofind(x,y): # 0값의 존재여부 판별 함수\n",
    "    if not 0 in x:\n",
    "        return a.append(y) \n",
    "i=0\n",
    "a=[]\n",
    "q=int(input('입력받을 숫자의 개수를 입력해주세요: '))\n",
    "while i<q:\n",
    "    i+=1\n",
    "    num=input(f'{i}번째 숫자를 입력해주세요.: ')\n",
    "    k=[numreverse(num)%i for i in range (2,numreverse(num))] \n",
    "    zerofind(k,num)\n",
    "print(a)"
   ]
  },
  {
   "cell_type": "code",
   "execution_count": 5,
   "id": "attended-concentration",
   "metadata": {},
   "outputs": [
    {
     "name": "stdin",
     "output_type": "stream",
     "text": [
      " 안녕\n"
     ]
    }
   ],
   "source": [
    "c=input()\n",
    "b=['사과']\n",
    "if c in b:\n",
    "    print('중복단어 입력')\n",
    "      "
   ]
  },
  {
   "cell_type": "code",
   "execution_count": null,
   "id": "reasonable-coordinator",
   "metadata": {},
   "outputs": [],
   "source": []
  }
 ],
 "metadata": {
  "kernelspec": {
   "display_name": "Python 3 (ipykernel)",
   "language": "python",
   "name": "python3"
  },
  "language_info": {
   "codemirror_mode": {
    "name": "ipython",
    "version": 3
   },
   "file_extension": ".py",
   "mimetype": "text/x-python",
   "name": "python",
   "nbconvert_exporter": "python",
   "pygments_lexer": "ipython3",
   "version": "3.9.9"
  }
 },
 "nbformat": 4,
 "nbformat_minor": 5
}
