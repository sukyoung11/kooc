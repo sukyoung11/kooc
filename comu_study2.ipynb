{
 "cells": [
  {
   "cell_type": "code",
   "execution_count": 21,
   "id": "fossil-growing",
   "metadata": {},
   "outputs": [
    {
     "name": "stdin",
     "output_type": "stream",
     "text": [
      " ==========도형 목록==========\n",
      "1. 원\n",
      "2. 삼각형\n",
      "3. 직사각형\n",
      "4. 정사각형\n",
      "============================\n",
      "도형 목록에서 넓이를 계산할 도형의 번호를 입력해주세요:  1\n",
      " 원의 반지름 길이를 입력해주세요:  3\n"
     ]
    },
    {
     "name": "stdout",
     "output_type": "stream",
     "text": [
      " 반지름 길이가 3인 원의 넓이는 약 28.27입니다.\n"
     ]
    }
   ],
   "source": [
    "import math #pi값 불러오기 위한 함수\n",
    "def circle(x): #circle이라는 함수 지정\n",
    "    return math.pi*x**2\n",
    "def tri(x,y): #삼각형\n",
    "    return x*y*1/2\n",
    "def rec(x,y): #직사각형\n",
    "    return x*y\n",
    "def sqr(x): #정사각형\n",
    "    return x**2\n",
    "q=input(\"\"\" ==========도형 목록==========\n",
    "1. 원\n",
    "2. 삼각형\n",
    "3. 직사각형\n",
    "4. 정사각형\n",
    "============================\n",
    "도형 목록에서 넓이를 계산할 도형의 번호를 입력해주세요: \"\"\")\n",
    "if q==\"1\":\n",
    "    a=int(input(' 원의 반지름 길이를 입력해주세요: '))\n",
    "    print(f' 반지름 길이가 {a}인 원의 넓이는 약 {circle(a):.2f}입니다.') #소수점 둘째자리까지 출력\n",
    "elif q==\"2\":\n",
    "    a=int(input(' 삼각형 밑변 길이를 입력해주세요: '))\n",
    "    b=int(input(' 삼각형 높이를 입력해주세요: '))\n",
    "    print(f' 가로가 {a}고, 높이가 {b}인 삼각형의 넓이는 {tri(a,b)}입니다.')\n",
    "elif q==\"3\":\n",
    "    a=int(input(' 직사각형 가로 길이를 입력해주세요: '))\n",
    "    b=int(input(' 직사각형 세로 길이를 입력해주세요: '))\n",
    "    print(f' 가로가 {a}고, 세로가 {b}인 직사각형의 넓이는 {rec(a,b)}입니다.')\n",
    "elif q==\"4\":\n",
    "    a=int(input(' 정사각형 한 변의 길이를 입력해주세요: '))\n",
    "    print(f' 한변의 길이가 {a}인 삼각형의 넓이는 {sqr(a)}입니다.')\n",
    "else:\n",
    "    print('1~4 중에서 선택해주세요.') # 1~4 외의 값을 입력한 경우"
   ]
  },
  {
   "cell_type": "code",
   "execution_count": 20,
   "id": "caring-sandwich",
   "metadata": {},
   "outputs": [
    {
     "name": "stdin",
     "output_type": "stream",
     "text": [
      "입력받을 숫자의 개수를 입력해주세요:  3\n",
      "1번째 숫자를 입력해주세요.:  23\n",
      "2번째 숫자를 입력해주세요.:  34\n",
      "3번째 숫자를 입력해주세요.:  71\n"
     ]
    },
    {
     "name": "stdout",
     "output_type": "stream",
     "text": [
      "34 71\n"
     ]
    }
   ],
   "source": [
    "def numreverse(x): #입력받은 수를 거꾸로 출력하는 함수 \n",
    "    return int(\"\".join(reversed(x)))\n",
    "\n",
    "def zerofind(x,y): # 0값의 존재여부 판별 함수\n",
    "    if not 0 in x: \n",
    "        return a.append(y) #배열 x에 0이 없으면 배열 a에 y추가\n",
    "i=0\n",
    "a=[]\n",
    "q=int(input('입력받을 숫자의 개수를 입력해주세요: '))\n",
    "while i<q:\n",
    "    i+=1\n",
    "    num=input(f'{i}번째 숫자를 입력해주세요.: ')\n",
    "    k=[numreverse(num)%i for i in range (2,numreverse(num))] #나머지값들을 배열에 추가\n",
    "    zerofind(k,num) #배열에 0이 없으면=소수\n",
    "print(\" \".join(a))"
   ]
  },
  {
   "cell_type": "code",
   "execution_count": 10,
   "id": "purple-ethiopia",
   "metadata": {},
   "outputs": [
    {
     "name": "stdin",
     "output_type": "stream",
     "text": [
      "문장을 입력해 주세요 apple\n"
     ]
    },
    {
     "name": "stdout",
     "output_type": "stream",
     "text": [
      "['a', 'e', 'l', 'p']\n"
     ]
    }
   ],
   "source": [
    "a=set(input('문장을 입력해 주세요')) # set으로 중복 제거해서 저장\n",
    "print(sorted(a)) # 알파벳 오름차순 출력"
   ]
  },
  {
   "cell_type": "code",
   "execution_count": 27,
   "id": "adjusted-engineering",
   "metadata": {},
   "outputs": [
    {
     "name": "stdout",
     "output_type": "stream",
     "text": [
      "======음료수 목록======\n",
      "물               700원\n",
      "콜라            1000원\n",
      "사이다          1000원\n",
      "과일 주스        800원\n",
      "======================\n"
     ]
    },
    {
     "name": "stdin",
     "output_type": "stream",
     "text": [
      "소지하고 계신 돈의 액수를 입력해주세요:  5000\n",
      "마시고 싶은 음료를 입력해주세요:  과일 주스\n"
     ]
    },
    {
     "name": "stdout",
     "output_type": "stream",
     "text": [
      "과일 주스의 가격은 800 입니다\n",
      "주문이 완료되었습니다\n",
      "잔액은 4200원 입니다\n"
     ]
    }
   ],
   "source": [
    "def cashier(x): #자판기 계산 함수 지정\n",
    "    c=int(drinks[x][0])\n",
    "    if c<=a: #소지금 > 음료수인 경우\n",
    "        drinks[x][1]=int(drinks[x][1])-1 #음료수 개수 -1 & 잔액 출력\n",
    "        return print(f'주문이 완료되었습니다\\n잔액은 {a-c}원 입니다')\n",
    "    else : # 소지금< 음료수인 경우\n",
    "        return print(\"돈이 부족합니다\")\n",
    "\n",
    "print(\"\"\"======음료수 목록======\n",
    "물               700원\n",
    "콜라            1000원\n",
    "사이다          1000원\n",
    "과일 주스        800원\n",
    "======================\"\"\")\n",
    "\n",
    "drinks={'물':[700,2],'콜라':[1000,0],'사이다':[1000,3],'과일 주스':[800,6]}\n",
    "\n",
    "a=int(input('소지하고 계신 돈의 액수를 입력해주세요: '))\n",
    "b=input('마시고 싶은 음료를 입력해주세요: ')\n",
    "print(f'{b}의 가격은 {drinks[b][0]} 입니다')\n",
    "\n",
    "if int(drinks[b][1])!=0: #음료수 개수가 0이 아닌 경우\n",
    "    cashier(b)\n",
    "    \n",
    "else: #음료수 개수가 0인 경우\n",
    "    print('현재 해당 음료는 품절 상태입니다')\n",
    "   \n",
    "        \n",
    "    \n",
    "\n",
    "\n"
   ]
  },
  {
   "cell_type": "code",
   "execution_count": 22,
   "id": "numerical-reducing",
   "metadata": {},
   "outputs": [
    {
     "name": "stdin",
     "output_type": "stream",
     "text": [
      "가로:  3\n",
      "세로:  4\n"
     ]
    },
    {
     "name": "stdout",
     "output_type": "stream",
     "text": [
      "직사각형의 둘레는 14, 넓이는 12입니다\n"
     ]
    }
   ],
   "source": [
    "class Rec:\n",
    "    def setdata(self,x,y):\n",
    "        self.x=x\n",
    "        self.y=y\n",
    "    def add(self):\n",
    "        return 2*(self.x+self.y)\n",
    "    def mul(self):\n",
    "        return self.x*self.y\n",
    "a=Rec()\n",
    "a.setdata(int(input('가로: ')),int(input('세로: ')))\n",
    "print(f'직사각형의 둘레는 {a.add()}, 넓이는 {a.mul()}입니다')\n"
   ]
  },
  {
   "cell_type": "code",
   "execution_count": 2,
   "id": "checked-notebook",
   "metadata": {},
   "outputs": [
    {
     "name": "stdin",
     "output_type": "stream",
     "text": [
      "x 좌표를 입력해주세요:  3\n",
      "y 좌표를 입력해주세요:  4\n"
     ]
    },
    {
     "name": "stdout",
     "output_type": "stream",
     "text": [
      "현재 좌표: (3,4)\n"
     ]
    },
    {
     "name": "stdin",
     "output_type": "stream",
     "text": [
      "x 좌표 설정을 원한다면 x, y 좌표 설정을 원한다면 y, 좌표 이동을 원한다면 m, 좌표 설정을 종료하려면 0 을 입력해주세요. m\n",
      "x 좌표를 얼마만큼 이동할지 입력해주세요:  -2\n",
      "y 좌표를 얼마만큼 이동할지 입력해주세요:  3\n",
      "x 좌표 설정을 원한다면 x, y 좌표 설정을 원한다면 y, 좌표 이동을 원한다면 m, 좌표 설정을 종료하려면 0 을 입력해주세요. 0\n"
     ]
    },
    {
     "name": "stdout",
     "output_type": "stream",
     "text": [
      "현재 좌표: (1,7)\n"
     ]
    }
   ],
   "source": [
    "class coordinates:\n",
    "    def setdata(self,x,y):\n",
    "        self.x=x\n",
    "        self.y=y\n",
    "    def set(self):\n",
    "        return print(f'현재 좌표: ({self.x},{self.y})')\n",
    "a=coordinates()\n",
    "a.setdata(input('x 좌표를 입력해주세요: '),input('y 좌표를 입력해주세요: '))\n",
    "a.set()\n",
    "while True:\n",
    "    q=input('x 좌표 설정을 원한다면 x, y 좌표 설정을 원한다면 y, 좌표 이동을 원한다면 m, \\\n",
    "좌표 설정을 종료하려면 0 을 입력해주세요.')\n",
    "    if q=='x':\n",
    "        a.setdata(input('x 좌표를 입력해주세요: '),a.y)\n",
    "    elif q=='y':\n",
    "        a.setdata(a.x,input('y 좌표를 입력해주세요: '))\n",
    "    elif q=='m':\n",
    "        x1=int(input('x 좌표를 얼마만큼 이동할지 입력해주세요: '))\n",
    "        y1=int(input('y 좌표를 얼마만큼 이동할지 입력해주세요: '))\n",
    "        a.setdata(int(a.x)+x1,int(a.y)+y1)\n",
    "    elif q=='0':\n",
    "        a.set()\n",
    "        break\n",
    "        "
   ]
  },
  {
   "cell_type": "code",
   "execution_count": 14,
   "id": "imposed-michigan",
   "metadata": {},
   "outputs": [
    {
     "name": "stdin",
     "output_type": "stream",
     "text": [
      "숫자를 입력해주세요:  5\n",
      "몇 번째 약수를 알고 싶은지 입력해주세요:  2\n"
     ]
    },
    {
     "name": "stdout",
     "output_type": "stream",
     "text": [
      "5의 2번째 약수는 5입니다.\n"
     ]
    }
   ],
   "source": [
    "num=int(input('숫자를 입력해주세요: '))\n",
    "count=int(input('몇 번째 약수를 알고 싶은지 입력해주세요: '))\n",
    "a=[i for i in range (1,num+1) if num%i==0 ] \n",
    "if len(a)>=count:\n",
    "    print(f'{num}의 {count}번째 약수는 {a[count-1]}입니다.')\n",
    "else:\n",
    "    print('입력하신 숫자만큼의 약수가 존재하지 않습니다')"
   ]
  },
  {
   "cell_type": "code",
   "execution_count": null,
   "id": "attended-credits",
   "metadata": {},
   "outputs": [],
   "source": []
  },
  {
   "cell_type": "code",
   "execution_count": null,
   "id": "about-place",
   "metadata": {},
   "outputs": [],
   "source": [
    "sub=int(input('숫자를 입력해주세요: '))\n",
    "total=0\n",
    "for i in range (1,sub+1):\n",
    "    grade = float(input('점수를 입력해주세요'))\n",
    "    total+=grade\n",
    "    if grade>=90:\n",
    "        print('A')\n",
    "    elif 90>grade>=80:\n",
    "        print('B')\n",
    "    elif 80>grade>=70:\n",
    "        print('C')\n",
    "    elif 70>grade>=60:\n",
    "        print('D')\n",
    "    else:\n",
    "        print('F')\n",
    "print(f'총 과목의 평균은 {total/sub} 입니다.')"
   ]
  },
  {
   "cell_type": "code",
   "execution_count": 15,
   "id": "unlikely-carrier",
   "metadata": {},
   "outputs": [
    {
     "name": "stdin",
     "output_type": "stream",
     "text": [
      "초 단위의 시간을 입력해주세요:  34555\n"
     ]
    },
    {
     "name": "stdout",
     "output_type": "stream",
     "text": [
      "34555초 = 9시간 35분 55초 "
     ]
    }
   ],
   "source": [
    "def result(x,y):\n",
    "    if x!=0:\n",
    "        return print(f'{x}{y}', end=\" \")\n",
    "time=int(input('초 단위의 시간을 입력해주세요: '))\n",
    "print(f'{time}초 =',end=' ')\n",
    "h=int(time/3600)\n",
    "result(h,'시간')\n",
    "m=int((time%3600)/60)\n",
    "result(m,'분')\n",
    "s=((time%3600)%60)\n",
    "result(s,'초')"
   ]
  },
  {
   "cell_type": "code",
   "execution_count": 5,
   "id": "taken-antigua",
   "metadata": {},
   "outputs": [
    {
     "name": "stdout",
     "output_type": "stream",
     "text": [
      "1. 10초    2. 30초    3. 1분    4. 10분    5.시작 \n"
     ]
    },
    {
     "name": "stdin",
     "output_type": "stream",
     "text": [
      "원하는 시간의 숫자 버튼을 입력해주세요 :  2\n"
     ]
    },
    {
     "name": "stdout",
     "output_type": "stream",
     "text": [
      "00:30\n"
     ]
    },
    {
     "name": "stdin",
     "output_type": "stream",
     "text": [
      "원하는 시간의 숫자 버튼을 입력해주세요 :  4\n"
     ]
    },
    {
     "name": "stdout",
     "output_type": "stream",
     "text": [
      "10:30\n"
     ]
    },
    {
     "name": "stdin",
     "output_type": "stream",
     "text": [
      "원하는 시간의 숫자 버튼을 입력해주세요 :  8\n"
     ]
    },
    {
     "name": "stdout",
     "output_type": "stream",
     "text": [
      "잘못된 입력입니다.\n"
     ]
    },
    {
     "name": "stdin",
     "output_type": "stream",
     "text": [
      "원하는 시간의 숫자 버튼을 입력해주세요 :  3\n"
     ]
    },
    {
     "name": "stdout",
     "output_type": "stream",
     "text": [
      "11:30\n"
     ]
    },
    {
     "name": "stdin",
     "output_type": "stream",
     "text": [
      "원하는 시간의 숫자 버튼을 입력해주세요 :  5\n"
     ]
    },
    {
     "name": "stdout",
     "output_type": "stream",
     "text": [
      "전자레인지를 작동합니다\n"
     ]
    }
   ],
   "source": [
    "print('1. 10초    2. 30초    3. 1분    4. 10분    5.시작 ')\n",
    "time={'1':10,'2':30,'3':60,'4':600,'5':0}\n",
    "total=0\n",
    "while True:\n",
    "    mode=input('원하는 시간의 숫자 버튼을 입력해주세요 : ')\n",
    "    if 0<int(mode)<5:\n",
    "        total+=time[mode]\n",
    "        print(f'{str(int(total/60)).zfill(2)}:{str(total%60).zfill(2)}')  \n",
    "    elif int(mode)>5:\n",
    "        print('잘못된 입력입니다.')\n",
    "    elif int(mode)==5:\n",
    "        print('전자레인지를 작동합니다')\n",
    "        break"
   ]
  },
  {
   "cell_type": "code",
   "execution_count": 6,
   "id": "descending-nepal",
   "metadata": {},
   "outputs": [
    {
     "name": "stdin",
     "output_type": "stream",
     "text": [
      " 방탄ㄴ소녇ㄴ\n"
     ]
    },
    {
     "name": "stdout",
     "output_type": "stream",
     "text": [
      "ㄴ소\n"
     ]
    }
   ],
   "source": [
    "word=input('단어를 입력해주세요: ')\n",
    "a=int(len(word)/2)\n",
    "if len(word)%2==0:\n",
    "    print(word[a-1:a+1])\n",
    "else:\n",
    "    print(word[a])"
   ]
  },
  {
   "cell_type": "code",
   "execution_count": 66,
   "id": "ordered-quantum",
   "metadata": {
    "collapsed": true,
    "jupyter": {
     "outputs_hidden": true
    },
    "tags": []
   },
   "outputs": [
    {
     "name": "stdin",
     "output_type": "stream",
     "text": [
      "당신:  가위\n"
     ]
    },
    {
     "name": "stdout",
     "output_type": "stream",
     "text": [
      "컴퓨터: 바위\n",
      "Lose\n"
     ]
    }
   ],
   "source": [
    "def sic(x): #가위\n",
    "    if x=='바위':\n",
    "        return print('Win')\n",
    "    elif x=='보':\n",
    "        return print('Lose')\n",
    "def rock(x): #바위\n",
    "    if x=='보':\n",
    "        return print('Win')\n",
    "    elif x=='가위':\n",
    "        return print('Lose')\n",
    "def paper(x): #보\n",
    "    if x=='가위':\n",
    "        return print('Win')\n",
    "    elif x=='바위':\n",
    "        return print('Lose')\n",
    "a=random.randrange(0,3)\n",
    "you=input('당신: ')\n",
    "me={0:'가위',1:'바위',2:'보'}\n",
    "print(f'컴퓨터: {me[a]}')\n",
    "if me[a]==you:\n",
    "    print('Draw')\n",
    "else:\n",
    "    if a==0: #컴퓨터:가위\n",
    "        sic(you)\n",
    "    elif a==1: #컴퓨터:바위\n",
    "        rock(you)\n",
    "    elif a==2: #컴퓨터:보\n",
    "        paper(you)\n"
   ]
  },
  {
   "cell_type": "code",
   "execution_count": null,
   "id": "iraqi-person",
   "metadata": {},
   "outputs": [
    {
     "name": "stdin",
     "output_type": "stream",
     "text": [
      "2부터 9사이 숫자를 입력해주세요(1을 누르면 프로그램이 종료됩니다):  3\n"
     ]
    },
    {
     "name": "stdout",
     "output_type": "stream",
     "text": [
      "3x1=3\n",
      "3x2=6\n",
      "3x3=9\n",
      "3x4=12\n",
      "3x5=15\n",
      "3x6=18\n",
      "3x7=21\n",
      "3x8=24\n",
      "3x9=27\n"
     ]
    },
    {
     "name": "stdin",
     "output_type": "stream",
     "text": [
      "2부터 9사이 숫자를 입력해주세요(1을 누르면 프로그램이 종료됩니다):  10\n"
     ]
    },
    {
     "name": "stdout",
     "output_type": "stream",
     "text": [
      "잘못입력: \n"
     ]
    }
   ],
   "source": [
    "def mul(x):\n",
    "    for i in range(1,10):\n",
    "        print(f'{x}x{i}={x*i}')\n",
    "    \n",
    "while True:\n",
    "    b=int(input('2부터 9사이 숫자를 입력해주세요(1을 누르면 프로그램이 종료됩니다): '))\n",
    "    if 2<=b<=9:\n",
    "        mul(b)\n",
    "    elif b<=0 or b>=10:\n",
    "        print('잘못입력: ')\n",
    "    elif b==1:\n",
    "        print('프로그램을 종료합니다: ')\n",
    "        break\n"
   ]
  },
  {
   "cell_type": "code",
   "execution_count": null,
   "id": "voluntary-venue",
   "metadata": {},
   "outputs": [
    {
     "name": "stdout",
     "output_type": "stream",
     "text": [
      "===========영화 목록===========\n",
      "미비포유\n",
      "해리포터\n",
      "맘마미아\n",
      "어바웃타임\n",
      "라라랜드\n",
      "==============================\n"
     ]
    },
    {
     "name": "stdin",
     "output_type": "stream",
     "text": [
      " 아\n"
     ]
    },
    {
     "name": "stdout",
     "output_type": "stream",
     "text": [
      "예매할 수 없는 영화입니다\n",
      "예매할 수 없는 영화입니다\n"
     ]
    }
   ],
   "source": [
    "def dis(): #할인권 선택 시\n",
    "    print(f'{b}을 선택\\n{discount[b]}할인')\n",
    "    print(f'''<예매 상세 내역>\n",
    "==============================\n",
    "영화 제목: {a}\n",
    "관람 인원: {c}명\n",
    "합산 금액: {12000*int(c)}원\n",
    "할인 금액: {discount[b]}원\n",
    "------------------------------\n",
    "실 결제액: {(12000*int(c))-discount[b]}원\n",
    "==============================''')\n",
    "    \n",
    "def notdis(): #할인권 선택하지 않을 때\n",
    "    print('할인권을 사용하지 않았습니다.')\n",
    "    print(f'''==============================\n",
    "영화 제목: {a}\n",
    "관람 인원: {c}명\n",
    "합산 금액: {12000*int(c)}원\n",
    "할인 금액: 0원\n",
    "------------------------------\n",
    "실 결제액: {12000*int(c)}원\n",
    "==============================''')\n",
    "\n",
    "print(\"\"\"===========영화 목록===========\n",
    "미비포유\n",
    "해리포터\n",
    "맘마미아\n",
    "어바웃타임\n",
    "라라랜드\n",
    "==============================\"\"\")\n",
    "\n",
    "movie=['미비포유','해리포터','맘마미아','어바웃타임','라라랜드']\n",
    "discount={\"학생할인\": 3000, \"지역할인\": 4000, \"회원할인\": 5000}\n",
    "\n",
    "while True: #영화 선택\n",
    "    a=input('')\n",
    "    if not a in movie:\n",
    "        print('예매할 수 없는 영화입니다')\n",
    "    else:\n",
    "        print(f'{a}를 선택하셨습니다')\n",
    "        break\n",
    "while True: #인원 수 선택\n",
    "    c=input('관람 인원 수를 입력해주세요: ')\n",
    "    if '.'in c : #정수가 아닐 경우\n",
    "        print('인원 수는 정수만 가능합니다')\n",
    "    elif '-'in c: #음수일 경우\n",
    "        print('관람 인원 수는 양수만 가능합니다')\n",
    "    else:\n",
    "        print(f'관람할 인원 수는 {c}명입니다')\n",
    "        break\n",
    "f=input('할인권을 사용하시려면 y, 금액 확인으로 넘어가시려면 n을 입력해주세요: ')\n",
    "if f=='y':\n",
    "    b=input('할인권 이름을 입력해주세요')\n",
    "    if b in discount:\n",
    "        dis()\n",
    "    else: #할인권 이름 잘못 입력한 경우\n",
    "        print('존재하지 않는 할인권입니다.')\n",
    "        d=input('할인권을 다시 사용하시려면 y, 금액 확인으로 넘어가시려면 n을 입력해주세요: ')\n",
    "        if d=='y':\n",
    "            b=input('할인권 이름을 입력해주세요')\n",
    "            dis()\n",
    "        elif f=='n':\n",
    "            notdis()\n",
    "            \n",
    "elif f=='n':\n",
    "    notdis()\n"
   ]
  },
  {
   "cell_type": "code",
   "execution_count": null,
   "id": "clean-alabama",
   "metadata": {},
   "outputs": [],
   "source": []
  },
  {
   "cell_type": "code",
   "execution_count": null,
   "id": "sweet-clothing",
   "metadata": {},
   "outputs": [],
   "source": [
    "def numreverse(x): #입력받은 수를 거꾸로 출력하는 함수 \n",
    "    return int(\"\".join(reversed(x)))"
   ]
  },
  {
   "cell_type": "code",
   "execution_count": 24,
   "id": "occasional-round",
   "metadata": {},
   "outputs": [
    {
     "name": "stdin",
     "output_type": "stream",
     "text": [
      "입력받을 숫자를 입력해주세요:  24\n"
     ]
    },
    {
     "name": "stdout",
     "output_type": "stream",
     "text": [
      "2 2 2 3 "
     ]
    }
   ],
   "source": [
    "i=2\n",
    "num=int(input('숫자를 입력해주세요: '))\n",
    "while i<=num: \n",
    "    if num%i==0:\n",
    "        print(i,end=' ')\n",
    "        num/=i\n",
    "    else: \n",
    "        i+=1\n",
    "        \n",
    " "
   ]
  },
  {
   "cell_type": "code",
   "execution_count": 2,
   "id": "front-working",
   "metadata": {},
   "outputs": [
    {
     "name": "stdin",
     "output_type": "stream",
     "text": [
      "단어를 입력해주세요:  오디오\n"
     ]
    },
    {
     "name": "stdout",
     "output_type": "stream",
     "text": [
      "오디오는 회문입니다.\n"
     ]
    }
   ],
   "source": [
    "a=input('단어를 입력해주세요: ')\n",
    "if a== \"\".join(reversed(a)):\n",
    "    print(f'{a}는 회문입니다.')\n",
    "else:\n",
    "    print(f'{a}는 회문이 아닙니다.')"
   ]
  },
  {
   "cell_type": "code",
   "execution_count": 12,
   "id": "atlantic-russian",
   "metadata": {},
   "outputs": [
    {
     "name": "stdin",
     "output_type": "stream",
     "text": [
      "숫자를 입력해주세요:  24\n"
     ]
    },
    {
     "name": "stdout",
     "output_type": "stream",
     "text": [
      "2\n",
      "2\n",
      "2\n",
      "3\n"
     ]
    }
   ],
   "source": [
    "n = int(input(\"숫자를 입력해주세요: \")) #숫자 입력\n",
    "\n",
    "i = 2 #2부터 시작\n",
    "\n",
    "while i <= n : #i랑 n이 같아질 때까지 반복\n",
    "    \n",
    "    if n % i == 0: #나머지가 0이면,\n",
    "        print(i) #i 출력\n",
    "        n = (n/i)\n",
    "        \n",
    "    else:\n",
    "        i += 1 "
   ]
  },
  {
   "cell_type": "code",
   "execution_count": 19,
   "id": "sporting-dryer",
   "metadata": {},
   "outputs": [
    {
     "name": "stdin",
     "output_type": "stream",
     "text": [
      "24시 기준의 시간을 입력해주세요(ex.12:34):  23:34\n"
     ]
    },
    {
     "name": "stdout",
     "output_type": "stream",
     "text": [
      "변환시간: 11:34 PM\n"
     ]
    }
   ],
   "source": [
    "a=input('24시 기준의 시간을 입력해주세요(ex.12:34): ').split(':')\n",
    "if 24>int(a[0])>=13:\n",
    "    print(f'변환시간: {int(a[0])-12}:{a[1]} PM')\n",
    "elif int(a[0])==0:\n",
    "    print(f'변환시간: 12:{a[1]} AM')\n",
    "elif int(a[0])==12:\n",
    "    print(f'변환시간: {a[0]}:{a[1]} PM')\n",
    "else:\n",
    "    print(f'변환시간: {a[0]}:{a[1]} AM')\n",
    "    "
   ]
  },
  {
   "cell_type": "code",
   "execution_count": 6,
   "id": "tutorial-struggle",
   "metadata": {},
   "outputs": [
    {
     "name": "stdin",
     "output_type": "stream",
     "text": [
      "숫자 34\n",
      "숫자 56\n",
      "숫자 7\n",
      "숫자 3\n",
      "숫자 4\n"
     ]
    },
    {
     "name": "stdout",
     "output_type": "stream",
     "text": [
      "[3, 4, 7, 34, 56]\n"
     ]
    }
   ],
   "source": [
    "a=[]; b=[]\n",
    "for i in range(0,5):\n",
    "    a.append(int(input('숫자를 입력하세요: ')))\n",
    "for i in range(0,5):\n",
    "    b.append(min(a))\n",
    "    a.remove(min(a))\n",
    "print(b)"
   ]
  },
  {
   "cell_type": "code",
   "execution_count": 14,
   "id": "related-position",
   "metadata": {},
   "outputs": [
    {
     "name": "stdin",
     "output_type": "stream",
     "text": [
      "월 5\n",
      "일 20\n"
     ]
    },
    {
     "name": "stdout",
     "output_type": "stream",
     "text": [
      "5월20일은 목요일입니다\n"
     ]
    }
   ],
   "source": [
    "from datetime import date\n",
    "a=int(input('월'))\n",
    "b=int(input('일'))\n",
    "weekday={0:'월요일',1:'화요일',2:'수요일',3:'목요일',4:'금요일',5:'토요일',6:'일요일'}\n",
    "c=date(2021,a,b).weekday()\n",
    "print(f'{a}월 {b}일은 {weekday[c]}입니다')\n"
   ]
  },
  {
   "cell_type": "code",
   "execution_count": 8,
   "id": "peaceful-debate",
   "metadata": {},
   "outputs": [
    {
     "name": "stdin",
     "output_type": "stream",
     "text": [
      " 1 1 1 1 1 1 1 1 1\n",
      " 1 1 1 1 1 1 1 1 1\n",
      " 1 1 1 1 1 1 1 1 1\n",
      " 1 1 1 1 1 1 1 1 1\n",
      " 1 1 1 1 1 1 1 1 1\n",
      " 1 1 1 1 1 1 1 1 1\n",
      " 1 1 1 1 1 1 1 1 1\n",
      " 1 1 1 1 1 1 1 1 1\n",
      " 1 1 1 1 1 1 1 1 1\n"
     ]
    },
    {
     "name": "stdout",
     "output_type": "stream",
     "text": [
      "[['1' '1' '1' '1' '1' '1' '1' '1' '1']\n",
      " ['1' '1' '1' '1' '1' '1' '1' '1' '1']\n",
      " ['1' '1' '1' '1' '1' '1' '1' '1' '1']\n",
      " ['1' '1' '1' '1' '1' '1' '1' '1' '1']\n",
      " ['1' '1' '1' '1' '1' '1' '1' '1' '1']\n",
      " ['1' '1' '1' '1' '1' '1' '1' '1' '1']\n",
      " ['1' '1' '1' '1' '1' '1' '1' '1' '1']\n",
      " ['1' '1' '1' '1' '1' '1' '1' '1' '1']\n",
      " ['1' '1' '1' '1' '1' '1' '1' '1' '1']]\n",
      "오답입니다\n"
     ]
    },
    {
     "name": "stderr",
     "output_type": "stream",
     "text": [
      "<ipython-input-8-157481f0c6d6>:14: FutureWarning: elementwise comparison failed; returning scalar instead, but in the future will perform elementwise comparison\n",
      "  if not i in d[x] or not i in e[x] or not i in f[x]:\n"
     ]
    }
   ],
   "source": [
    "import numpy as np\n",
    "a=[]\n",
    "for i in range(0,9):\n",
    "    b=input().split(' ')\n",
    "    a.append(b)\n",
    "c=np.array([a])\n",
    "d=c.reshape(9,9)\n",
    "e=d.T\n",
    "print(d)\n",
    "f=c.reshape(9,3,3)\n",
    "\n",
    "for x in range(0,9):\n",
    "    for i in range(1,10):\n",
    "        if not i in d[x] or not i in e[x] or not i in f[x]:\n",
    "            k=0\n",
    "        else:\n",
    "            k=1           \n",
    "if k==0:\n",
    "    print('오답입니다')\n",
    "else:\n",
    "    print('정답입니다')\n",
    "    \n",
    "\n",
    "\n"
   ]
  },
  {
   "cell_type": "markdown",
   "id": "municipal-islam",
   "metadata": {},
   "source": []
  },
  {
   "cell_type": "code",
   "execution_count": null,
   "id": "expensive-modern",
   "metadata": {},
   "outputs": [],
   "source": []
  }
 ],
 "metadata": {
  "kernelspec": {
   "display_name": "Python 3 (ipykernel)",
   "language": "python",
   "name": "python3"
  },
  "language_info": {
   "codemirror_mode": {
    "name": "ipython",
    "version": 3
   },
   "file_extension": ".py",
   "mimetype": "text/x-python",
   "name": "python",
   "nbconvert_exporter": "python",
   "pygments_lexer": "ipython3",
   "version": "3.9.9"
  }
 },
 "nbformat": 4,
 "nbformat_minor": 5
}
