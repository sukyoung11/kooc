{
 "cells": [
  {
   "cell_type": "markdown",
   "id": "smooth-respondent",
   "metadata": {},
   "source": [
    "## python basic"
   ]
  },
  {
   "cell_type": "markdown",
   "id": "burning-italian",
   "metadata": {},
   "source": [
    "__1.Print__"
   ]
  },
  {
   "cell_type": "code",
   "execution_count": 16,
   "id": "cheap-simon",
   "metadata": {},
   "outputs": [
    {
     "name": "stdout",
     "output_type": "stream",
     "text": [
      "This is an excellent course\n",
      "abc\n",
      "defg\n"
     ]
    }
   ],
   "source": [
    "print('This is an excellent course')\n",
    "print(\"abc\\ndefg\")"
   ]
  },
  {
   "cell_type": "markdown",
   "id": "sharp-trout",
   "metadata": {},
   "source": [
    "__2.integers, floats and decimal__"
   ]
  },
  {
   "cell_type": "code",
   "execution_count": 59,
   "id": "executive-delay",
   "metadata": {},
   "outputs": [
    {
     "data": {
      "text/plain": [
       "40"
      ]
     },
     "execution_count": 59,
     "metadata": {},
     "output_type": "execute_result"
    }
   ],
   "source": [
    "23+17"
   ]
  },
  {
   "cell_type": "code",
   "execution_count": 25,
   "id": "relative-result",
   "metadata": {},
   "outputs": [
    {
     "data": {
      "text/plain": [
       "0.6666666666666666"
      ]
     },
     "execution_count": 25,
     "metadata": {},
     "output_type": "execute_result"
    }
   ],
   "source": [
    "2/3"
   ]
  },
  {
   "cell_type": "code",
   "execution_count": 11,
   "id": "sophisticated-regular",
   "metadata": {},
   "outputs": [
    {
     "name": "stdout",
     "output_type": "stream",
     "text": [
      "40 \n",
      " 6 391 1.3529411764705883\n"
     ]
    }
   ],
   "source": [
    "x=23; y=17\n",
    "print(x+y,'\\n',x-y,x*y,x/y)\n",
    "#세미콜론은 한줄에 명령어 여러개 입력 가능"
   ]
  },
  {
   "cell_type": "markdown",
   "id": "bulgarian-roberts",
   "metadata": {},
   "source": [
    "__3.Data types and simple use of print functiom__"
   ]
  },
  {
   "cell_type": "code",
   "execution_count": 1,
   "id": "first-tobago",
   "metadata": {},
   "outputs": [
    {
     "name": "stdout",
     "output_type": "stream",
     "text": [
      "y+z= 12.5\n"
     ]
    }
   ],
   "source": [
    "y=5\n",
    "z=7.5\n",
    "y+z\n",
    "print(\"y+z=\",y+z)"
   ]
  },
  {
   "cell_type": "code",
   "execution_count": 2,
   "id": "composed-canadian",
   "metadata": {},
   "outputs": [
    {
     "name": "stdout",
     "output_type": "stream",
     "text": [
      "Y**2= 25\n",
      "z//y= 1.0\n",
      "z%y= 2.5\n",
      "<class 'float'>\n",
      "<class 'int'>\n"
     ]
    }
   ],
   "source": [
    "print(\"Y**2=\", y**2)\n",
    "print(\"z//y=\", z//y)\n",
    "print(\"z%y=\", z%y)\n",
    "print(type(z))\n",
    "print(type(y))\n",
    "# **은 지수, //는 나누기의 몫, %은 나머지\n"
   ]
  },
  {
   "cell_type": "markdown",
   "id": "annual-salon",
   "metadata": {},
   "source": [
    "__4.String,Boolean and triple quoted(\"\"\") string__"
   ]
  },
  {
   "cell_type": "code",
   "execution_count": 3,
   "id": "mobile-basics",
   "metadata": {},
   "outputs": [
    {
     "name": "stdout",
     "output_type": "stream",
     "text": [
      "True\n",
      "False\n",
      "<class 'bool'> True\n"
     ]
    }
   ],
   "source": [
    "print(7>3)\n",
    "print(3>7)\n",
    "x=7>3\n",
    "# x에 true(boolean값 할당)\n",
    "print(type(x),x)"
   ]
  },
  {
   "cell_type": "code",
   "execution_count": 4,
   "id": "limited-hardwood",
   "metadata": {},
   "outputs": [
    {
     "data": {
      "text/plain": [
       "'여러줄\\n여러줄'"
      ]
     },
     "execution_count": 4,
     "metadata": {},
     "output_type": "execute_result"
    }
   ],
   "source": [
    "#여러줄 메모하고 싶으면 \"\"\" 사용\n",
    "\"\"\"여러줄\n",
    "여러줄\"\"\""
   ]
  },
  {
   "cell_type": "markdown",
   "id": "guided-limitation",
   "metadata": {},
   "source": [
    "__5.Taking input value__"
   ]
  },
  {
   "cell_type": "code",
   "execution_count": 3,
   "id": "vocal-orlando",
   "metadata": {},
   "outputs": [
    {
     "name": "stdout",
     "output_type": "stream",
     "text": [
      "What is your name? 수경\n"
     ]
    },
    {
     "name": "stdout",
     "output_type": "stream",
     "text": [
      "수경\n"
     ]
    },
    {
     "name": "stdout",
     "output_type": "stream",
     "text": [
      "How old are you? 23\n"
     ]
    },
    {
     "name": "stdout",
     "output_type": "stream",
     "text": [
      "23 <class 'str'>\n"
     ]
    },
    {
     "name": "stdout",
     "output_type": "stream",
     "text": [
      "How old i am? 34\n"
     ]
    },
    {
     "name": "stdout",
     "output_type": "stream",
     "text": [
      "2334\n"
     ]
    }
   ],
   "source": [
    "your_name=input('What is your name?')\n",
    "print(your_name)\n",
    "# input은 값을 입력받고, 입력받은 값을 할당\n",
    "your_age=input('How old are you?')\n",
    "print(your_age,type(your_age))\n",
    "#input값은 문자열\n",
    "my_age=input('How old i am?')\n",
    "print(your_age+my_age)\n",
    "#문자열+문자열은 문장 연결됨"
   ]
  },
  {
   "cell_type": "code",
   "execution_count": 17,
   "id": "looking-transparency",
   "metadata": {},
   "outputs": [
    {
     "name": "stdout",
     "output_type": "stream",
     "text": [
      "46\n",
      "46.0\n"
     ]
    }
   ],
   "source": [
    "print(int(your_age)+int(my_age))\n",
    "# int를 통해 문자를 정수로 바꿔줌\n",
    "int(21.8)\n",
    "print(float(your_age)+float(my_age))"
   ]
  },
  {
   "cell_type": "markdown",
   "id": "coated-pocket",
   "metadata": {},
   "source": [
    "__6.If clause and comparison operator (비교연산자)__"
   ]
  },
  {
   "cell_type": "code",
   "execution_count": 2,
   "id": "gothic-manner",
   "metadata": {},
   "outputs": [
    {
     "name": "stdout",
     "output_type": "stream",
     "text": [
      "Enter an integer 2\n"
     ]
    },
    {
     "name": "stdout",
     "output_type": "stream",
     "text": [
      "x does not have a value of 1\n"
     ]
    }
   ],
   "source": [
    "x=int(input('Enter an integer'))\n",
    "\n",
    "if x==1:\n",
    "    print('x has a value of 1')\n",
    "else :\n",
    "    print('x does not have a value of 1')"
   ]
  },
  {
   "cell_type": "code",
   "execution_count": 5,
   "id": "consecutive-wholesale",
   "metadata": {},
   "outputs": [
    {
     "name": "stdout",
     "output_type": "stream",
     "text": [
      "Enter the first integer 3\n",
      "Enter the second integer -2\n"
     ]
    },
    {
     "name": "stdout",
     "output_type": "stream",
     "text": [
      "The second integer is nagative and its valus is  -2\n"
     ]
    }
   ],
   "source": [
    "val1=int(input('Enter the first integer'))\n",
    "if val1<0:\n",
    "    print('The first integer is ',val1,'and its value is nagative.')\n",
    "    \n",
    "val2=int(input('Enter the second integer'))\n",
    "if val2<0:\n",
    "    print(\"The second integer is nagative\",\"and its valus is \",val2)\n",
    "else:\n",
    "    print(\"The second integer is positive\",\"and its value is \",val2)"
   ]
  },
  {
   "cell_type": "markdown",
   "id": "allied-idaho",
   "metadata": {},
   "source": [
    "__7.Dynamic value assignment and type changing__"
   ]
  },
  {
   "cell_type": "code",
   "execution_count": 6,
   "id": "danish-contrary",
   "metadata": {},
   "outputs": [
    {
     "name": "stdout",
     "output_type": "stream",
     "text": [
      "2 <class 'int'>\n",
      "2.5 <class 'float'>\n",
      "Android <class 'str'>\n"
     ]
    }
   ],
   "source": [
    "print(x,type(x))\n",
    "\n",
    "x=2.5\n",
    "print(x,type(x))\n",
    "x='Android'\n",
    "print(x,type(x))\n",
    "\n",
    "#빅데이터 처리를 위해 파이썬을 넘어 numpy"
   ]
  },
  {
   "cell_type": "markdown",
   "id": "lesbian-cargo",
   "metadata": {},
   "source": [
    "__8.Multiple statement on a simple line__"
   ]
  },
  {
   "cell_type": "code",
   "execution_count": 8,
   "id": "willing-movie",
   "metadata": {},
   "outputs": [
    {
     "name": "stdout",
     "output_type": "stream",
     "text": [
      "Hello\n",
      "This is kook\n"
     ]
    }
   ],
   "source": [
    "print(\"Hello\");print(\"This is kook\")"
   ]
  },
  {
   "cell_type": "markdown",
   "id": "clinical-spanish",
   "metadata": {},
   "source": [
    "## Python: control Statement"
   ]
  },
  {
   "cell_type": "markdown",
   "id": "laughing-grave",
   "metadata": {},
   "source": [
    "__1.if..elif..else__"
   ]
  },
  {
   "cell_type": "code",
   "execution_count": 21,
   "id": "horizontal-consumer",
   "metadata": {},
   "outputs": [
    {
     "name": "stdout",
     "output_type": "stream",
     "text": [
      "Type your weight 34\n"
     ]
    },
    {
     "name": "stdout",
     "output_type": "stream",
     "text": [
      "thin \n",
      "Eat more!\n"
     ]
    }
   ],
   "source": [
    "weight=int(input('Type your weight'))\n",
    "\n",
    "if weight>=90:\n",
    "    print('fat!','Exercise!')\n",
    "elif weight>=60:\n",
    "    print('normal')\n",
    "else:\n",
    "    print('thin \\nEat more!')\n"
   ]
  },
  {
   "cell_type": "code",
   "execution_count": 24,
   "id": "ethical-congress",
   "metadata": {},
   "outputs": [
    {
     "name": "stdout",
     "output_type": "stream",
     "text": [
      "Enter your grade 100\n"
     ]
    },
    {
     "name": "stdout",
     "output_type": "stream",
     "text": [
      "A\n"
     ]
    }
   ],
   "source": [
    "grade = float(input('Enter your grade'))\n",
    "\n",
    "if grade>=90:\n",
    "    print('A')\n",
    "if 90>grade>=80:\n",
    "    print('B')\n",
    "if 80>grade>=70:\n",
    "    print('C')\n",
    "if 70>grade>=60:\n",
    "    print('D')\n",
    "if grade<60:\n",
    "    print('F')\n",
    "#else는 바로 앞 if절의 범위 이외의 것을 나타냄, 따라서 위에 처럼 여러 if문 사용된 문장에서는 else사용 하지 말것"
   ]
  },
  {
   "cell_type": "code",
   "execution_count": 28,
   "id": "distinct-level",
   "metadata": {},
   "outputs": [
    {
     "name": "stdout",
     "output_type": "stream",
     "text": [
      "Enter your grade 100\n"
     ]
    },
    {
     "name": "stdout",
     "output_type": "stream",
     "text": [
      "A\n"
     ]
    }
   ],
   "source": [
    "grade1 = float(input('Enter your grade'))\n",
    "\n",
    "if grade1>=90:\n",
    "    print('A')\n",
    "elif grade1>=80:\n",
    "    print('B')\n",
    "elif grade1>=70:\n",
    "    print('C')\n",
    "elif grade1>=60:\n",
    "    print('D')\n",
    "else:\n",
    "    print('F')"
   ]
  },
  {
   "cell_type": "markdown",
   "id": "vocational-grenada",
   "metadata": {},
   "source": [
    "__2.While statement__"
   ]
  },
  {
   "cell_type": "code",
   "execution_count": 35,
   "id": "suspended-borough",
   "metadata": {},
   "outputs": [
    {
     "name": "stdout",
     "output_type": "stream",
     "text": [
      "1\n",
      "2\n",
      "3\n",
      "4\n",
      "5\n",
      "6\n",
      "7\n",
      "8\n",
      "9\n",
      "10\n",
      "11\n"
     ]
    }
   ],
   "source": [
    "k=0\n",
    "while k<=10:\n",
    "    k=(k+1)\n",
    "    print(k)"
   ]
  },
  {
   "cell_type": "code",
   "execution_count": 43,
   "id": "downtown-pharmaceutical",
   "metadata": {},
   "outputs": [
    {
     "name": "stdout",
     "output_type": "stream",
     "text": [
      "9 8 7 6 5 4 3 2 1 0 "
     ]
    }
   ],
   "source": [
    "l=10\n",
    "while l>0:\n",
    "    l=l-1\n",
    "    print(l,end=\" \")\n",
    "#end를 넣으면 수평으로 출력 가능"
   ]
  },
  {
   "cell_type": "code",
   "execution_count": 47,
   "id": "atomic-stress",
   "metadata": {},
   "outputs": [
    {
     "name": "stdout",
     "output_type": "stream",
     "text": [
      "Enter grade or -1 to end:  30\n",
      "Enter grade or -1 to end:  40\n",
      "Enter grade or -1 to end:  54\n",
      "Enter grade or -1 to end:  -1\n"
     ]
    },
    {
     "name": "stdout",
     "output_type": "stream",
     "text": [
      "Total grade is 124\n",
      "The number of students is 3\n",
      "class average is 41.333333333333336\n"
     ]
    }
   ],
   "source": [
    "total=0\n",
    "counter=0\n",
    "grade=int(input('Enter grade or -1 to end: '))\n",
    "\n",
    "while grade != -1:\n",
    "    total += grade\n",
    "    counter +=1\n",
    "    grade = int(input('Enter grade or -1 to end: '))\n",
    "\n",
    "if counter !=0:\n",
    "    average=total/counter\n",
    "    print('Total grade is', total)\n",
    "    print('The number of tts is', counter)\n",
    "    print(f'class average is {average}')\n",
    "    #a formatted string = 문자열 속에 변수를 받을 수 있음\n",
    "else:\n",
    "    print('점수가 입력되지 않음')"
   ]
  },
  {
   "cell_type": "markdown",
   "id": "vanilla-jefferson",
   "metadata": {},
   "source": [
    "__3.For loop for iteration__"
   ]
  },
  {
   "cell_type": "code",
   "execution_count": 49,
   "id": "robust-suicide",
   "metadata": {},
   "outputs": [
    {
     "name": "stdout",
     "output_type": "stream",
     "text": [
      "item : 1\n",
      "item : 2\n",
      "item : 3\n",
      "item : 4\n",
      "item : 5\n",
      "letters : A\n",
      "letters : B\n",
      "letters : C\n"
     ]
    }
   ],
   "source": [
    "for item in[1,2,3,4,5]: #for 와 in은 항상 같이\n",
    "    print(\"item :\",item)\n",
    "\n",
    "letters=['A','B','C']\n",
    "for i in letters:\n",
    "    print('letters :',i)\n",
    "# for와 while은 둘다 반복문이지만 for은 주어진 정보를 끄집어내고 정보 고갈시 종료된\n",
    "# while은 조건이 충족되는 한 반복됨"
   ]
  },
  {
   "cell_type": "code",
   "execution_count": 82,
   "id": "permanent-dominican",
   "metadata": {},
   "outputs": [
    {
     "name": "stdout",
     "output_type": "stream",
     "text": [
      "Each letter : A\n",
      "Each letter : B\n",
      "Each letter : C\n"
     ]
    }
   ],
   "source": [
    "for i in range(len(letters)):\n",
    "    print('Each letter :',letters[i])\n",
    "    #index값 추출"
   ]
  },
  {
   "cell_type": "code",
   "execution_count": 54,
   "id": "massive-parcel",
   "metadata": {},
   "outputs": [
    {
     "name": "stdout",
     "output_type": "stream",
     "text": [
      "P y t h o n p r o g r a m m i n g "
     ]
    }
   ],
   "source": [
    "for i in 'Pythonprogramming':\n",
    "    print (i,end=' ')"
   ]
  },
  {
   "cell_type": "code",
   "execution_count": 59,
   "id": "brazilian-philippines",
   "metadata": {},
   "outputs": [
    {
     "name": "stdout",
     "output_type": "stream",
     "text": [
      "28\n"
     ]
    }
   ],
   "source": [
    "total=0\n",
    "for number in [-2,3,0,18,9]:\n",
    "    total+=number\n",
    "print(total)"
   ]
  },
  {
   "cell_type": "markdown",
   "id": "applicable-cream",
   "metadata": {},
   "source": [
    "__4.Augmented assignment__"
   ]
  },
  {
   "cell_type": "code",
   "execution_count": 1,
   "id": "large-wages",
   "metadata": {},
   "outputs": [
    {
     "name": "stdout",
     "output_type": "stream",
     "text": [
      "0 1 2 3 4 5 6 7 8 9 "
     ]
    },
    {
     "data": {
      "text/plain": [
       "45"
      ]
     },
     "execution_count": 1,
     "metadata": {},
     "output_type": "execute_result"
    }
   ],
   "source": [
    "total=0\n",
    "for i in range(10):\n",
    "    print(i,end=' ')\n",
    "    total +=i\n",
    "total"
   ]
  },
  {
   "cell_type": "markdown",
   "id": "asian-sellers",
   "metadata": {},
   "source": [
    "__5.Making a for loop with augment assignment__"
   ]
  },
  {
   "cell_type": "code",
   "execution_count": null,
   "id": "celtic-costa",
   "metadata": {},
   "outputs": [],
   "source": [
    "total=0\n",
    "numstudent=0\n",
    "grades=[98,76,71,87]\n",
    "for i in grades:\n",
    "    total+=i\n",
    "    numstudent+=1\n",
    "average = total/numstudent\n",
    "print(f'평균은{average:.2f}')\n",
    "#.2f는 소수점 2번쨰 자리까지 표현하라는 뜻"
   ]
  },
  {
   "cell_type": "markdown",
   "id": "confirmed-aaron",
   "metadata": {},
   "source": [
    "__6.A built-in function - range__"
   ]
  },
  {
   "cell_type": "code",
   "execution_count": 8,
   "id": "married-baghdad",
   "metadata": {},
   "outputs": [
    {
     "name": "stdout",
     "output_type": "stream",
     "text": [
      "0, 1, 2, 3, 4, 5, 6, 7, 8, 9, 10, 11, 12, 13, 14, 15, 16, 17, 18, 19, \n",
      "7, 8, 9, 10, 11, 12, 13, 14, 15, 16, 17, 18, 19, \n",
      "10, 13, 16, 19, \n",
      "15, 13, 11, 9, 7, 5, 3, 1, "
     ]
    }
   ],
   "source": [
    "for i in range (20):\n",
    "    print(i,end=', ')\n",
    "#0부터 시작해서 20개의 숫자가 찍힘\n",
    "print()\n",
    "for i in range (7,20):\n",
    "    print(i,end=', ')\n",
    "print() #줄바꿈\n",
    "for i in range (10,20,3):\n",
    "    print(i,end=', ')\n",
    "print()\n",
    "for i in range (15,0,-2):\n",
    "    print(i,end=', ')\n",
    "#range(시작숫자, 끝나는 숫자, 증분)"
   ]
  },
  {
   "cell_type": "markdown",
   "id": "juvenile-wings",
   "metadata": {},
   "source": [
    "__7.Advanced use of while and for loops__"
   ]
  },
  {
   "cell_type": "code",
   "execution_count": 18,
   "id": "proper-martial",
   "metadata": {},
   "outputs": [
    {
     "name": "stdout",
     "output_type": "stream",
     "text": [
      "9 8 7 6 \n",
      "Loop ended 5\n"
     ]
    }
   ],
   "source": [
    "l=10\n",
    "while l>0:\n",
    "    l=l - 1\n",
    "    if l==5:\n",
    "        break  #break문은 while문 정지, if와 같이 씀\n",
    "    print(l,end=\" \")\n",
    "print()\n",
    "print('Loop ended',l)\n"
   ]
  },
  {
   "cell_type": "code",
   "execution_count": 19,
   "id": "extra-stroke",
   "metadata": {},
   "outputs": [
    {
     "name": "stdout",
     "output_type": "stream",
     "text": [
      "9 8 7 6 4 3 2 1 0 \n",
      "Loop ended 0\n"
     ]
    }
   ],
   "source": [
    "l=10\n",
    "while l>0:\n",
    "    l=l - 1\n",
    "    if l==5:\n",
    "        continue  #이 아래는 실행 x 다시 반복문으로 돌아감\n",
    "    print(l,end=\" \")\n",
    "print()\n",
    "print('Loop ended',l)"
   ]
  },
  {
   "cell_type": "code",
   "execution_count": 21,
   "id": "entitled-screw",
   "metadata": {},
   "outputs": [
    {
     "name": "stdout",
     "output_type": "stream",
     "text": [
      "9 8 7 6 5 4 3 2 1 0 Loop ended 0\n"
     ]
    }
   ],
   "source": [
    "l=10\n",
    "while l>0:\n",
    "    l=l - 1\n",
    "    print(l,end=\" \")\n",
    "else:\n",
    "    print('Loop ended',l) #while문 작동할때는 else 작동 X, while문 끝나면 작동함"
   ]
  },
  {
   "cell_type": "code",
   "execution_count": 23,
   "id": "buried-straight",
   "metadata": {},
   "outputs": [
    {
     "name": "stdout",
     "output_type": "stream",
     "text": [
      "P y t h o n P r o "
     ]
    }
   ],
   "source": [
    "for i in 'PythonProgramming':\n",
    "    if i =='g':\n",
    "        break\n",
    "    print(i,end=\" \")"
   ]
  },
  {
   "cell_type": "code",
   "execution_count": 24,
   "id": "simple-province",
   "metadata": {},
   "outputs": [
    {
     "name": "stdout",
     "output_type": "stream",
     "text": [
      "P y t h o P r o g r a m m i g "
     ]
    }
   ],
   "source": [
    "for i in 'PythonProgramming':\n",
    "    if i =='n':\n",
    "        continue\n",
    "    print(i,end=\" \")"
   ]
  },
  {
   "cell_type": "markdown",
   "id": "another-rapid",
   "metadata": {},
   "source": [
    "## Python: Creating Function"
   ]
  },
  {
   "cell_type": "markdown",
   "id": "worth-tamil",
   "metadata": {},
   "source": [
    "함수이름 - 키워드 def , 소문자로 시작 (권장),\"\"\"(docstring)으로 설명"
   ]
  },
  {
   "cell_type": "markdown",
   "id": "personal-lecture",
   "metadata": {},
   "source": [
    "__1.Creating your own functions with a single parameter__"
   ]
  },
  {
   "cell_type": "code",
   "execution_count": 34,
   "id": "solar-commercial",
   "metadata": {},
   "outputs": [],
   "source": [
    "import math #pi값 불러오기 위한 함수\n",
    "def circle(x): #circle이라는 함수 지정\n",
    "    return math.pi*x**2,2*math.pi*x\n",
    "#math.pi는 math함수에서 pi값 불러오라는 뜻\n",
    "#return과 print기능은 유사하지만 함수에는 return쓰는 것이 좋음"
   ]
  },
  {
   "cell_type": "code",
   "execution_count": 26,
   "id": "romantic-somewhere",
   "metadata": {},
   "outputs": [
    {
     "data": {
      "text/plain": [
       "(28.274333882308138, 18.84955592153876)"
      ]
     },
     "execution_count": 26,
     "metadata": {},
     "output_type": "execute_result"
    }
   ],
   "source": [
    "circle(3)"
   ]
  },
  {
   "cell_type": "code",
   "execution_count": 27,
   "id": "postal-conjunction",
   "metadata": {},
   "outputs": [
    {
     "data": {
      "text/plain": [
       "(201.06192982974676, 50.26548245743669)"
      ]
     },
     "execution_count": 27,
     "metadata": {},
     "output_type": "execute_result"
    }
   ],
   "source": [
    "circle(8)"
   ]
  },
  {
   "cell_type": "code",
   "execution_count": 28,
   "id": "authentic-style",
   "metadata": {},
   "outputs": [
    {
     "name": "stdout",
     "output_type": "stream",
     "text": [
      "The area and circumference of a circle with 3cm radius are 28.27cm squared and 18.85cm.\n"
     ]
    }
   ],
   "source": [
    "x=3\n",
    "print(f'The area and circumference of a circle with {x}cm radius \\\n",
    "are {circle(x)[0]:.2f}cm squared and {circle(x)[1]:.2f}cm.')"
   ]
  },
  {
   "cell_type": "code",
   "execution_count": 35,
   "id": "scheduled-angle",
   "metadata": {},
   "outputs": [
    {
     "data": {
      "text/plain": [
       "\u001b[1;31mSignature:\u001b[0m \u001b[0mcircle\u001b[0m\u001b[1;33m(\u001b[0m\u001b[0mx\u001b[0m\u001b[1;33m)\u001b[0m\u001b[1;33m\u001b[0m\u001b[1;33m\u001b[0m\u001b[0m\n",
       "\u001b[1;31mDocstring:\u001b[0m <no docstring>\n",
       "\u001b[1;31mFile:\u001b[0m      c:\\users\\user\\pykooc\\<ipython-input-34-17cea52ec0f0>\n",
       "\u001b[1;31mType:\u001b[0m      function\n"
      ]
     },
     "metadata": {},
     "output_type": "display_data"
    }
   ],
   "source": [
    "circle?"
   ]
  },
  {
   "cell_type": "markdown",
   "id": "advised-reply",
   "metadata": {},
   "source": [
    "__2.Creating functions with muliple parameter__"
   ]
  },
  {
   "cell_type": "code",
   "execution_count": 17,
   "id": "hidden-tuning",
   "metadata": {},
   "outputs": [],
   "source": [
    "def myfunction(x,y):\n",
    "    \"\"\"addition, miltiplication and division\"\"\"\n",
    "    return x+y, x*y, x/y"
   ]
  },
  {
   "cell_type": "code",
   "execution_count": 18,
   "id": "orange-receiver",
   "metadata": {},
   "outputs": [
    {
     "data": {
      "text/plain": [
       "(18, 45, 5.0)"
      ]
     },
     "execution_count": 18,
     "metadata": {},
     "output_type": "execute_result"
    }
   ],
   "source": [
    "myfunction(15,3)"
   ]
  },
  {
   "cell_type": "code",
   "execution_count": 19,
   "id": "convertible-trader",
   "metadata": {},
   "outputs": [],
   "source": [
    "def findmin():\n",
    "    \"\"\"최소값 찾는 함수\"\"\"\n",
    "    x=int(input('Enter first integral: '))\n",
    "    y=int(input('Enter second integral: '))\n",
    "    z=int(input('Enter third integral: '))\n",
    "    minimum=x\n",
    "    if y<minimum:\n",
    "        minimum=y\n",
    "    if z<minimum:\n",
    "        minimum=z\n",
    "    return minimum\n"
   ]
  },
  {
   "cell_type": "code",
   "execution_count": 42,
   "id": "monetary-holocaust",
   "metadata": {},
   "outputs": [
    {
     "name": "stdout",
     "output_type": "stream",
     "text": [
      "Enter first integral:  2\n",
      "Enter second integral:  3\n",
      "Enter third integral:  6\n"
     ]
    },
    {
     "data": {
      "text/plain": [
       "2"
      ]
     },
     "execution_count": 42,
     "metadata": {},
     "output_type": "execute_result"
    }
   ],
   "source": [
    "findmin()"
   ]
  },
  {
   "cell_type": "code",
   "execution_count": 44,
   "id": "bound-arbitration",
   "metadata": {},
   "outputs": [],
   "source": [
    "def findmin1(x,y,z):\n",
    "    \"\"\"Another function for finding a minimum\"\"\"\n",
    "    return min(x,y,z)"
   ]
  },
  {
   "cell_type": "code",
   "execution_count": 45,
   "id": "backed-exhibit",
   "metadata": {},
   "outputs": [
    {
     "name": "stdout",
     "output_type": "stream",
     "text": [
      "7\n",
      "3\n"
     ]
    }
   ],
   "source": [
    "print(findmin1(7,8,9))\n",
    "print(x)\n",
    "#x값이 3인 이유, 함수 내에서의 x는 그 함수 내에서만 사용됨 따라서 그 밖에서 또 사용해도 된다."
   ]
  },
  {
   "cell_type": "code",
   "execution_count": 48,
   "id": "arabic-radio",
   "metadata": {},
   "outputs": [
    {
     "name": "stdout",
     "output_type": "stream",
     "text": [
      "Minimum is 8\n"
     ]
    }
   ],
   "source": [
    "print(f'Minimum is {findmin1(10,8,9)}')"
   ]
  },
  {
   "cell_type": "markdown",
   "id": "christian-inventory",
   "metadata": {},
   "source": [
    "__3.Function with defalt parameter values__"
   ]
  },
  {
   "cell_type": "code",
   "execution_count": 54,
   "id": "forty-warehouse",
   "metadata": {},
   "outputs": [],
   "source": [
    "def rectangle(width=3, height=5):\n",
    "    \"\"\"calculate the area of a rectangle\"\"\"\n",
    "    return width*height"
   ]
  },
  {
   "cell_type": "code",
   "execution_count": 57,
   "id": "baking-campaign",
   "metadata": {},
   "outputs": [
    {
     "name": "stdout",
     "output_type": "stream",
     "text": [
      "15 25 20\n",
      "12 42\n"
     ]
    }
   ],
   "source": [
    "print(rectangle(),rectangle(5),rectangle(4,5))\n",
    "#defalt로 설정해서 값 안넣어도 괜찮, 값 넣어주면 순차적으로 배정\n",
    "print(rectangle(height=4),rectangle(height=6,width=7))"
   ]
  },
  {
   "cell_type": "markdown",
   "id": "unnecessary-amendment",
   "metadata": {},
   "source": [
    "__4. A function taking an arbitrary number of argument__"
   ]
  },
  {
   "cell_type": "code",
   "execution_count": 69,
   "id": "smart-spokesman",
   "metadata": {},
   "outputs": [],
   "source": [
    "def my_average(*nums):\n",
    "# *은 계산하는 값의 개수에 제한을 두지 않는다는 의미\n",
    "    \"\"\"caculate average with multiple number\"\"\"\n",
    "    return sum(nums)/len(nums)"
   ]
  },
  {
   "cell_type": "code",
   "execution_count": 60,
   "id": "associate-nightlife",
   "metadata": {},
   "outputs": [
    {
     "data": {
      "text/plain": [
       "97.5"
      ]
     },
     "execution_count": 60,
     "metadata": {},
     "output_type": "execute_result"
    }
   ],
   "source": [
    "my_average(98,100,98,94)"
   ]
  },
  {
   "cell_type": "code",
   "execution_count": 70,
   "id": "increasing-borough",
   "metadata": {},
   "outputs": [
    {
     "data": {
      "text/plain": [
       "5.5"
      ]
     },
     "execution_count": 70,
     "metadata": {},
     "output_type": "execute_result"
    }
   ],
   "source": [
    "grades=[1,2,3,4,5,6,7,8,9,10]\n",
    "my_average(*grades)"
   ]
  },
  {
   "cell_type": "markdown",
   "id": "hearing-tracker",
   "metadata": {},
   "source": [
    "__5. Main function and -name_variable__"
   ]
  },
  {
   "cell_type": "code",
   "execution_count": 91,
   "id": "official-mozambique",
   "metadata": {},
   "outputs": [
    {
     "name": "stdout",
     "output_type": "stream",
     "text": [
      "The area and circumference of a circle with 4cm radius are 50.27cm squared and 25.13cm.\n",
      "main function is execute!\n"
     ]
    },
    {
     "data": {
      "text/plain": [
       "'__main__'"
      ]
     },
     "execution_count": 91,
     "metadata": {},
     "output_type": "execute_result"
    }
   ],
   "source": [
    "def main(x):\n",
    "    print(f'The area and circumference of a circle with {x}cm radius \\\n",
    "are {circle(x)[0]:.2f}cm squared and {circle(x)[1]:.2f}cm.')\n",
    "    print('main function is execute!')\n",
    "    \n",
    "if __name__ == '__main__':\n",
    "    main(4)\n",
    "__name__\n",
    "#독립된 프로그램으로 실행될 떄는 if문 실행, 모듈로 불러왔을 떄는 if문 실행 안함\n",
    "#따라서 함수 재활용할 때 일부 유용한 부분만 실행하고자 해서 if문이 존재함"
   ]
  },
  {
   "cell_type": "code",
   "execution_count": 86,
   "id": "phantom-possible",
   "metadata": {},
   "outputs": [],
   "source": [
    "# %run main_function.py \n",
    "#외부(파이썬 파이)에 만들어놓은 함수 실행"
   ]
  },
  {
   "cell_type": "code",
   "execution_count": 88,
   "id": "narrative-billion",
   "metadata": {},
   "outputs": [],
   "source": [
    "#import main_function as mf\n",
    "#print(mf.circle(5))\n",
    "#print(mf.__name__)\n",
    "#이 떄는 if문 실행 안됨"
   ]
  },
  {
   "cell_type": "markdown",
   "id": "opposed-broadcasting",
   "metadata": {},
   "source": [
    "__6. Python standard libraries__"
   ]
  },
  {
   "cell_type": "markdown",
   "id": "lightweight-litigation",
   "metadata": {},
   "source": [
    "http://docs.python.org/3/library/\n",
    "math,random,csv,decimal,datetime,json,statistic, etc\n",
    "\n",
    "math module- http://docs.python.org/3/library/math.html\n"
   ]
  },
  {
   "cell_type": "code",
   "execution_count": 92,
   "id": "experienced-impression",
   "metadata": {},
   "outputs": [],
   "source": [
    "#함수이름 기억안나면 tap키 누르기  - 왜 난 안되지?"
   ]
  },
  {
   "cell_type": "markdown",
   "id": "detailed-intensity",
   "metadata": {},
   "source": [
    "__7.Methods in python__"
   ]
  },
  {
   "cell_type": "markdown",
   "id": "informative-interpretation",
   "metadata": {},
   "source": [
    "#object란 파이썬 내 모든 객체를 의미\n",
    "my_name='Su kyoung'\n",
    "print(my_name.lower(), my_name.upper(), my_name)\n",
    "#method(함수.method)를 통해 객체에 변형을 가함"
   ]
  },
  {
   "cell_type": "markdown",
   "id": "cross-farmer",
   "metadata": {},
   "source": [
    "__8. Random number generation in python__"
   ]
  },
  {
   "cell_type": "code",
   "execution_count": 94,
   "id": "colonial-recipe",
   "metadata": {},
   "outputs": [
    {
     "name": "stdout",
     "output_type": "stream",
     "text": [
      "3 5 5 1 4 5 1 3 4 1 "
     ]
    }
   ],
   "source": [
    "import random\n",
    "for roll in range(10):\n",
    "    print(random.randrange(1,7),end=' ')"
   ]
  },
  {
   "cell_type": "code",
   "execution_count": 103,
   "id": "elegant-winner",
   "metadata": {},
   "outputs": [
    {
     "name": "stdout",
     "output_type": "stream",
     "text": [
      "face    frequency     ratio\n",
      "   0         5005     50.05\n",
      "   1         4995     49.95\n"
     ]
    }
   ],
   "source": [
    "frequency0=0\n",
    "frequency1=0\n",
    "sample=10_000\n",
    "#동전 던지기 10000번 반복\n",
    "#숫자의 천단위 구분 _사용\n",
    "for roll in range(sample):\n",
    "    face=random.randrange(0,2)\n",
    "    if face==0:\n",
    "        frequency0+=1\n",
    "    else:\n",
    "         frequency1+=1\n",
    "print(f'{\"face\"}{\"frequency\":>13}{\"ratio\":>10}')\n",
    "print(f'{0:>4}{frequency0:>13}{frequency0/sample*100:>10.2f}')\n",
    "print(f'{1:>4}{frequency1:>13}{frequency1/sample*100:>10.2f}')\n",
    "# table처럼 출력\n",
    "# :13은 13만큼의 빈 공간 확보 - >는 오른쪽으로 정렬,<는왼쪽으로 정렬       "
   ]
  },
  {
   "cell_type": "code",
   "execution_count": 107,
   "id": "invisible-germany",
   "metadata": {},
   "outputs": [
    {
     "name": "stdout",
     "output_type": "stream",
     "text": [
      "1 6 3 4 6 2 3 6 2 3 "
     ]
    }
   ],
   "source": [
    "random.seed(20210210)\n",
    "#seed넘버를 공유하면 항상 똑같은 랜덤넘버가 나옴\n",
    "\n",
    "for roll in range(10):\n",
    "    print(random.randrange(1,7),end=\" \")\n",
    "    "
   ]
  },
  {
   "cell_type": "code",
   "execution_count": 109,
   "id": "responsible-regular",
   "metadata": {},
   "outputs": [
    {
     "name": "stdout",
     "output_type": "stream",
     "text": [
      "1 4 2 1 3 3 2 3 3 3 "
     ]
    }
   ],
   "source": [
    "for roll in range(10):\n",
    "    print(random.randrange(1,7),end=\" \")\n",
    " #seed넘버는 같은 셀 내에서만 유효하다   "
   ]
  },
  {
   "cell_type": "markdown",
   "id": "royal-closure",
   "metadata": {},
   "source": [
    "__9.Importing libraries and modules in Python__"
   ]
  },
  {
   "cell_type": "code",
   "execution_count": 117,
   "id": "tired-composite",
   "metadata": {},
   "outputs": [
    {
     "name": "stdout",
     "output_type": "stream",
     "text": [
      "3.141592653589793 10 9\n",
      "4\n"
     ]
    }
   ],
   "source": [
    "from math import ceil,floor,pi\n",
    "#필요한 함수 먼저 뽑아오면 나중에 math 안쓰고 바로 ceil써도 됨\n",
    "import statistics as stat\n",
    "#함수에 별명 지정하면 statistic을 다 쓰지 않고 star만 쓰면 됨\n",
    "print(pi,ceil(9.8),floor(9.8))\n",
    "x=[3,4,5]\n",
    "print(stat.mean(x))\n",
    "#ceil-올림값, floor-버림, mean-평균"
   ]
  },
  {
   "cell_type": "markdown",
   "id": "statewide-symphony",
   "metadata": {},
   "source": [
    "## Python:Lists and Tuples"
   ]
  },
  {
   "cell_type": "markdown",
   "id": "invalid-exhibition",
   "metadata": {},
   "source": [
    "list, turple, string 모두 데이터 배열\n",
    "\n",
    "element-배열의 구성 요소, index-모두 0부터 시작함 \n",
    "\n",
    "__1. list__\n",
    "\n",
    "같은 데이터 타입을 갖고 있음 \n",
    "장점- 유연하다, 여러가지 형태의 데이터를 담을 수 있음, 변경 가능\n",
    "\n",
    "대괄호[ ]로 표현(Squre bracket)\n"
   ]
  },
  {
   "cell_type": "code",
   "execution_count": 4,
   "id": "seventh-filename",
   "metadata": {},
   "outputs": [
    {
     "name": "stdout",
     "output_type": "stream",
     "text": [
      "<class 'list'> [1, 2, 3, 4, 5, 6, 11, 'a', 'b']\n"
     ]
    }
   ],
   "source": [
    "list1=[1, 2, 3,4,5, 6, 11,'a','b']\n",
    "print(type(list1),list1)\n",
    "#아무렇게나 입력해도 list형태는 정해져 있음 , ,"
   ]
  },
  {
   "cell_type": "code",
   "execution_count": 119,
   "id": "mighty-malta",
   "metadata": {},
   "outputs": [
    {
     "name": "stdout",
     "output_type": "stream",
     "text": [
      "2 a\n",
      "[3, 4, 5]\n",
      "[1, 2, 3, 4, 5, 6, 11]\n",
      "[5, 6, 11, 'a', 'b']\n",
      "b\n",
      "6\n",
      "[4, 5, 6, 11, 'a', 'b']\n"
     ]
    }
   ],
   "source": [
    "print(list1[1], list1[7])\n",
    "print(list1[2:5])#2~4까지\n",
    "print(list1[:7])#0~6\n",
    "print(list1[4:])\n",
    "print(list1[-1])#뒤에서부터 첫번째\n",
    "print(list1[-4])\n",
    "print(list1[1+2:])\n",
    "\n"
   ]
  },
  {
   "cell_type": "code",
   "execution_count": 122,
   "id": "banner-consultation",
   "metadata": {},
   "outputs": [
    {
     "data": {
      "text/plain": [
       "9"
      ]
     },
     "execution_count": 122,
     "metadata": {},
     "output_type": "execute_result"
    }
   ],
   "source": [
    "len(list1)"
   ]
  },
  {
   "cell_type": "code",
   "execution_count": 124,
   "id": "filled-martial",
   "metadata": {},
   "outputs": [
    {
     "name": "stdout",
     "output_type": "stream",
     "text": [
      "[1, 2, 3, 4, 5, 6, 'c', 'a', 'b']\n"
     ]
    }
   ],
   "source": [
    "list1[6]='c' #6번째 index c로 변경\n",
    "print(list1)"
   ]
  },
  {
   "cell_type": "code",
   "execution_count": 3,
   "id": "departmental-possibility",
   "metadata": {},
   "outputs": [
    {
     "name": "stdout",
     "output_type": "stream",
     "text": [
      "[11, 12, 13]\n"
     ]
    }
   ],
   "source": [
    "list2=[]\n",
    "for item in range(11,14,1):\n",
    "    list2+=[item]\n",
    "    #list2.append(item) 으로 써도 됨\n",
    "print (list2)\n",
    "#list 만들기"
   ]
  },
  {
   "cell_type": "code",
   "execution_count": 133,
   "id": "protected-mainstream",
   "metadata": {},
   "outputs": [
    {
     "name": "stdout",
     "output_type": "stream",
     "text": [
      "['P', 'y', 't', 'h', 'o', 'n', ' ', 'K', 'o', 'o', 'c'] 11\n",
      "['P', 'y', 't', 'h', 'o', 'n', ' ', 'K', 'o', 'o', 'c', 'm', 'c']\n"
     ]
    }
   ],
   "source": [
    "list3=[]\n",
    "list3+='Python Kooc'\n",
    "print(list3, len(list3))\n",
    "list3+='mc'\n",
    "print(list3)"
   ]
  },
  {
   "cell_type": "code",
   "execution_count": 5,
   "id": "virgin-worker",
   "metadata": {},
   "outputs": [
    {
     "name": "stdout",
     "output_type": "stream",
     "text": [
      "[1, 2, 3, 4, 5, 6, 11, 'a', 'b', 11, 12, 13]\n"
     ]
    }
   ],
   "source": [
    "list12=list1+list2\n",
    "print(list12)"
   ]
  },
  {
   "cell_type": "code",
   "execution_count": 137,
   "id": "round-transparency",
   "metadata": {},
   "outputs": [
    {
     "name": "stdout",
     "output_type": "stream",
     "text": [
      "(0,1) (1,2) (2,3) (3,4) (4,5) (5,6) (6,c) (7,a) (8,b) (9,11) (10,12) (11,13) "
     ]
    }
   ],
   "source": [
    "for i in range(len(list12)):\n",
    "    print(f'({i},{list12[i]})',end=' ')"
   ]
  },
  {
   "cell_type": "markdown",
   "id": "public-fashion",
   "metadata": {},
   "source": [
    "__2.turples__"
   ]
  },
  {
   "cell_type": "markdown",
   "id": "extreme-andrews",
   "metadata": {},
   "source": [
    "값 변경 불가, ( )로 표현 데이터 저장할 때 많이 사용"
   ]
  },
  {
   "cell_type": "code",
   "execution_count": 138,
   "id": "european-onion",
   "metadata": {},
   "outputs": [
    {
     "name": "stdout",
     "output_type": "stream",
     "text": [
      "(10, 20, 30, 'john', 40, 50)\n"
     ]
    }
   ],
   "source": [
    "t1=10,20,30,'john'\n",
    "t1+=(40,50)\n",
    "print(t1)"
   ]
  },
  {
   "cell_type": "code",
   "execution_count": 139,
   "id": "remarkable-mobile",
   "metadata": {},
   "outputs": [
    {
     "name": "stdout",
     "output_type": "stream",
     "text": [
      "(1, 2, 3, 4)\n",
      "3\n",
      "(1, 2, 3)\n"
     ]
    }
   ],
   "source": [
    "t2=tuple([1,2,3,4])\n",
    "print(t2)\n",
    "print(t2[2])\n",
    "print(t2[:3])"
   ]
  },
  {
   "cell_type": "code",
   "execution_count": 140,
   "id": "marine-particle",
   "metadata": {},
   "outputs": [
    {
     "name": "stdout",
     "output_type": "stream",
     "text": [
      "('kim', 'park', 'kwon', [80, 90, 100]) 4 [80, 90, 100]\n",
      "('kim', 'park', 'kwon', [80, 85, 100])\n"
     ]
    }
   ],
   "source": [
    "t3='kim','park','kwon',[80,90,100]\n",
    "print(t3,len(t3),t3[3])\n",
    "t3[3][1]=85\n",
    "print(t3)"
   ]
  },
  {
   "cell_type": "markdown",
   "id": "relevant-chair",
   "metadata": {},
   "source": [
    "__3. unpacking sequence: any sequence can be unpack__"
   ]
  },
  {
   "cell_type": "code",
   "execution_count": 17,
   "id": "russian-malta",
   "metadata": {},
   "outputs": [
    {
     "name": "stdout",
     "output_type": "stream",
     "text": [
      "2\n",
      "('kim', 'park', 'kwon') [80, 90, 100] <class 'tuple'> <class 'list'>\n"
     ]
    }
   ],
   "source": [
    "t4=(('kim','park','kwon'),[80,90,100])\n",
    "print(len(t4))\n",
    "last_name,grades=t4\n",
    "print(last_name, grades,type(last_name),type(grades))"
   ]
  },
  {
   "cell_type": "code",
   "execution_count": 144,
   "id": "wooden-viking",
   "metadata": {},
   "outputs": [
    {
     "name": "stdout",
     "output_type": "stream",
     "text": [
      "80 90 100\n",
      "W I F I\n"
     ]
    }
   ],
   "source": [
    "grade1,grade2,grade3=grades\n",
    "print(grade1, grade2,grade3)\n",
    "\n",
    "first,second,third,fourth='WIFI'\n",
    "print(first,second,third,fourth)\n",
    "#unpack은 AI에서 많이 사용"
   ]
  },
  {
   "cell_type": "markdown",
   "id": "deadly-country",
   "metadata": {},
   "source": [
    "__4.Enumerate: A built in function__"
   ]
  },
  {
   "cell_type": "code",
   "execution_count": 145,
   "id": "satellite-intent",
   "metadata": {},
   "outputs": [
    {
     "name": "stdout",
     "output_type": "stream",
     "text": [
      "[(0, 'red'), (1, 'yellow'), (2, 'blue'), (3, 'gray'), (4, 'white')]\n",
      "((0, 'red'), (1, 'yellow'), (2, 'blue'), (3, 'gray'), (4, 'white'))\n"
     ]
    }
   ],
   "source": [
    "colors=['red','yellow','blue','gray','white']\n",
    "print(list(enumerate(colors)))\n",
    "print(tuple(enumerate(colors)))\n",
    "# enumerate는 for반복문을 사용하지 않고 index와 값을 뽑아냄"
   ]
  },
  {
   "cell_type": "code",
   "execution_count": 147,
   "id": "naked-reasoning",
   "metadata": {},
   "outputs": [
    {
     "name": "stdout",
     "output_type": "stream",
     "text": [
      "0:red\n",
      "1:yellow\n",
      "2:blue\n",
      "3:gray\n",
      "4:white\n"
     ]
    }
   ],
   "source": [
    "for index,color in enumerate(colors):\n",
    "    print(f'{index}:{color}')"
   ]
  },
  {
   "cell_type": "code",
   "execution_count": 13,
   "id": "suited-technology",
   "metadata": {},
   "outputs": [
    {
     "name": "stdout",
     "output_type": "stream",
     "text": [
      "바 차트 출력\n",
      "Index   value   bar\n",
      "    0      19   *******************\n",
      "    1       8   ********\n",
      "    2      15   ***************\n",
      "    3       7   *******\n",
      "    4      11   ***********\n"
     ]
    }
   ],
   "source": [
    "bar=[19,8,15,7,11]\n",
    "print('바 차트 출력')\n",
    "print(f'Index{\"value\":>8}   bar')\n",
    "for index, value in enumerate(bar):\n",
    "    print(f'{index:>5}{value:>8}   {\"*\"*value}')"
   ]
  },
  {
   "cell_type": "markdown",
   "id": "polyphonic-lightweight",
   "metadata": {},
   "source": [
    "__5.Slicing with steps and midifying lists with slicing__"
   ]
  },
  {
   "cell_type": "code",
   "execution_count": 6,
   "id": "broken-ozone",
   "metadata": {},
   "outputs": [
    {
     "name": "stdout",
     "output_type": "stream",
     "text": [
      "[1, 2, 3, 4, 5, 6, 11, 'a', 'b', 11, 12, 13] 12\n",
      "[1, 2, 3, 4, 5, 6, 11, 'a', 'b', 11, 12, 13]\n",
      "[1, 3, 5, 11, 'b', 12]\n"
     ]
    }
   ],
   "source": [
    "print(list12, len(list12))\n",
    "print(list12[:]) #시작 끝 지정 안했으니 그냥 리스트 전체 출력\n",
    "print(list12[::2]) #2씩 증가(짝수 인덱스만 가져옴)"
   ]
  },
  {
   "cell_type": "code",
   "execution_count": 7,
   "id": "adverse-jamaica",
   "metadata": {},
   "outputs": [
    {
     "name": "stdout",
     "output_type": "stream",
     "text": [
      "['one', 'two', 'three', 4, 5, 6, 11, 'a', 'b', 11, 12, 13]\n",
      "[4, 5, 6, 11, 'a', 'b', 11, 12, 13]\n"
     ]
    }
   ],
   "source": [
    "list12[0:3]=['one','two','three']\n",
    "print(list12)\n",
    "list12[0:3]=[]#해당범위 구성요소 지워라\n",
    "print(list12)"
   ]
  },
  {
   "cell_type": "markdown",
   "id": "naval-thinking",
   "metadata": {},
   "source": [
    "__6.Deleting elements and lists__"
   ]
  },
  {
   "cell_type": "code",
   "execution_count": 9,
   "id": "comparable-circular",
   "metadata": {},
   "outputs": [
    {
     "name": "stdout",
     "output_type": "stream",
     "text": [
      "[4, 5, 6, 11, 'a', 'b', 11]\n",
      "[5, 11, 'b']\n",
      "[]\n"
     ]
    }
   ],
   "source": [
    "del list12[-1]\n",
    "print(list12)\n",
    "del list12[::2]\n",
    "print(list12)\n",
    "del list12[:]\n",
    "print(list12)"
   ]
  },
  {
   "cell_type": "code",
   "execution_count": 15,
   "id": "prompt-abortion",
   "metadata": {},
   "outputs": [
    {
     "name": "stdout",
     "output_type": "stream",
     "text": [
      "[19, 8, 15, 7, 11]\n"
     ]
    }
   ],
   "source": [
    "print(bar)\n",
    "del(bar)\n",
    "#print(bar)\n",
    "#리스트 전체 삭제 - 따라서 에러 발생"
   ]
  },
  {
   "cell_type": "markdown",
   "id": "small-tolerance",
   "metadata": {},
   "source": [
    "__7.Sorting lists with sorting method__"
   ]
  },
  {
   "cell_type": "code",
   "execution_count": 17,
   "id": "polish-interpretation",
   "metadata": {},
   "outputs": [
    {
     "data": {
      "text/plain": [
       "[1, 2, 3, 5, 6, 6, 7, 8, 9, 11, 15]"
      ]
     },
     "execution_count": 17,
     "metadata": {},
     "output_type": "execute_result"
    }
   ],
   "source": [
    "numbers=[7,2,5,6,3,6,1,9,8,15,11]\n",
    "numbers.sort() #오름차수 정렬\n",
    "numbers"
   ]
  },
  {
   "cell_type": "code",
   "execution_count": 19,
   "id": "solar-cream",
   "metadata": {},
   "outputs": [
    {
     "name": "stdout",
     "output_type": "stream",
     "text": [
      "[15, 11, 9, 8, 7, 6, 6, 5, 3, 2, 1]\n",
      "[1, 2, 3, 5, 6, 6, 7, 8, 9, 11, 15]\n"
     ]
    }
   ],
   "source": [
    "numbers=[7,2,5,6,3,6,1,9,8,15,11]\n",
    "numbers.sort(reverse = True)\n",
    "print(numbers)\n",
    "numbers.reverse() #인덱스를 역순으로 뒤바꿈\n",
    "print(numbers)"
   ]
  },
  {
   "cell_type": "code",
   "execution_count": 25,
   "id": "blessed-hardwood",
   "metadata": {},
   "outputs": [
    {
     "name": "stdout",
     "output_type": "stream",
     "text": [
      "J I love you, and do you love me? <class 'str'>\n",
      "['J', 'I', 'love', 'you,', 'and', 'do', 'you', 'love', 'me?'] <class 'list'>\n",
      "['J', 'I', 'do', 'and', 'you', 'me?', 'love', 'you,', 'love'] <class 'list'>\n",
      "['I', 'J', 'and', 'do', 'love', 'love', 'me?', 'you', 'you,']\n"
     ]
    }
   ],
   "source": [
    "a_string='J I love you, and do you love me?'\n",
    "print(a_string,type(a_string))\n",
    "a_string=a_string.split() #split은 단어별로 추출해서 리스트를 만듦\n",
    "print(a_string, type(a_string))\n",
    "a_string.sort(key=len) #단어 길이대로\n",
    "print(a_string, type(a_string))\n",
    "b_string=sorted(a_string)#알파벳 순서대로, 대문자 - 소문자 순으로 정렬\n",
    "print(b_string)"
   ]
  },
  {
   "cell_type": "code",
   "execution_count": 26,
   "id": "frequent-ticket",
   "metadata": {},
   "outputs": [
    {
     "name": "stdout",
     "output_type": "stream",
     "text": [
      "[7, 2, 5, 4, 3, 6, 1, 9, 8, 15, 11]\n",
      "[1, 2, 3, 4, 5, 6, 7, 8, 9, 11, 15]\n",
      "[11, 15, 8, 9, 1, 6, 3, 4, 5, 2, 7]\n",
      "[7, 2, 5, 4, 3, 6, 1, 9, 8, 15, 11]\n"
     ]
    }
   ],
   "source": [
    "x=[7,2,5,4,3,6,1,9,8,15,11]\n",
    "y=sorted(x)\n",
    "z=reversed(x)\n",
    "print(x)\n",
    "print(y)\n",
    "print(list(z))\n",
    "print(x)"
   ]
  },
  {
   "cell_type": "markdown",
   "id": "gothic-gazette",
   "metadata": {},
   "source": [
    "__8.Searching elements and useful list methods__"
   ]
  },
  {
   "cell_type": "code",
   "execution_count": 30,
   "id": "undefined-coaching",
   "metadata": {},
   "outputs": [
    {
     "name": "stdout",
     "output_type": "stream",
     "text": [
      "4\n",
      "False\n",
      "True\n",
      "True\n",
      "False\n"
     ]
    }
   ],
   "source": [
    "print(x.index(3))\n",
    "print(12 in x)\n",
    "print(12 not in x)\n",
    "print('love'in a_string)\n",
    "print('Love'in a_string)"
   ]
  },
  {
   "cell_type": "code",
   "execution_count": 34,
   "id": "demonstrated-tragedy",
   "metadata": {},
   "outputs": [
    {
     "name": "stdout",
     "output_type": "stream",
     "text": [
      "['J', 'I', 'do', 'and', 'you', 'me?', 'love', 'you,', 'love', 'hate', 'hate']\n",
      "['J', 'I', 'do', 'him', 'and', 'you', 'me?', 'love', 'you,', 'love', 'hate', 'hate']\n"
     ]
    }
   ],
   "source": [
    "print(a_string)\n",
    "a_string.insert(3,'him')\n",
    "print(a_string)"
   ]
  },
  {
   "cell_type": "code",
   "execution_count": 35,
   "id": "unable-cedar",
   "metadata": {},
   "outputs": [
    {
     "name": "stdout",
     "output_type": "stream",
     "text": [
      "['J', 'I', 'do', 'him', 'and', 'you', 'me?', 'love', 'you,', 'love', 'hate', 'hate', 'hate']\n",
      "['J', 'I', 'do', 'and', 'you', 'me?', 'love', 'you,', 'love', 'hate', 'hate', 'hate']\n"
     ]
    }
   ],
   "source": [
    "a_string.append('hate')\n",
    "print(a_string)\n",
    "a_string.remove('him')\n",
    "print(a_string)"
   ]
  },
  {
   "cell_type": "code",
   "execution_count": 36,
   "id": "medium-layout",
   "metadata": {},
   "outputs": [
    {
     "name": "stdout",
     "output_type": "stream",
     "text": [
      "['J', 'I', 'do', 'and', 'you', 'me?', 'love', 'you,', 'love', 'hate', 'hate', 'hate', 'I', 'and']\n",
      "['J', 'I', 'do', 'and', 'you', 'me?', 'love', 'you,', 'love', 'hate', 'hate', 'hate', 'I', 'and']\n"
     ]
    }
   ],
   "source": [
    "print(a_string+['I','and'])\n",
    "a_string.extend(['I','and'])\n",
    "print(a_string)"
   ]
  },
  {
   "cell_type": "code",
   "execution_count": 23,
   "id": "danish-intelligence",
   "metadata": {},
   "outputs": [
    {
     "name": "stdout",
     "output_type": "stream",
     "text": [
      "[]\n"
     ]
    }
   ],
   "source": [
    "a_string.clear()\n",
    "print(a_string)"
   ]
  },
  {
   "cell_type": "code",
   "execution_count": 38,
   "id": "alien-semiconductor",
   "metadata": {},
   "outputs": [
    {
     "name": "stdout",
     "output_type": "stream",
     "text": [
      "[7, 2, 5, 4, 3, 6, 1, 9, 8, 15, 11]\n",
      "[7, 2, 5, 4, 3, 6, 1, 9, 8, 15, 11]\n",
      "[7, 2, 5, 4, 3, 6, 1, 9, 8, 15, 11]\n"
     ]
    }
   ],
   "source": [
    "print(x)\n",
    "x_copied=x.copy()\n",
    "print(x_copied)\n",
    "print(x.copy())"
   ]
  },
  {
   "cell_type": "markdown",
   "id": "imported-invitation",
   "metadata": {},
   "source": [
    "__9. List comprehensions__"
   ]
  },
  {
   "cell_type": "code",
   "execution_count": 17,
   "id": "parallel-trainer",
   "metadata": {},
   "outputs": [
    {
     "name": "stdout",
     "output_type": "stream",
     "text": [
      "[0, 2, 4, 6, 8]\n",
      "[0, 2, 4, 6, 8]\n",
      "[1, 3, 5, 7, 9]\n"
     ]
    }
   ],
   "source": [
    "list_range=list(range(0,10,2))\n",
    "print(list_range)\n",
    "\n",
    "list_com=[i for i in range(0,10,2)]\n",
    "print(list_com)\n",
    "\n",
    "list_con=[i for i in range(0,10) if i %2!=0] #comprehension\n",
    "print(list_con)\n",
    "#list기능은 괄호 안에 for문을 넣어서 코딩을 간편하게 함"
   ]
  },
  {
   "cell_type": "code",
   "execution_count": 56,
   "id": "radio-tribe",
   "metadata": {},
   "outputs": [
    {
     "name": "stdout",
     "output_type": "stream",
     "text": [
      "[0, 4, 16, 36, 64]\n",
      "['J', 'I', 'DO', 'AND', 'YOU', 'ME?', 'LOVE', 'YOU,', 'LOVE']\n"
     ]
    }
   ],
   "source": [
    "list_op=[i**2 for i in range(0,10,2)]\n",
    "print(list_op)\n",
    "list_up=[i.upper() for i in a_string]\n",
    "print(list_up)"
   ]
  },
  {
   "cell_type": "code",
   "execution_count": 28,
   "id": "willing-rehabilitation",
   "metadata": {},
   "outputs": [
    {
     "name": "stdout",
     "output_type": "stream",
     "text": [
      "<generator object <genexpr> at 0x00000203CD6562C8>\n",
      "[4, 8, 20, 40, 68]\n"
     ]
    }
   ],
   "source": [
    "#생성자로부터 오브젝트를 만들기 위해 \n",
    "list_gen=(i**2 for i in range(10) if i %2==0)\n",
    "#틀만 만들어 놓은 것 ()이용\n",
    "print(list_gen)\n",
    "list_gen1=[i+4 for i in list_gen]\n",
    "print(list_gen1)"
   ]
  },
  {
   "cell_type": "markdown",
   "id": "incoming-candy",
   "metadata": {},
   "source": [
    "__10.lambda expression, map, and zip function__\n"
   ]
  },
  {
   "cell_type": "code",
   "execution_count": 45,
   "id": "bigger-germany",
   "metadata": {},
   "outputs": [
    {
     "name": "stdout",
     "output_type": "stream",
     "text": [
      "[0, 1, 2, 3, 4, 5, 6, 7, 8, 9, 10, 11, 12, 13, 14, 15, 16, 17, 18, 19, 20, 21, 22, 23, 24]\n"
     ]
    }
   ],
   "source": [
    "list3=list(range(0,25))\n",
    "print(list3)\n",
    "\n",
    "def is_multiple3(x): #3의 배수인지를 확인하는 함수\n",
    "    \"\"\"return true if x is a multiple of 3\"\"\"\n",
    "    return x%3==0"
   ]
  },
  {
   "cell_type": "code",
   "execution_count": 35,
   "id": "apparent-george",
   "metadata": {},
   "outputs": [
    {
     "data": {
      "text/plain": [
       "[0, 3, 6, 9, 12, 15, 18, 21, 24]"
      ]
     },
     "execution_count": 35,
     "metadata": {},
     "output_type": "execute_result"
    }
   ],
   "source": [
    "#filter\n",
    "list(filter(is_multiple3,list3))\n",
    "#함수 조건에 맞는 숫자\n",
    "#filter는 generator"
   ]
  },
  {
   "cell_type": "code",
   "execution_count": 47,
   "id": "lasting-corps",
   "metadata": {},
   "outputs": [
    {
     "data": {
      "text/plain": [
       "[0, 3, 6, 9, 12, 15, 18, 21, 24]"
      ]
     },
     "execution_count": 47,
     "metadata": {},
     "output_type": "execute_result"
    }
   ],
   "source": [
    "#filter보다 더 편한 것\n",
    "#lambda function - 무명함수\n",
    "#단 한개의 인풋만 받을 수 있음\n",
    "#lambda의 역할은 : 다음에 지정\n",
    "list4=list(filter(lambda x:x%3==0,list3))\n",
    "list4"
   ]
  },
  {
   "cell_type": "code",
   "execution_count": 54,
   "id": "protecting-valuable",
   "metadata": {},
   "outputs": [
    {
     "name": "stdout",
     "output_type": "stream",
     "text": [
      "[0, 9, 36, 81, 144, 225, 324, 441, 576]\n",
      "[0, 9, 36, 81, 144, 225, 324, 441, 576]\n"
     ]
    }
   ],
   "source": [
    "#map\n",
    "#이것도 generator\n",
    "print(list(map(lambda x: x**2,list4)))\n",
    "print([i**2 for i in list4])\n",
    "#밑 문장이 더 간단"
   ]
  },
  {
   "cell_type": "code",
   "execution_count": 58,
   "id": "level-placement",
   "metadata": {},
   "outputs": [
    {
     "data": {
      "text/plain": [
       "[0, 9, 36, 81, 144, 225, 324, 441, 576]"
      ]
     },
     "execution_count": 58,
     "metadata": {},
     "output_type": "execute_result"
    }
   ],
   "source": [
    "list(map(lambda x:x**2,filter(lambda x:x%3==0, list3)))"
   ]
  },
  {
   "cell_type": "code",
   "execution_count": 60,
   "id": "loose-diversity",
   "metadata": {},
   "outputs": [
    {
     "data": {
      "text/plain": [
       "[0, 9, 36, 81, 144, 225, 324, 441, 576]"
      ]
     },
     "execution_count": 60,
     "metadata": {},
     "output_type": "execute_result"
    }
   ],
   "source": [
    "[x**2 for x in list3 if x %3==0] #가장 간결, 좋은 코딩- comprehension잘 이용"
   ]
  },
  {
   "cell_type": "code",
   "execution_count": 10,
   "id": "organic-hammer",
   "metadata": {},
   "outputs": [
    {
     "name": "stdout",
     "output_type": "stream",
     "text": [
      "['Mini', 'Pony', 'Sonata', 'Santafe', 'elantra', 'Grandeur']\n",
      "['Grandeur', 'Mini', 'Pony', 'Santafe', 'Sonata', 'elantra']\n",
      "Grandeur elantra\n"
     ]
    },
    {
     "data": {
      "text/plain": [
       "'Sonata'"
      ]
     },
     "execution_count": 10,
     "metadata": {},
     "output_type": "execute_result"
    }
   ],
   "source": [
    "#key function\n",
    "car=['Santafe','Mini','Pony','Grandeur','Sonata','elantra']\n",
    "car.sort(key=len) #길이에 의해 오름차순\n",
    "print(car)\n",
    "print(sorted(car))\n",
    "print(min(car),max(car)) #아스키코드로 매칭해서 최대값 최소값 출력\n",
    "max(car,key=lambda i:i.lower()) #모든문자를 소문자로 통일"
   ]
  },
  {
   "cell_type": "code",
   "execution_count": 14,
   "id": "fixed-princeton",
   "metadata": {},
   "outputs": [
    {
     "name": "stdout",
     "output_type": "stream",
     "text": [
      "Ryu: 7\n",
      "Son: 20\n",
      "Park: 15\n",
      "Kwon: 7\n"
     ]
    }
   ],
   "source": [
    "#zip function - 두개의 배열을 쌍으로 뽑아낼 떄 사용\n",
    "players=['Ryu','Son','Park','Kwon']; goals=[7,20,15,7]\n",
    "for last_name,goal in zip(players,goals):\n",
    "    print(f'{last_name}: {goal}')"
   ]
  },
  {
   "cell_type": "markdown",
   "id": "illegal-passage",
   "metadata": {},
   "source": [
    "__11.Two and multi dimension lista__"
   ]
  },
  {
   "cell_type": "code",
   "execution_count": 20,
   "id": "experimental-oliver",
   "metadata": {},
   "outputs": [
    {
     "name": "stdout",
     "output_type": "stream",
     "text": [
      "[[1, 2, 3, 4], [5, 6, 7, 8], [9, 10, 11, 12]]\n",
      "1 2 3 4 \n",
      "5 6 7 8 \n",
      "9 10 11 12 \n"
     ]
    }
   ],
   "source": [
    "#2차원의 list\n",
    "a=[[1,2,3,4],[5,6,7,8],[9,10,11,12]]\n",
    "print(a)\n",
    "for row in a:\n",
    "    for column in row:\n",
    "        print(column, end=\" \")\n",
    "    print()\n",
    "#다차원 코딩은 numpy에서 더 많이 사용함"
   ]
  },
  {
   "cell_type": "markdown",
   "id": "funny-significance",
   "metadata": {},
   "source": [
    "\n",
    "\n",
    "## Python: Dictionaries and Sets"
   ]
  },
  {
   "cell_type": "markdown",
   "id": "behavioral-vietnamese",
   "metadata": {},
   "source": [
    "Dictionary key, value가 쌍으로 존재, indecxing부분적으로 가능\n",
    "\n",
    "Set 구성요소가 모여있음, 중복 불가능, 순서가 없어 indexing 불가능, 부분적으로 잘라내는 것도 불가능"
   ]
  },
  {
   "cell_type": "markdown",
   "id": "general-wings",
   "metadata": {},
   "source": [
    "__1. Dictionary__"
   ]
  },
  {
   "cell_type": "code",
   "execution_count": 1,
   "id": "running-background",
   "metadata": {},
   "outputs": [],
   "source": [
    "#Key값은 틀려도 value값은 같을 수 있음\n",
    "#Key값은 지울 수 있지만 바꿀 수 없음"
   ]
  },
  {
   "cell_type": "code",
   "execution_count": 13,
   "id": "effective-nebraska",
   "metadata": {},
   "outputs": [
    {
     "name": "stdout",
     "output_type": "stream",
     "text": [
      "{'Korea': 'kr', 'Japan': 'jp', 'Taiwan': 'tw', 'Finland': 'fi'}\n",
      "4\n",
      "kr\n"
     ]
    }
   ],
   "source": [
    "countries={'Korea':'kr','Japan':'jp','Taiwan':'tw','Finland':'fi'}\n",
    "print(countries)\n",
    "print(len(countries))\n",
    "print(countries['Korea'])"
   ]
  },
  {
   "cell_type": "code",
   "execution_count": 15,
   "id": "according-orange",
   "metadata": {},
   "outputs": [
    {
     "name": "stdout",
     "output_type": "stream",
     "text": [
      "True\n",
      "{'Korea': 82, 'Japan': 'jp', 'Taiwan': 'tw', 'Finland': 'fi'}\n",
      "{'Korea': 82, 'Japan': '81', 'Taiwan': 'tw', 'Finland': 'fi'}\n",
      "{'Korea': 82, 'Japan': '81', 'Taiwan': 'tw', 'Finland': 'fi', 'Canada': 'ca'}\n",
      "{'Korea': 82, 'Japan': '81', 'Taiwan': 'tw', 'Finland': 'fi', 'Canada': 'ca', 'China': 'cn'}\n",
      "{'Japan': '81', 'Taiwan': 'tw', 'Finland': 'fi', 'Canada': 'ca', 'China': 'cn'}\n"
     ]
    }
   ],
   "source": [
    "print('Korea'in countries)\n",
    "countries['Korea']=82\n",
    "print(countries)\n",
    "countries.update(Japan='81') #81을 문자로 집어넣음\n",
    "print(countries)\n",
    "countries['Canada']='ca'\n",
    "print(countries)\n",
    "countries.update(China='cn')\n",
    "print(countries)\n",
    "del countries['Korea']\n",
    "print(countries)"
   ]
  },
  {
   "cell_type": "code",
   "execution_count": 21,
   "id": "prescription-offer",
   "metadata": {},
   "outputs": [
    {
     "name": "stdout",
     "output_type": "stream",
     "text": [
      "None\n"
     ]
    }
   ],
   "source": [
    "print(countries.get('Korea'))\n",
    "# print(countries['korea']) - 에러 메세지 뜸, 따라서 get을 쓰면 에러메세지 없이 'none'이 떠서 없는 값을 찾을 수 있음"
   ]
  },
  {
   "cell_type": "markdown",
   "id": "architectural-plasma",
   "metadata": {},
   "source": [
    "__2.Dictionaries: Iterations and extraction__"
   ]
  },
  {
   "cell_type": "code",
   "execution_count": 24,
   "id": "adolescent-atlas",
   "metadata": {},
   "outputs": [
    {
     "name": "stdout",
     "output_type": "stream",
     "text": [
      "The country code of Korea is,kr.\n",
      "The country code of Japan is,jp.\n",
      "The country code of Taiwan is,tw.\n",
      "The country code of Finland is,fi.\n"
     ]
    }
   ],
   "source": [
    "countries={'Korea':'kr','Japan':'jp','Taiwan':'tw','Finland':'fi'}\n",
    "for country, code in countries.items():\n",
    "    print(f'The country code of {country} is,{code}.')"
   ]
  },
  {
   "cell_type": "code",
   "execution_count": 27,
   "id": "african-nothing",
   "metadata": {},
   "outputs": [
    {
     "name": "stdout",
     "output_type": "stream",
     "text": [
      "Korea Japan Taiwan Finland \n",
      "kr jp tw fi "
     ]
    }
   ],
   "source": [
    "for country in countries.keys():\n",
    "    print(country,end=' ')\n",
    "print()\n",
    "for code in countries.values():\n",
    "    print(code,end=' ')"
   ]
  },
  {
   "cell_type": "code",
   "execution_count": 37,
   "id": "adjacent-walker",
   "metadata": {},
   "outputs": [
    {
     "name": "stdout",
     "output_type": "stream",
     "text": [
      "['Korea', 'Japan', 'Taiwan', 'Finland']\n",
      "[82, 81, 886, 358]\n",
      "[('Korea', 82), ('Japan', 81)]\n"
     ]
    }
   ],
   "source": [
    "c_codes={'Korea':82,'Japan':81,'Taiwan':886,'Finland':358}\n",
    "print(list(c_codes.keys()))\n",
    "print(list(c_codes.values()))\n",
    "l_countries=list(c_codes.items())\n",
    "sliced_c=l_countries[:2]\n",
    "print(sliced_c) #인덱스 활용해 슬라이스 가능\n"
   ]
  },
  {
   "cell_type": "code",
   "execution_count": 39,
   "id": "headed-singles",
   "metadata": {},
   "outputs": [
    {
     "name": "stdout",
     "output_type": "stream",
     "text": [
      "The country code of Korea is, kr.\n",
      "The country code of Japan is, jp.\n",
      "The country code of Taiwan is, tw.\n",
      "The country code of Finland is, fi.\n"
     ]
    }
   ],
   "source": [
    "#items 사용하지 않고 추출할 수 있나? \n",
    "for i,j in zip(countries.keys(),countries.values()):\n",
    "    print(f'The country code of {i} is {j}.')"
   ]
  },
  {
   "cell_type": "markdown",
   "id": "connected-absorption",
   "metadata": {},
   "source": [
    "__3.Dictionaries:Sorting and comprehension expressions__"
   ]
  },
  {
   "cell_type": "code",
   "execution_count": 43,
   "id": "average-bathroom",
   "metadata": {},
   "outputs": [
    {
     "name": "stdout",
     "output_type": "stream",
     "text": [
      "['Finland', 'Japan', 'Korea', 'Taiwan']\n",
      "['Finland', 'Japan', 'Korea', 'Taiwan']\n",
      "[81, 82, 358, 886]\n",
      "[('Finland', 358), ('Japan', 81), ('Korea', 82), ('Taiwan', 886)]\n"
     ]
    }
   ],
   "source": [
    "print(sorted(c_codes))\n",
    "print(sorted(c_codes.keys()))\n",
    "print(sorted(c_codes.values()))\n",
    "print(sorted(c_codes.items()))"
   ]
  },
  {
   "cell_type": "code",
   "execution_count": 52,
   "id": "indie-kazakhstan",
   "metadata": {},
   "outputs": [
    {
     "name": "stdout",
     "output_type": "stream",
     "text": [
      "[(81, 'Japan'), (82, 'Korea'), (358, 'Finland'), (886, 'Taiwan')]\n",
      "{'japan': 27.666666666666668, 'Korea': 26.666666666666668}\n",
      "{'Japan': 81, 'Korea': 82, 'Finland': 358, 'Taiwan': 886}\n"
     ]
    }
   ],
   "source": [
    "#comprehension - switching key and value\n",
    "switched={code:country for country,code in c_codes.items()}\n",
    "print(sorted(switched.items()))\n",
    "\n",
    "#Making a new dictionary with a dictionary\n",
    "temperature={'japan':[23,34,26],'Korea':[22,33,25]}\n",
    "temp_mean={k:sum(v)/len(v) for k,v in temperature.items()}\n",
    "print(temp_mean)\n",
    "\n",
    "s_value={k:v for k,v in sorted(c_codes.items(),key=lambda i:i[1])} #value값을 key로 사용\n",
    "print(s_value)\n"
   ]
  },
  {
   "cell_type": "code",
   "execution_count": 3,
   "id": "graduate-description",
   "metadata": {},
   "outputs": [],
   "source": [
    "#단어별 추출\n",
    "dream=\"\"\"I have a dream I have a dream that one day this nation will rise up and live out the true\n",
    "meaning of its creed we hold these truths to be self－evident; that all men are created equal.\n",
    "I have a dream that one day on the red hills of Georgia，the sons of former slaves and sons of\n",
    "former slave owners will be able to sit down together at the table of brotherhood\n",
    "I have a dream that one day，even the state of Mississippi，a desert state sweltering with the heat\n",
    "of injustice，sweltering with the heat of oppression，will be transformed into an oasis of freedom\n",
    "and justice\n",
    "I have a dream my four little children will one day live in a nation where they will not be\n",
    "judged by the color of their skin but by the content of their character\n",
    "I have a dream today\n",
    "I have a dream that one day, down in Alabama, with its vicious racists with its governor having\n",
    "his lips dripping with the words of interposition and nulllification one day right there\n",
    "in Albama little black boys and black girls will be able to join hands with little white boys\n",
    "and white girls as sisters and brothers.\"\"\""
   ]
  },
  {
   "cell_type": "code",
   "execution_count": 4,
   "id": "decreased-commercial",
   "metadata": {},
   "outputs": [
    {
     "name": "stdout",
     "output_type": "stream",
     "text": [
      "{'of': 12, 'the': 9, 'a': 8, 'I': 7, 'have': 7, 'dream': 7, 'and': 7, 'one': 6, 'with': 6, 'that': 5, 'will': 5, 'be': 5, 'day': 4, 'its': 3, 'to': 3, 'little': 3, 'in': 3, 'nation': 2, 'live': 2, 'sons': 2, 'former': 2, 'able': 2, 'down': 2, 'state': 2, 'heat': 2, 'by': 2, 'their': 2, 'black': 2, 'boys': 2, 'girls': 2, 'white': 2, 'this': 1, 'rise': 1, 'up': 1, 'out': 1, 'true': 1, 'meaning': 1, 'creed': 1, 'we': 1, 'hold': 1, 'these': 1, 'truths': 1, 'self－evident;': 1, 'all': 1, 'men': 1, 'are': 1, 'created': 1, 'equal.': 1, 'on': 1, 'red': 1, 'hills': 1, 'Georgia，the': 1, 'slaves': 1, 'slave': 1, 'owners': 1, 'sit': 1, 'together': 1, 'at': 1, 'table': 1, 'brotherhood': 1, 'day，even': 1, 'Mississippi，a': 1, 'desert': 1, 'sweltering': 1, 'injustice，sweltering': 1, 'oppression，will': 1, 'transformed': 1, 'into': 1, 'an': 1, 'oasis': 1, 'freedom': 1, 'justice': 1, 'my': 1, 'four': 1, 'children': 1, 'where': 1, 'they': 1, 'not': 1, 'judged': 1, 'color': 1, 'skin': 1, 'but': 1, 'content': 1, 'character': 1, 'today': 1, 'day,': 1, 'Alabama,': 1, 'vicious': 1, 'racists': 1, 'governor': 1, 'having': 1, 'his': 1, 'lips': 1, 'dripping': 1, 'words': 1, 'interposition': 1, 'nulllification': 1, 'right': 1, 'there': 1, 'Albama': 1, 'join': 1, 'hands': 1, 'as': 1, 'sisters': 1, 'brothers.': 1}\n"
     ]
    }
   ],
   "source": [
    "dream_words=dream.split() #split은 문장을 단어로 분리, space로 구분\n",
    "wordlist={}\n",
    "for word in dream_words:\n",
    "    if word in wordlist:\n",
    "        wordlist[word] +=1\n",
    "    else:\n",
    "        wordlist[word]=1\n",
    "#print(wordlist, len(wordlist))\n",
    "swl_byvalue={k:v for k,v in sorted(wordlist.items(),key=lambda i:i[1],reverse=True)}\n",
    "print(swl_byvalue)\n",
    "#내림차순 정리"
   ]
  },
  {
   "cell_type": "code",
   "execution_count": 11,
   "id": "approved-direction",
   "metadata": {},
   "outputs": [
    {
     "name": "stdout",
     "output_type": "stream",
     "text": [
      "WORD            COUNT\n",
      "of              12\n",
      "the             9\n",
      "a               8\n",
      "I               7\n",
      "have            7\n",
      "dream           7\n",
      "and             7\n",
      "\n",
      "Number of unique words:  105\n"
     ]
    }
   ],
   "source": [
    "print(f'{\"WORD\":<16}COUNT')\n",
    "\n",
    "for word,count in swl_byvalue.items():\n",
    "        if count>=7:\n",
    "            print(f'{word:<16}{count}')\n",
    "print('\\nNumber of unique words: ', len(wordlist))"
   ]
  },
  {
   "cell_type": "code",
   "execution_count": 5,
   "id": "random-indonesia",
   "metadata": {},
   "outputs": [
    {
     "name": "stdout",
     "output_type": "stream",
     "text": [
      "Counter({'of': 12, 'the': 9, 'a': 8, 'I': 7, 'have': 7, 'dream': 7, 'and': 7, 'one': 6, 'with': 6, 'that': 5, 'will': 5, 'be': 5, 'day': 4, 'its': 3, 'to': 3, 'little': 3, 'in': 3, 'nation': 2, 'live': 2, 'sons': 2, 'former': 2, 'able': 2, 'down': 2, 'state': 2, 'heat': 2, 'by': 2, 'their': 2, 'black': 2, 'boys': 2, 'girls': 2, 'white': 2, 'this': 1, 'rise': 1, 'up': 1, 'out': 1, 'true': 1, 'meaning': 1, 'creed': 1, 'we': 1, 'hold': 1, 'these': 1, 'truths': 1, 'self－evident;': 1, 'all': 1, 'men': 1, 'are': 1, 'created': 1, 'equal.': 1, 'on': 1, 'red': 1, 'hills': 1, 'Georgia，the': 1, 'slaves': 1, 'slave': 1, 'owners': 1, 'sit': 1, 'together': 1, 'at': 1, 'table': 1, 'brotherhood': 1, 'day，even': 1, 'Mississippi，a': 1, 'desert': 1, 'sweltering': 1, 'injustice，sweltering': 1, 'oppression，will': 1, 'transformed': 1, 'into': 1, 'an': 1, 'oasis': 1, 'freedom': 1, 'justice': 1, 'my': 1, 'four': 1, 'children': 1, 'where': 1, 'they': 1, 'not': 1, 'judged': 1, 'color': 1, 'skin': 1, 'but': 1, 'content': 1, 'character': 1, 'today': 1, 'day,': 1, 'Alabama,': 1, 'vicious': 1, 'racists': 1, 'governor': 1, 'having': 1, 'his': 1, 'lips': 1, 'dripping': 1, 'words': 1, 'interposition': 1, 'nulllification': 1, 'right': 1, 'there': 1, 'Albama': 1, 'join': 1, 'hands': 1, 'as': 1, 'sisters': 1, 'brothers.': 1})\n",
      "WORD            COUNT\n",
      "I               7\n",
      "have            7\n",
      "a               8\n",
      "dream           7\n",
      "and             7\n",
      "the             9\n",
      "of              12\n",
      "\n",
      "Number of unique words:  105\n"
     ]
    }
   ],
   "source": [
    "from collections import Counter\n",
    "wordlist1=Counter(dream_words)\n",
    "print(wordlist1)\n",
    "\n",
    "print(f'{\"WORD\":<16}COUNT')\n",
    "for word,count in wordlist1.items():\n",
    "        if count>=7:\n",
    "            print(f'{word:<16}{count}')\n",
    "print('\\nNumber of unique words: ', len(wordlist))"
   ]
  },
  {
   "cell_type": "markdown",
   "id": "august-batman",
   "metadata": {},
   "source": [
    "__4. Sets: creation and modification__"
   ]
  },
  {
   "cell_type": "code",
   "execution_count": 4,
   "id": "guilty-pleasure",
   "metadata": {},
   "outputs": [
    {
     "name": "stdout",
     "output_type": "stream",
     "text": [
      "{'February', 'May', 'June', 'April', 'March', 'January'}\n"
     ]
    }
   ],
   "source": [
    "Months= {'January','February','February','March','April','May','June'}\n",
    "print(Months)\n",
    "#set은 순서가 없다. 중복 불허"
   ]
  },
  {
   "cell_type": "code",
   "execution_count": 3,
   "id": "separated-surname",
   "metadata": {},
   "outputs": [
    {
     "name": "stdout",
     "output_type": "stream",
     "text": [
      "{0, 1, 2, 3, 4, 5, 6, 7, 8, 9, 10, 11, 12, 13, 14}\n",
      "15\n",
      "True\n"
     ]
    }
   ],
   "source": [
    "digits=set(list(range(10))+list(range(5,15)))\n",
    "print(digits)\n",
    "print(len(digits))\n",
    "print(10 in digits)"
   ]
  },
  {
   "cell_type": "code",
   "execution_count": 5,
   "id": "comprehensive-timeline",
   "metadata": {},
   "outputs": [
    {
     "name": "stdout",
     "output_type": "stream",
     "text": [
      "{0, 1, 2, 3, 4, 5, 6, 7, 9, 10, 11, 12, 13, 14}\n"
     ]
    }
   ],
   "source": [
    "digits.remove(8)\n",
    "print(digits)"
   ]
  },
  {
   "cell_type": "markdown",
   "id": "flush-example",
   "metadata": {},
   "source": [
    "__5.Sets:Operations and comprehension__"
   ]
  },
  {
   "cell_type": "code",
   "execution_count": 11,
   "id": "animal-growth",
   "metadata": {},
   "outputs": [
    {
     "name": "stdout",
     "output_type": "stream",
     "text": [
      "True\n",
      "True\n",
      "{1, 2, 3, 4, 5, 6, 7}\n",
      "{1, 2, 3}\n",
      "set()\n",
      "{4, 5, 6, 7}\n"
     ]
    }
   ],
   "source": [
    "print({1,2,3}<={1,2,3,4,5,6,})\n",
    "print({1,2,3}<={1,2,3})\n",
    "print({1,2,3}| {1,2,3,4,5,6,7})\n",
    "print({1,2,3}&{1,2,3,4,5,6,7})\n",
    "print({1,2,3}-{1,2,3,4,5,6,7})\n",
    "print({1,2,3,4,5,6,7}-{1,2,3})"
   ]
  },
  {
   "cell_type": "code",
   "execution_count": 7,
   "id": "rubber-listening",
   "metadata": {},
   "outputs": [
    {
     "name": "stdout",
     "output_type": "stream",
     "text": [
      "{1, 3, 5, 7, 9, 11, 13}\n"
     ]
    }
   ],
   "source": [
    "odds={i for i in digits if i%2!=0}\n",
    "print(odds)"
   ]
  },
  {
   "cell_type": "markdown",
   "id": "catholic-virgin",
   "metadata": {},
   "source": [
    "## Python:Numpy "
   ]
  },
  {
   "cell_type": "code",
   "execution_count": 8,
   "id": "weighted-champagne",
   "metadata": {},
   "outputs": [],
   "source": [
    "#텐서플로우는 값이 변화과정을 시각화하여 관찰 할 수 있다는 장점이 있다\n",
    "#AI코딩에는 넘파이 보다는 텐서플로우 많이 사용한다\n",
    "#PANDAS는 빅데이터 월드의 특징 - 버라이어티(데이터 타입 다양)-->판다스 유리(다양한 형태 데이터 쉽게 다룰 수 있음)"
   ]
  },
  {
   "cell_type": "markdown",
   "id": "proud-needle",
   "metadata": {},
   "source": [
    "__1.Numpy: type, dtype, shape, dimension, size__"
   ]
  },
  {
   "cell_type": "code",
   "execution_count": 9,
   "id": "advisory-cooler",
   "metadata": {},
   "outputs": [],
   "source": [
    "#숫자를 주로 다룸, 모든 구성요소가 같은 크기의 공간을 차지함, 별도의 라이브러리로 존재"
   ]
  },
  {
   "cell_type": "code",
   "execution_count": 10,
   "id": "functional-wright",
   "metadata": {},
   "outputs": [
    {
     "name": "stdout",
     "output_type": "stream",
     "text": [
      "[ 7  8  9 10 11]\n",
      "object type: <class 'numpy.ndarray'>\n",
      "  data type: int32\n",
      "      shape: (5,)\n",
      "  dimension: 1\n",
      " array size: 5\n",
      "(1, 5)\n"
     ]
    }
   ],
   "source": [
    "import numpy as np\n",
    "a=np.array([7,8,9,10,11])\n",
    "print(f'{a}\\n{\"object type:\":>12} {type(a)}\\n{\"data type:\":>12} {a.dtype}\\n{\"shape:\":>12} \\\n",
    "{a.shape}\\n{\"dimension:\":>12} {a.ndim}\\n{\"array size:\":>12} {a.size}')\n",
    "a1 =np.array([a]); print(a1.shape) #[[7 8 9 10 11] - 2차원\n",
    "#대괄호 개수로 데이터의 차원을 파악할 수 있음"
   ]
  },
  {
   "cell_type": "code",
   "execution_count": 2,
   "id": "mounted-hello",
   "metadata": {},
   "outputs": [
    {
     "name": "stdout",
     "output_type": "stream",
     "text": [
      "[[ 1.   2.   3.   4.   5. ]\n",
      " [ 8.   9.  10.  11.  12.2]]\n",
      "object type: <class 'numpy.ndarray'>\n",
      "  date type: float64\n",
      "      shape: (2, 5)\n",
      "  dimension: 2\n",
      " array size: 10\n"
     ]
    }
   ],
   "source": [
    "b=np.array([[1.0,2,3,4,5],[8,9,10,11,12.2]])\n",
    "print(f'{b}\\n{\"object type:\":>12} {type(b)}\\n{\"date type:\":>12} {b.dtype}\\n{\"shape:\":>12} \\\n",
    "{b.shape}\\n{\"dimension:\":>12} {b.ndim}\\n{\"array size:\":>12} {b.size}')"
   ]
  },
  {
   "cell_type": "code",
   "execution_count": 14,
   "id": "sharing-upset",
   "metadata": {},
   "outputs": [
    {
     "name": "stdout",
     "output_type": "stream",
     "text": [
      "[[[ 1  2  3  4  5]\n",
      "  [ 8  9 10 11 12]]\n",
      "\n",
      " [[ 4  5  6  7  8]\n",
      "  [10 11 12 13 14]]]\n",
      "object type: <class 'numpy.ndarray'>\n",
      "  date type: int32\n",
      "      shape: (2, 2, 5)\n",
      "  dimension: 3\n",
      " array size: 20\n"
     ]
    }
   ],
   "source": [
    "c=np.array([[[1,2,3,4,5],[8,9,10,11,12]],[[4,5,6,7,8],[10,11,12,13,14]]])\n",
    "print(f'{c}\\n{\"object type:\":>12} {type(c)}\\n{\"date type:\":>12} {c.dtype}\\n{\"shape:\":>12} \\\n",
    "{c.shape}\\n{\"dimension:\":>12} {c.ndim}\\n{\"array size:\":>12} {c.size}')\n",
    "#shape은 높은 차원부터 나타냄"
   ]
  },
  {
   "cell_type": "code",
   "execution_count": 19,
   "id": "pressing-college",
   "metadata": {},
   "outputs": [
    {
     "name": "stdout",
     "output_type": "stream",
     "text": [
      "[[[ 1  2  3  4  5]\n",
      "  [ 8  9 10 11 12]]]\n",
      "object type: <class 'numpy.ndarray'>\n",
      "  date type: int32\n",
      "      shape: (1, 2, 5)\n",
      "  dimension: 3\n",
      " array size: 10\n"
     ]
    }
   ],
   "source": [
    "ac1=np.array([[[1,2,3,4,5],[8,9,10,11,12]]])\n",
    "print(f'{ac1}\\n{\"object type:\":>12} {type(ac1)}\\n{\"date type:\":>12} {ac1.dtype}\\n{\"shape:\":>12} \\\n",
    "{ac1.shape}\\n{\"dimension:\":>12} {ac1.ndim}\\n{\"array size:\":>12} {ac1.size}')\n"
   ]
  },
  {
   "cell_type": "code",
   "execution_count": 20,
   "id": "funny-transcript",
   "metadata": {},
   "outputs": [
    {
     "name": "stdout",
     "output_type": "stream",
     "text": [
      "[[[1 2 3 4 5]]]\n",
      "object type: <class 'numpy.ndarray'>\n",
      "  date type: int32\n",
      "      shape: (1, 1, 5)\n",
      "  dimension: 3\n",
      " array size: 5\n"
     ]
    }
   ],
   "source": [
    "ac2=np.array([[[1,2,3,4,5]]])\n",
    "print(f'{ac2}\\n{\"object type:\":>12} {type(ac2)}\\n{\"date type:\":>12} {ac2.dtype}\\n{\"shape:\":>12} \\\n",
    "{ac2.shape}\\n{\"dimension:\":>12} {ac2.ndim}\\n{\"array size:\":>12} {ac2.size}')"
   ]
  },
  {
   "cell_type": "markdown",
   "id": "boring-reservoir",
   "metadata": {},
   "source": [
    "__2.Numpy:special arrays and indexing__"
   ]
  },
  {
   "cell_type": "code",
   "execution_count": 21,
   "id": "valued-belle",
   "metadata": {},
   "outputs": [
    {
     "name": "stdout",
     "output_type": "stream",
     "text": [
      "[[0. 0. 0.]\n",
      " [0. 0. 0.]]\n",
      "[[1 1 1 1]\n",
      " [1 1 1 1]]\n",
      "[[7 7 7 7 7]\n",
      " [7 7 7 7 7]]\n",
      "[[1. 0. 0.]\n",
      " [0. 1. 0.]\n",
      " [0. 0. 1.]]\n"
     ]
    }
   ],
   "source": [
    "a_zeros=np.zeros((2,3))\n",
    "print(a_zeros)\n",
    "a_ones=np.ones((2,4),dtype=int)\n",
    "print(a_ones)\n",
    "a_full=np.full((2,5),7)\n",
    "print(a_full)\n",
    "print(np.eye(3)) #identify matrix"
   ]
  },
  {
   "cell_type": "code",
   "execution_count": 24,
   "id": "horizontal-magic",
   "metadata": {},
   "outputs": [
    {
     "name": "stdout",
     "output_type": "stream",
     "text": [
      "[[[0.91934408 0.10772842 0.55371059 0.2013876 ]\n",
      "  [0.53322888 0.43312868 0.79416493 0.84972077]\n",
      "  [0.36329134 0.79703323 0.87259572 0.89367716]]\n",
      "\n",
      " [[0.56359228 0.47635735 0.18959091 0.49796206]\n",
      "  [0.8828811  0.30756276 0.97027364 0.01354883]\n",
      "  [0.43238792 0.71165296 0.43245964 0.62187242]]]\n",
      "float64\n"
     ]
    }
   ],
   "source": [
    "a_ran=np.random.random((2,3,4))\n",
    "print(f'{a_ran}\\n{a_ran.dtype}')"
   ]
  },
  {
   "cell_type": "code",
   "execution_count": 29,
   "id": "innovative-property",
   "metadata": {},
   "outputs": [
    {
     "name": "stdout",
     "output_type": "stream",
     "text": [
      "[[[ 1  2  3  4  5]\n",
      "  [ 8  9 10 11 12]]\n",
      "\n",
      " [[ 4  5  6  7  8]\n",
      "  [10 11 12 13 14]]]\n",
      "8\n",
      "8\n",
      "5\n"
     ]
    }
   ],
   "source": [
    "print(c)\n",
    "print(c[1,0,4])\n",
    "print(c[1][0][4])\n",
    "print(c[0,0,4])"
   ]
  },
  {
   "cell_type": "markdown",
   "id": "beneficial-tract",
   "metadata": {},
   "source": [
    "__3.Numpy:flatting and making arrays function__"
   ]
  },
  {
   "cell_type": "code",
   "execution_count": 16,
   "id": "romantic-finance",
   "metadata": {},
   "outputs": [
    {
     "name": "stdout",
     "output_type": "stream",
     "text": [
      "[[[ 1  2  3  4  5]\n",
      "  [ 8  9 10 11 12]]\n",
      "\n",
      " [[ 4  5  6  7  8]\n",
      "  [10 11 12 13 14]]]\n",
      "[1, 2, 3, 4, 5, 8, 9, 10, 11, 12, 4, 5, 6, 7, 8, 10, 11, 12, 13, 14]\n",
      "[ 1  2  3  4  5  8  9 10 11 12  4  5  6  7  8 10 11 12 13 14]\n",
      "[ 1  2  3  4  5  8  9 10 11 12  4  5  6  7  8 10 11 12 13 14]\n"
     ]
    }
   ],
   "source": [
    "#flatting은 다차원 배열을 일차원 배열로 바꿔줌, 머신러닝 딥러닝에서 많이 사용\n",
    "print(c)\n",
    "l=[]\n",
    "for i in c:\n",
    "    for j in i:\n",
    "        for k in j:\n",
    "            l.append(k) #append-추가\n",
    "print(f'{l}\\n{np.array(l)}')\n",
    "\n",
    "print(np.array(c.flat))"
   ]
  },
  {
   "cell_type": "code",
   "execution_count": 17,
   "id": "going-testing",
   "metadata": {},
   "outputs": [
    {
     "name": "stdout",
     "output_type": "stream",
     "text": [
      "[ 0  1  2  3  4  5  6  7  8  9 10 11 12 13 14 15 16 17 18 19 20]\n",
      "<class 'numpy.ndarray'>\n",
      "[[[ 0  1  2  3  4  5  6]\n",
      "  [ 7  8  9 10 11 12 13]\n",
      "  [14 15 16 17 18 19 20]]]\n"
     ]
    }
   ],
   "source": [
    "g=np.arange(21) #arange->array range\n",
    "print(f'{g}\\n{type(g)}')\n",
    "print(g.reshape(1,3,7))"
   ]
  },
  {
   "cell_type": "code",
   "execution_count": 39,
   "id": "joint-excitement",
   "metadata": {},
   "outputs": [
    {
     "name": "stdout",
     "output_type": "stream",
     "text": [
      "[ 5  7  9 11 13 15 17 19]\n",
      "[[ 1  2  3  4  5  6  7  8  9 10]\n",
      " [11 12 13 14 15 16 17 18 19 20]]\n"
     ]
    }
   ],
   "source": [
    "h=np.arange(5,21,2)\n",
    "print(h)\n",
    "print(np.arange(1,21).reshape(2,10)) #chained method calls"
   ]
  },
  {
   "cell_type": "code",
   "execution_count": 3,
   "id": "confidential-internship",
   "metadata": {},
   "outputs": [
    {
     "name": "stdout",
     "output_type": "stream",
     "text": [
      "[0.  0.1 0.2 0.3 0.4 0.5 0.6 0.7 0.8 0.9 1. ]\n",
      "(11,)\n",
      "11\n"
     ]
    }
   ],
   "source": [
    "a_ss=np.linspace(0,1,11) #;inspace는 마지막 숫자도 포함됨 (1)\n",
    "print(f'{a_ss}\\n{a_ss.shape}\\n{a_ss.size}')"
   ]
  },
  {
   "cell_type": "markdown",
   "id": "conscious-contents",
   "metadata": {},
   "source": [
    "__4.Numpy:Array operation__\n",
    "\n",
    " numpy이용한 array연산"
   ]
  },
  {
   "cell_type": "code",
   "execution_count": 19,
   "id": "ultimate-airfare",
   "metadata": {},
   "outputs": [
    {
     "name": "stdout",
     "output_type": "stream",
     "text": [
      "(3, 2) (3, 2)\n",
      "[[ 4  6]\n",
      " [ 8 10]\n",
      " [12 14]]\n",
      "[[ 2  4]\n",
      " [ 6  8]\n",
      " [10 12]]\n"
     ]
    }
   ],
   "source": [
    "import numpy as np\n",
    "xa=np.array([[1,2],[3,4],[5,6]])\n",
    "xb=np.array([[3,4],[5,6],[7,8]])\n",
    "print(xa.shape,xb.shape)\n",
    "print(f'{xa+xb}\\n{xa*2}') #dimension일치하면 연산 가능"
   ]
  },
  {
   "cell_type": "code",
   "execution_count": 20,
   "id": "valid-confirmation",
   "metadata": {},
   "outputs": [
    {
     "name": "stdout",
     "output_type": "stream",
     "text": [
      "[[ 4  6]\n",
      " [ 8 10]\n",
      " [12 14]]\n",
      "[[-2 -2]\n",
      " [-2 -2]\n",
      " [-2 -2]]\n",
      "[[ 3  8]\n",
      " [15 24]\n",
      " [35 48]]\n",
      "[[1.         1.41421356]\n",
      " [1.73205081 2.        ]\n",
      " [2.23606798 2.44948974]]\n"
     ]
    }
   ],
   "source": [
    "print(np.add(xa,xb))\n",
    "print(np.subtract(xa,xb))\n",
    "print(np.multiply(xa,xb))\n",
    "print(np.sqrt(xa))"
   ]
  },
  {
   "cell_type": "code",
   "execution_count": 21,
   "id": "informational-competition",
   "metadata": {},
   "outputs": [
    {
     "name": "stdout",
     "output_type": "stream",
     "text": [
      "[[1.]\n",
      " [1.]] (2, 1) 2\n",
      "[[ 3.]\n",
      " [ 7.]\n",
      " [11.]]\n",
      "[[ 7.]\n",
      " [11.]\n",
      " [15.]]\n"
     ]
    }
   ],
   "source": [
    "xc=np.ones((2,1))\n",
    "print(xc,xc.shape,xc.ndim)\n",
    "print(xa.dot(xc))\n",
    "print(np.dot(xb,xc))"
   ]
  },
  {
   "cell_type": "code",
   "execution_count": 23,
   "id": "abstract-tumor",
   "metadata": {},
   "outputs": [
    {
     "name": "stdout",
     "output_type": "stream",
     "text": [
      "[[1 2]\n",
      " [1 2]]\n",
      "[[ 3  6]\n",
      " [ 7 14]\n",
      " [11 22]]\n",
      "[[ 7 14]\n",
      " [11 22]\n",
      " [15 30]]\n"
     ]
    }
   ],
   "source": [
    "xd=np.array([[1,2],[1,2]]); print(xd)\n",
    "print(np.dot(xa,xd)); print(np.dot(xb,xd))"
   ]
  },
  {
   "cell_type": "code",
   "execution_count": 6,
   "id": "dated-lottery",
   "metadata": {},
   "outputs": [
    {
     "name": "stdout",
     "output_type": "stream",
     "text": [
      "[[1 3 5]\n",
      " [2 4 6]]\n",
      "[[ 6  7]\n",
      " [ 8  9]\n",
      " [10 11]]\n",
      "[[3 4]\n",
      " [5 6]\n",
      " [7 8]]\n",
      "[[ 6  7]\n",
      " [ 8  9]\n",
      " [10 11]]\n"
     ]
    }
   ],
   "source": [
    "print(xa.T)\n",
    "print(xb+3)\n",
    "print(xb)\n",
    "xb+=3\n",
    "print(xb)"
   ]
  },
  {
   "cell_type": "markdown",
   "id": "ceramic-copyright",
   "metadata": {},
   "source": [
    "__5. Numpy: Broadcasting__\n",
    "\n",
    "차원이 다른 행렬간의 연산"
   ]
  },
  {
   "cell_type": "code",
   "execution_count": 25,
   "id": "focal-indonesian",
   "metadata": {},
   "outputs": [
    {
     "name": "stdout",
     "output_type": "stream",
     "text": [
      "[[1 2 3]\n",
      " [4 5 6]\n",
      " [7 8 9]]\n",
      "[[1.]\n",
      " [1.]\n",
      " [1.]]\n",
      "[[ 2.  3.  4.]\n",
      " [ 5.  6.  7.]\n",
      " [ 8.  9. 10.]]\n",
      "[[2 2 2]]\n",
      "[[ 3  4  5]\n",
      " [ 6  7  8]\n",
      " [ 9 10 11]]\n"
     ]
    }
   ],
   "source": [
    "ya=np.arange(1,10).reshape(3,3); print(ya)\n",
    "yv1=np.ones((3,1)); print(yv1)\n",
    "yb=ya+yv1; print(yb)\n",
    "yv2=np.full((1,3),2); print(yv2)\n",
    "yc=ya+yv2; print(yc)"
   ]
  },
  {
   "cell_type": "markdown",
   "id": "lined-leonard",
   "metadata": {},
   "source": [
    "__6.Numpy: Summary Statistics__"
   ]
  },
  {
   "cell_type": "code",
   "execution_count": 28,
   "id": "activated-australia",
   "metadata": {},
   "outputs": [
    {
     "name": "stdout",
     "output_type": "stream",
     "text": [
      "63 7.0 3 11 6.666666666666667 2.581988897471611\n",
      "8 0\n",
      "[6. 7. 8.] [ 4.  7. 10.]\n"
     ]
    }
   ],
   "source": [
    "print(yc.sum(),yc.mean(),yc.min(),yc.max(),yc.var(),yc.std())\n",
    "print(yc.argmax(),yc.argmin()) #최대, 최솟값의 위치 정보 (차원 고려x)\n",
    "print(yc.mean(axis=0),yc.mean(axis=1))\n",
    "#mean은 평균값, axis=0(vertical평균),axis=1(horizental평균)"
   ]
  },
  {
   "cell_type": "markdown",
   "id": "smaller-stretch",
   "metadata": {},
   "source": [
    "__7. Numpy: Slicing, Flatten and Stacking__\n",
    "\n",
    "slicing"
   ]
  },
  {
   "cell_type": "code",
   "execution_count": 16,
   "id": "skilled-productivity",
   "metadata": {},
   "outputs": [
    {
     "name": "stdout",
     "output_type": "stream",
     "text": [
      "[[ 0  1  2  3  4  5  6]\n",
      " [ 7  8  9 10 11 12 13]\n",
      " [14 15 16 17 18 19 20]]\n",
      "[0 1 2 3 4 5 6] [0 1 2 3]\n",
      "[[ 0  1  2  3  4  5  6]\n",
      " [ 7  8  9 10 11 12 13]]\n",
      "[[0 1 2]\n",
      " [7 8 9]]\n"
     ]
    }
   ],
   "source": [
    "karray=np.arange(21).reshape(3,7); print(karray)\n",
    "print(karray[0], karray[0,:4])\n",
    "print(karray[:2])\n",
    "print(karray[:2,:3])"
   ]
  },
  {
   "cell_type": "code",
   "execution_count": 32,
   "id": "pharmaceutical-pharmacology",
   "metadata": {},
   "outputs": [
    {
     "name": "stdout",
     "output_type": "stream",
     "text": [
      "[[ 0  1  2  3  4  5  6]\n",
      " [ 7  8  9 10 11 12 13]\n",
      " [14 15 16 17 18 19 20]]\n",
      "[[ 0  1  2  3  4  5  6]\n",
      " [14 15 16 17 18 19 20]]\n",
      "[[ 1  5]\n",
      " [ 8 12]\n",
      " [15 19]]\n",
      "[[ 1  2  3  4]\n",
      " [ 8  9 10 11]\n",
      " [15 16 17 18]]\n"
     ]
    }
   ],
   "source": [
    "karray=np.arange(21).reshape(3,7); print(karray)\n",
    "print(karray[[0,2]])\n",
    "print(karray[:,[1,5]])\n",
    "print(karray[:,1:5]) #raw먼저"
   ]
  },
  {
   "cell_type": "markdown",
   "id": "revised-glucose",
   "metadata": {},
   "source": [
    "flatten"
   ]
  },
  {
   "cell_type": "code",
   "execution_count": 34,
   "id": "promotional-aaron",
   "metadata": {},
   "outputs": [
    {
     "name": "stdout",
     "output_type": "stream",
     "text": [
      "[[ 0  1  2  3  4  5  6]\n",
      " [ 7  8  9 10 11 12 13]\n",
      " [14 15 16 17 18 19 20]]\n",
      "[ 0  1  2  3  4  5  6  7  8  9 10 11 12 13 14 15 16 17 18 19 20] (21,)\n",
      "[ 0  1  2  3  4  5  6  7  8  9 10 11 12 13 14 15 16 17 18 19 20]\n",
      "[[ 0  1  2  3  4  5  6  7  8  9 10 11 12 13 14 15 16 17 18 19 20]] (1, 21)\n",
      "[[ 0  1  2  3  4  5  6]\n",
      " [ 7  8  9 10 11 12 13]\n",
      " [14 15 16 17 18 19 20]] (3, 7)\n"
     ]
    }
   ],
   "source": [
    "karray=np.arange(21).reshape(3,7); print(karray)\n",
    "fkarray=karray.flatten()\n",
    "print(fkarray,fkarray.shape)\n",
    "fkarray1=np.array(karray.flat)\n",
    "print(fkarray1)\n",
    "rfkarray=karray.reshape(1,21)\n",
    "print(rfkarray,rfkarray.shape)\n",
    "rfkarray.resize(3,7)\n",
    "print(rfkarray,rfkarray.shape)"
   ]
  },
  {
   "cell_type": "code",
   "execution_count": 36,
   "id": "handed-warrant",
   "metadata": {},
   "outputs": [
    {
     "name": "stdout",
     "output_type": "stream",
     "text": [
      "[[ 0  1  2  3  4  5]\n",
      " [ 7  8  9 10 11 12]\n",
      " [14 15 16 17 18 19]]\n",
      "[[ 0  1  2]\n",
      " [ 7  8  9]\n",
      " [14 15 16]\n",
      " [ 3  4  5]\n",
      " [10 11 12]\n",
      " [17 18 19]]\n"
     ]
    }
   ],
   "source": [
    "#stacking\n",
    "karray1=karray[:,:3]; karray2=karray[:,3:6]\n",
    "karrayh=np.hstack([karray1,karray2]); print(karrayh)#horizental로 쌓음\n",
    "karrayv=np.vstack([karray1,karray2]); print(karrayv)#vertical로 쌓음"
   ]
  },
  {
   "cell_type": "markdown",
   "id": "recent-morrison",
   "metadata": {},
   "source": [
    "## python: pandas"
   ]
  },
  {
   "cell_type": "markdown",
   "id": "engaging-practitioner",
   "metadata": {},
   "source": [
    "pandas - panel data(big data)\n",
    "\n",
    "panel data는 시간에 따른 데이터 변화를 나타냄\n"
   ]
  },
  {
   "cell_type": "markdown",
   "id": "otherwise-turning",
   "metadata": {},
   "source": [
    "__1. pandas: Series creation and indexing__"
   ]
  },
  {
   "cell_type": "code",
   "execution_count": 2,
   "id": "productive-davis",
   "metadata": {},
   "outputs": [],
   "source": [
    "import pandas as pd"
   ]
  },
  {
   "cell_type": "code",
   "execution_count": 42,
   "id": "derived-mounting",
   "metadata": {},
   "outputs": [
    {
     "name": "stdout",
     "output_type": "stream",
     "text": [
      "0    80\n",
      "1    82\n",
      "2    84\n",
      "3    86\n",
      "4    88\n",
      "5    90\n",
      "6    92\n",
      "7    94\n",
      "8    96\n",
      "9    98\n",
      "dtype: int64\n"
     ]
    }
   ],
   "source": [
    "grades=pd.Series(range(80,100,2))\n",
    "print(grades)"
   ]
  },
  {
   "cell_type": "markdown",
   "id": "thorough-scope",
   "metadata": {},
   "source": [
    "print(grades.describe())\n",
    "print(len(grades))"
   ]
  },
  {
   "cell_type": "code",
   "execution_count": 49,
   "id": "running-experience",
   "metadata": {},
   "outputs": [
    {
     "name": "stdout",
     "output_type": "stream",
     "text": [
      "Kim     175\n",
      "Kwon    184\n",
      "Lee     170\n",
      "dtype: int64\n",
      "184 184 184\n"
     ]
    }
   ],
   "source": [
    "height=pd.Series([175,184,170], index=['Kim','Kwon','Lee'])\n",
    "print(height)\n",
    "print(height.Kwon,height['Kwon'],height[1])"
   ]
  },
  {
   "cell_type": "code",
   "execution_count": 50,
   "id": "unable-clock",
   "metadata": {},
   "outputs": [
    {
     "name": "stdout",
     "output_type": "stream",
     "text": [
      "Korea    82\n",
      "Japan    81\n",
      "China    cn\n",
      "dtype: object\n"
     ]
    }
   ],
   "source": [
    "nations=pd.Series({'Korea':82,'Japan':81,'China':'cn'})\n",
    "print(nations)"
   ]
  },
  {
   "cell_type": "markdown",
   "id": "lasting-nomination",
   "metadata": {},
   "source": [
    "__2. Pandas: DataFrames creation and indexing__"
   ]
  },
  {
   "cell_type": "code",
   "execution_count": 39,
   "id": "operating-employee",
   "metadata": {},
   "outputs": [
    {
     "name": "stdout",
     "output_type": "stream",
     "text": [
      "   Spring  Summer  Fall  Winter\n",
      "0      10      24    24       8\n",
      "1      14      27    21       0\n",
      "2      18      30    18      -5\n"
     ]
    }
   ],
   "source": [
    "season_temps=pd.DataFrame({'Spring':[10,14,18], 'Summer':[24,27,30],'Fall':[24,21,18],'Winter':[8,0,-5]})\n",
    "print(season_temps)"
   ]
  },
  {
   "cell_type": "code",
   "execution_count": 8,
   "id": "together-webster",
   "metadata": {},
   "outputs": [
    {
     "name": "stdout",
     "output_type": "stream",
     "text": [
      "   kim  park  Sam  Kwon  Lee\n",
      "0   87   100   94   100   83\n",
      "1   96    87   77    90   65\n",
      "2   70    90   99    95   85\n"
     ]
    }
   ],
   "source": [
    "scores={'kim':[87,96,70],'park':[100,87,90],'Sam':[94,77,99],\\\n",
    "       'Kwon':[100,90,95],'Lee':[83,65,85]}\n",
    "scores_df=pd.DataFrame(scores)\n",
    "print(scores_df)"
   ]
  },
  {
   "cell_type": "code",
   "execution_count": 9,
   "id": "employed-bottom",
   "metadata": {},
   "outputs": [
    {
     "name": "stdout",
     "output_type": "stream",
     "text": [
      "         kim  park  Sam  Kwon  Lee\n",
      "Math      87   100   94   100   83\n",
      "Econ      96    87   77    90   65\n",
      "Physics   70    90   99    95   85\n",
      "         kim  park  Sam  Kwon  Lee\n",
      "Math      87   100   94   100   83\n",
      "Econ      96    87   77    90   65\n",
      "Physics   70    90   99    95   85\n"
     ]
    }
   ],
   "source": [
    "scores_ni=pd.DataFrame(scores,index=['Math','Econ','Physics'])\n",
    "print(scores_ni)\n",
    "scores_df.index=['Math','Econ','Physics']\n",
    "print(scores_df)"
   ]
  },
  {
   "cell_type": "markdown",
   "id": "aquatic-lincoln",
   "metadata": {},
   "source": [
    "__3. Pandas: DataFrame slicing__\n",
    "\n",
    "loc: raw name으로 슬라이싱\n",
    "\n",
    "iloc:수치화된 인덱스 \n",
    "\n",
    "at:특정 데이터만 뽑아내는것\n",
    "\n",
    "iat:인덱스를 특정하여 데이터를 뽑아내는 것"
   ]
  },
  {
   "cell_type": "code",
   "execution_count": 5,
   "id": "sweet-boston",
   "metadata": {},
   "outputs": [
    {
     "name": "stdout",
     "output_type": "stream",
     "text": [
      "Spring    10\n",
      "Summer    24\n",
      "Fall      24\n",
      "Winter     8\n",
      "Name: 0, dtype: int64\n",
      "Spring    10\n",
      "Summer    24\n",
      "Fall      24\n",
      "Winter     8\n",
      "Name: 0, dtype: int64\n"
     ]
    }
   ],
   "source": [
    "print(f'{season_temps.loc[0]}\\n{season_temps.iloc[0]}')"
   ]
  },
  {
   "cell_type": "code",
   "execution_count": 10,
   "id": "christian-lawrence",
   "metadata": {},
   "outputs": [
    {
     "name": "stdout",
     "output_type": "stream",
     "text": [
      "      kim  park  Sam  Kwon  Lee\n",
      "Math   87   100   94   100   83\n",
      "Econ   96    87   77    90   65\n",
      "      kim  park  Sam\n",
      "Math   87   100   94\n",
      "Econ   96    87   77\n"
     ]
    }
   ],
   "source": [
    "#slicing by setting raw index range\n",
    "print(f'{scores_ni.loc[\"Math\":\"Econ\"]}\\n{scores_ni.iloc[:2,:3]}')"
   ]
  },
  {
   "cell_type": "code",
   "execution_count": 22,
   "id": "respected-adult",
   "metadata": {},
   "outputs": [
    {
     "name": "stdout",
     "output_type": "stream",
     "text": [
      "         kim  park  Sam  Kwon  Lee\n",
      "Math      87   100   94   100   83\n",
      "Physics   70    90   99    95   85\n",
      "         kim  park  Sam\n",
      "Math      87   100   94\n",
      "Physics   70    90   99\n"
     ]
    }
   ],
   "source": [
    "#slcing with specific raw indexes\n",
    "print(f'{scores_df.loc[[\"Math\",\"Physics\"]]}\\n{scores_df.iloc[[0,2],:3]}')"
   ]
  },
  {
   "cell_type": "code",
   "execution_count": 24,
   "id": "massive-knowing",
   "metadata": {},
   "outputs": [
    {
     "name": "stdout",
     "output_type": "stream",
     "text": [
      "         kim  Sam\n",
      "Math      87   94\n",
      "Econ      96   77\n",
      "Physics   70   99\n",
      "         kim  park  Sam\n",
      "Math      87   100   94\n",
      "Physics   70    90   99\n"
     ]
    }
   ],
   "source": [
    "print(f'{scores_ni.loc[\"Math\":\"Physics\",[\"kim\",\"Sam\"]]}\\n{scores_ni.iloc[[0,2],:3]}')"
   ]
  },
  {
   "cell_type": "code",
   "execution_count": 26,
   "id": "international-nelson",
   "metadata": {},
   "outputs": [
    {
     "name": "stdout",
     "output_type": "stream",
     "text": [
      "         kim  Sam\n",
      "Math      87   94\n",
      "Physics   70   99\n"
     ]
    }
   ],
   "source": [
    "print(f'{scores_ni.loc[[\"Math\",\"Physics\"],[\"kim\",\"Sam\"]]}')"
   ]
  },
  {
   "cell_type": "code",
   "execution_count": 37,
   "id": "private-saturday",
   "metadata": {},
   "outputs": [
    {
     "name": "stdout",
     "output_type": "stream",
     "text": [
      "         kim  park  Sam  Kwon  Lee\n",
      "Math      87   100   94   100   83\n",
      "Econ      96    87   77    90   65\n",
      "Physics   70    90   99    95   85\n",
      "90 90\n"
     ]
    }
   ],
   "source": [
    "print(scores_df)\n",
    "print(scores_df.at['Econ','Kwon'],scores_df.iat[1,3])\n"
   ]
  },
  {
   "cell_type": "raw",
   "id": "fleet-throw",
   "metadata": {},
   "source": [
    "__4.Pandas: Boolean indexing__"
   ]
  },
  {
   "cell_type": "code",
   "execution_count": 28,
   "id": "central-colombia",
   "metadata": {},
   "outputs": [
    {
     "data": {
      "text/html": [
       "<div>\n",
       "<style scoped>\n",
       "    .dataframe tbody tr th:only-of-type {\n",
       "        vertical-align: middle;\n",
       "    }\n",
       "\n",
       "    .dataframe tbody tr th {\n",
       "        vertical-align: top;\n",
       "    }\n",
       "\n",
       "    .dataframe thead th {\n",
       "        text-align: right;\n",
       "    }\n",
       "</style>\n",
       "<table border=\"1\" class=\"dataframe\">\n",
       "  <thead>\n",
       "    <tr style=\"text-align: right;\">\n",
       "      <th></th>\n",
       "      <th>kim</th>\n",
       "      <th>park</th>\n",
       "      <th>Sam</th>\n",
       "      <th>Kwon</th>\n",
       "      <th>Lee</th>\n",
       "    </tr>\n",
       "  </thead>\n",
       "  <tbody>\n",
       "    <tr>\n",
       "      <th>Math</th>\n",
       "      <td>NaN</td>\n",
       "      <td>100.0</td>\n",
       "      <td>94.0</td>\n",
       "      <td>100</td>\n",
       "      <td>NaN</td>\n",
       "    </tr>\n",
       "    <tr>\n",
       "      <th>Econ</th>\n",
       "      <td>96.0</td>\n",
       "      <td>NaN</td>\n",
       "      <td>NaN</td>\n",
       "      <td>90</td>\n",
       "      <td>NaN</td>\n",
       "    </tr>\n",
       "    <tr>\n",
       "      <th>Physics</th>\n",
       "      <td>NaN</td>\n",
       "      <td>90.0</td>\n",
       "      <td>99.0</td>\n",
       "      <td>95</td>\n",
       "      <td>NaN</td>\n",
       "    </tr>\n",
       "  </tbody>\n",
       "</table>\n",
       "</div>"
      ],
      "text/plain": [
       "          kim   park   Sam  Kwon  Lee\n",
       "Math      NaN  100.0  94.0   100  NaN\n",
       "Econ     96.0    NaN   NaN    90  NaN\n",
       "Physics   NaN   90.0  99.0    95  NaN"
      ]
     },
     "execution_count": 28,
     "metadata": {},
     "output_type": "execute_result"
    }
   ],
   "source": [
    "scores_df[scores_df>=90]"
   ]
  },
  {
   "cell_type": "code",
   "execution_count": 29,
   "id": "indoor-progressive",
   "metadata": {},
   "outputs": [
    {
     "data": {
      "text/html": [
       "<div>\n",
       "<style scoped>\n",
       "    .dataframe tbody tr th:only-of-type {\n",
       "        vertical-align: middle;\n",
       "    }\n",
       "\n",
       "    .dataframe tbody tr th {\n",
       "        vertical-align: top;\n",
       "    }\n",
       "\n",
       "    .dataframe thead th {\n",
       "        text-align: right;\n",
       "    }\n",
       "</style>\n",
       "<table border=\"1\" class=\"dataframe\">\n",
       "  <thead>\n",
       "    <tr style=\"text-align: right;\">\n",
       "      <th></th>\n",
       "      <th>kim</th>\n",
       "      <th>park</th>\n",
       "      <th>Sam</th>\n",
       "      <th>Kwon</th>\n",
       "      <th>Lee</th>\n",
       "    </tr>\n",
       "  </thead>\n",
       "  <tbody>\n",
       "    <tr>\n",
       "      <th>Math</th>\n",
       "      <td>87.0</td>\n",
       "      <td>NaN</td>\n",
       "      <td>NaN</td>\n",
       "      <td>NaN</td>\n",
       "      <td>83.0</td>\n",
       "    </tr>\n",
       "    <tr>\n",
       "      <th>Econ</th>\n",
       "      <td>NaN</td>\n",
       "      <td>87.0</td>\n",
       "      <td>77.0</td>\n",
       "      <td>NaN</td>\n",
       "      <td>NaN</td>\n",
       "    </tr>\n",
       "    <tr>\n",
       "      <th>Physics</th>\n",
       "      <td>NaN</td>\n",
       "      <td>NaN</td>\n",
       "      <td>NaN</td>\n",
       "      <td>NaN</td>\n",
       "      <td>85.0</td>\n",
       "    </tr>\n",
       "  </tbody>\n",
       "</table>\n",
       "</div>"
      ],
      "text/plain": [
       "          kim  park   Sam  Kwon   Lee\n",
       "Math     87.0   NaN   NaN   NaN  83.0\n",
       "Econ      NaN  87.0  77.0   NaN   NaN\n",
       "Physics   NaN   NaN   NaN   NaN  85.0"
      ]
     },
     "execution_count": 29,
     "metadata": {},
     "output_type": "execute_result"
    }
   ],
   "source": [
    "scores_df[(scores_df<90)&(scores_df>70)]"
   ]
  },
  {
   "cell_type": "markdown",
   "id": "graduate-aquatic",
   "metadata": {},
   "source": [
    "__5. Pandas: Descriptive statistics__"
   ]
  },
  {
   "cell_type": "code",
   "execution_count": 33,
   "id": "anticipated-original",
   "metadata": {},
   "outputs": [
    {
     "name": "stdout",
     "output_type": "stream",
     "text": [
      "          kim     park     Sam   Kwon     Lee\n",
      "count   3.000    3.000   3.000    3.0   3.000\n",
      "mean   84.333   92.333  90.000   95.0  77.667\n",
      "std    13.204    6.807  11.533    5.0  11.015\n",
      "min    70.000   87.000  77.000   90.0  65.000\n",
      "25%    78.500   88.500  85.500   92.5  74.000\n",
      "50%    87.000   90.000  94.000   95.0  83.000\n",
      "75%    91.500   95.000  96.500   97.5  84.000\n",
      "max    96.000  100.000  99.000  100.0  85.000\n"
     ]
    }
   ],
   "source": [
    "pd.set_option('precision',3) # 'precision',3--> 소수점 셋째 자리까지 표현\n",
    "print(scores_df.describe())"
   ]
  },
  {
   "cell_type": "code",
   "execution_count": 34,
   "id": "standard-appearance",
   "metadata": {},
   "outputs": [
    {
     "data": {
      "text/plain": [
       "kim     70\n",
       "park    87\n",
       "Sam     77\n",
       "Kwon    90\n",
       "Lee     65\n",
       "dtype: int64"
      ]
     },
     "execution_count": 34,
     "metadata": {},
     "output_type": "execute_result"
    }
   ],
   "source": [
    "scores_df.min()"
   ]
  },
  {
   "cell_type": "markdown",
   "id": "essential-offense",
   "metadata": {},
   "source": [
    "__6. Pandas: Transposing__"
   ]
  },
  {
   "cell_type": "code",
   "execution_count": 35,
   "id": "civilian-overall",
   "metadata": {},
   "outputs": [
    {
     "data": {
      "text/html": [
       "<div>\n",
       "<style scoped>\n",
       "    .dataframe tbody tr th:only-of-type {\n",
       "        vertical-align: middle;\n",
       "    }\n",
       "\n",
       "    .dataframe tbody tr th {\n",
       "        vertical-align: top;\n",
       "    }\n",
       "\n",
       "    .dataframe thead th {\n",
       "        text-align: right;\n",
       "    }\n",
       "</style>\n",
       "<table border=\"1\" class=\"dataframe\">\n",
       "  <thead>\n",
       "    <tr style=\"text-align: right;\">\n",
       "      <th></th>\n",
       "      <th>Math</th>\n",
       "      <th>Econ</th>\n",
       "      <th>Physics</th>\n",
       "    </tr>\n",
       "  </thead>\n",
       "  <tbody>\n",
       "    <tr>\n",
       "      <th>kim</th>\n",
       "      <td>87</td>\n",
       "      <td>96</td>\n",
       "      <td>70</td>\n",
       "    </tr>\n",
       "    <tr>\n",
       "      <th>park</th>\n",
       "      <td>100</td>\n",
       "      <td>87</td>\n",
       "      <td>90</td>\n",
       "    </tr>\n",
       "    <tr>\n",
       "      <th>Sam</th>\n",
       "      <td>94</td>\n",
       "      <td>77</td>\n",
       "      <td>99</td>\n",
       "    </tr>\n",
       "    <tr>\n",
       "      <th>Kwon</th>\n",
       "      <td>100</td>\n",
       "      <td>90</td>\n",
       "      <td>95</td>\n",
       "    </tr>\n",
       "    <tr>\n",
       "      <th>Lee</th>\n",
       "      <td>83</td>\n",
       "      <td>65</td>\n",
       "      <td>85</td>\n",
       "    </tr>\n",
       "  </tbody>\n",
       "</table>\n",
       "</div>"
      ],
      "text/plain": [
       "      Math  Econ  Physics\n",
       "kim     87    96       70\n",
       "park   100    87       90\n",
       "Sam     94    77       99\n",
       "Kwon   100    90       95\n",
       "Lee     83    65       85"
      ]
     },
     "execution_count": 35,
     "metadata": {},
     "output_type": "execute_result"
    }
   ],
   "source": [
    "scores_df.T"
   ]
  },
  {
   "cell_type": "code",
   "execution_count": 38,
   "id": "selected-worship",
   "metadata": {},
   "outputs": [
    {
     "data": {
      "text/html": [
       "<div>\n",
       "<style scoped>\n",
       "    .dataframe tbody tr th:only-of-type {\n",
       "        vertical-align: middle;\n",
       "    }\n",
       "\n",
       "    .dataframe tbody tr th {\n",
       "        vertical-align: top;\n",
       "    }\n",
       "\n",
       "    .dataframe thead th {\n",
       "        text-align: right;\n",
       "    }\n",
       "</style>\n",
       "<table border=\"1\" class=\"dataframe\">\n",
       "  <thead>\n",
       "    <tr style=\"text-align: right;\">\n",
       "      <th></th>\n",
       "      <th>Math</th>\n",
       "      <th>Econ</th>\n",
       "      <th>Physics</th>\n",
       "    </tr>\n",
       "  </thead>\n",
       "  <tbody>\n",
       "    <tr>\n",
       "      <th>count</th>\n",
       "      <td>5.000</td>\n",
       "      <td>5.000</td>\n",
       "      <td>5.000</td>\n",
       "    </tr>\n",
       "    <tr>\n",
       "      <th>mean</th>\n",
       "      <td>92.800</td>\n",
       "      <td>83.000</td>\n",
       "      <td>87.800</td>\n",
       "    </tr>\n",
       "    <tr>\n",
       "      <th>std</th>\n",
       "      <td>7.662</td>\n",
       "      <td>12.186</td>\n",
       "      <td>11.256</td>\n",
       "    </tr>\n",
       "    <tr>\n",
       "      <th>min</th>\n",
       "      <td>83.000</td>\n",
       "      <td>65.000</td>\n",
       "      <td>70.000</td>\n",
       "    </tr>\n",
       "    <tr>\n",
       "      <th>25%</th>\n",
       "      <td>87.000</td>\n",
       "      <td>77.000</td>\n",
       "      <td>85.000</td>\n",
       "    </tr>\n",
       "    <tr>\n",
       "      <th>50%</th>\n",
       "      <td>94.000</td>\n",
       "      <td>87.000</td>\n",
       "      <td>90.000</td>\n",
       "    </tr>\n",
       "    <tr>\n",
       "      <th>75%</th>\n",
       "      <td>100.000</td>\n",
       "      <td>90.000</td>\n",
       "      <td>95.000</td>\n",
       "    </tr>\n",
       "    <tr>\n",
       "      <th>max</th>\n",
       "      <td>100.000</td>\n",
       "      <td>96.000</td>\n",
       "      <td>99.000</td>\n",
       "    </tr>\n",
       "  </tbody>\n",
       "</table>\n",
       "</div>"
      ],
      "text/plain": [
       "          Math    Econ  Physics\n",
       "count    5.000   5.000    5.000\n",
       "mean    92.800  83.000   87.800\n",
       "std      7.662  12.186   11.256\n",
       "min     83.000  65.000   70.000\n",
       "25%     87.000  77.000   85.000\n",
       "50%     94.000  87.000   90.000\n",
       "75%    100.000  90.000   95.000\n",
       "max    100.000  96.000   99.000"
      ]
     },
     "execution_count": 38,
     "metadata": {},
     "output_type": "execute_result"
    }
   ],
   "source": [
    "scores_df.T.describe()"
   ]
  },
  {
   "cell_type": "markdown",
   "id": "found-paintball",
   "metadata": {},
   "source": [
    "__7.Pandas: Sorting by index and values__"
   ]
  },
  {
   "cell_type": "code",
   "execution_count": 52,
   "id": "miniature-gates",
   "metadata": {},
   "outputs": [
    {
     "data": {
      "text/html": [
       "<div>\n",
       "<style scoped>\n",
       "    .dataframe tbody tr th:only-of-type {\n",
       "        vertical-align: middle;\n",
       "    }\n",
       "\n",
       "    .dataframe tbody tr th {\n",
       "        vertical-align: top;\n",
       "    }\n",
       "\n",
       "    .dataframe thead th {\n",
       "        text-align: right;\n",
       "    }\n",
       "</style>\n",
       "<table border=\"1\" class=\"dataframe\">\n",
       "  <thead>\n",
       "    <tr style=\"text-align: right;\">\n",
       "      <th></th>\n",
       "      <th>Spring</th>\n",
       "      <th>Summer</th>\n",
       "      <th>Fall</th>\n",
       "      <th>Winter</th>\n",
       "    </tr>\n",
       "  </thead>\n",
       "  <tbody>\n",
       "    <tr>\n",
       "      <th>2</th>\n",
       "      <td>18</td>\n",
       "      <td>30</td>\n",
       "      <td>18</td>\n",
       "      <td>-5</td>\n",
       "    </tr>\n",
       "    <tr>\n",
       "      <th>1</th>\n",
       "      <td>14</td>\n",
       "      <td>27</td>\n",
       "      <td>21</td>\n",
       "      <td>0</td>\n",
       "    </tr>\n",
       "    <tr>\n",
       "      <th>0</th>\n",
       "      <td>10</td>\n",
       "      <td>24</td>\n",
       "      <td>24</td>\n",
       "      <td>8</td>\n",
       "    </tr>\n",
       "  </tbody>\n",
       "</table>\n",
       "</div>"
      ],
      "text/plain": [
       "   Spring  Summer  Fall  Winter\n",
       "2      18      30    18      -5\n",
       "1      14      27    21       0\n",
       "0      10      24    24       8"
      ]
     },
     "execution_count": 52,
     "metadata": {},
     "output_type": "execute_result"
    }
   ],
   "source": [
    "season_temps.sort_index(ascending=False)#ascending=Fals --> 배열 역순(내림차순)"
   ]
  },
  {
   "cell_type": "code",
   "execution_count": 41,
   "id": "senior-roulette",
   "metadata": {},
   "outputs": [
    {
     "data": {
      "text/html": [
       "<div>\n",
       "<style scoped>\n",
       "    .dataframe tbody tr th:only-of-type {\n",
       "        vertical-align: middle;\n",
       "    }\n",
       "\n",
       "    .dataframe tbody tr th {\n",
       "        vertical-align: top;\n",
       "    }\n",
       "\n",
       "    .dataframe thead th {\n",
       "        text-align: right;\n",
       "    }\n",
       "</style>\n",
       "<table border=\"1\" class=\"dataframe\">\n",
       "  <thead>\n",
       "    <tr style=\"text-align: right;\">\n",
       "      <th></th>\n",
       "      <th>kim</th>\n",
       "      <th>park</th>\n",
       "      <th>Sam</th>\n",
       "      <th>Kwon</th>\n",
       "      <th>Lee</th>\n",
       "    </tr>\n",
       "  </thead>\n",
       "  <tbody>\n",
       "    <tr>\n",
       "      <th>Econ</th>\n",
       "      <td>96</td>\n",
       "      <td>87</td>\n",
       "      <td>77</td>\n",
       "      <td>90</td>\n",
       "      <td>65</td>\n",
       "    </tr>\n",
       "    <tr>\n",
       "      <th>Math</th>\n",
       "      <td>87</td>\n",
       "      <td>100</td>\n",
       "      <td>94</td>\n",
       "      <td>100</td>\n",
       "      <td>83</td>\n",
       "    </tr>\n",
       "    <tr>\n",
       "      <th>Physics</th>\n",
       "      <td>70</td>\n",
       "      <td>90</td>\n",
       "      <td>99</td>\n",
       "      <td>95</td>\n",
       "      <td>85</td>\n",
       "    </tr>\n",
       "  </tbody>\n",
       "</table>\n",
       "</div>"
      ],
      "text/plain": [
       "         kim  park  Sam  Kwon  Lee\n",
       "Econ      96    87   77    90   65\n",
       "Math      87   100   94   100   83\n",
       "Physics   70    90   99    95   85"
      ]
     },
     "execution_count": 41,
     "metadata": {},
     "output_type": "execute_result"
    }
   ],
   "source": [
    "scores_df.sort_index()"
   ]
  },
  {
   "cell_type": "code",
   "execution_count": 42,
   "id": "massive-neighborhood",
   "metadata": {},
   "outputs": [
    {
     "data": {
      "text/html": [
       "<div>\n",
       "<style scoped>\n",
       "    .dataframe tbody tr th:only-of-type {\n",
       "        vertical-align: middle;\n",
       "    }\n",
       "\n",
       "    .dataframe tbody tr th {\n",
       "        vertical-align: top;\n",
       "    }\n",
       "\n",
       "    .dataframe thead th {\n",
       "        text-align: right;\n",
       "    }\n",
       "</style>\n",
       "<table border=\"1\" class=\"dataframe\">\n",
       "  <thead>\n",
       "    <tr style=\"text-align: right;\">\n",
       "      <th></th>\n",
       "      <th>Kwon</th>\n",
       "      <th>Lee</th>\n",
       "      <th>Sam</th>\n",
       "      <th>kim</th>\n",
       "      <th>park</th>\n",
       "    </tr>\n",
       "  </thead>\n",
       "  <tbody>\n",
       "    <tr>\n",
       "      <th>Math</th>\n",
       "      <td>100</td>\n",
       "      <td>83</td>\n",
       "      <td>94</td>\n",
       "      <td>87</td>\n",
       "      <td>100</td>\n",
       "    </tr>\n",
       "    <tr>\n",
       "      <th>Econ</th>\n",
       "      <td>90</td>\n",
       "      <td>65</td>\n",
       "      <td>77</td>\n",
       "      <td>96</td>\n",
       "      <td>87</td>\n",
       "    </tr>\n",
       "    <tr>\n",
       "      <th>Physics</th>\n",
       "      <td>95</td>\n",
       "      <td>85</td>\n",
       "      <td>99</td>\n",
       "      <td>70</td>\n",
       "      <td>90</td>\n",
       "    </tr>\n",
       "  </tbody>\n",
       "</table>\n",
       "</div>"
      ],
      "text/plain": [
       "         Kwon  Lee  Sam  kim  park\n",
       "Math      100   83   94   87   100\n",
       "Econ       90   65   77   96    87\n",
       "Physics    95   85   99   70    90"
      ]
     },
     "execution_count": 42,
     "metadata": {},
     "output_type": "execute_result"
    }
   ],
   "source": [
    "scores_df.sort_index(axis=1) #calumn기준 sorting"
   ]
  },
  {
   "cell_type": "code",
   "execution_count": 44,
   "id": "isolated-principle",
   "metadata": {},
   "outputs": [
    {
     "data": {
      "text/html": [
       "<div>\n",
       "<style scoped>\n",
       "    .dataframe tbody tr th:only-of-type {\n",
       "        vertical-align: middle;\n",
       "    }\n",
       "\n",
       "    .dataframe tbody tr th {\n",
       "        vertical-align: top;\n",
       "    }\n",
       "\n",
       "    .dataframe thead th {\n",
       "        text-align: right;\n",
       "    }\n",
       "</style>\n",
       "<table border=\"1\" class=\"dataframe\">\n",
       "  <thead>\n",
       "    <tr style=\"text-align: right;\">\n",
       "      <th></th>\n",
       "      <th>kim</th>\n",
       "      <th>Kwon</th>\n",
       "      <th>park</th>\n",
       "      <th>Sam</th>\n",
       "      <th>Lee</th>\n",
       "    </tr>\n",
       "  </thead>\n",
       "  <tbody>\n",
       "    <tr>\n",
       "      <th>Math</th>\n",
       "      <td>87</td>\n",
       "      <td>100</td>\n",
       "      <td>100</td>\n",
       "      <td>94</td>\n",
       "      <td>83</td>\n",
       "    </tr>\n",
       "    <tr>\n",
       "      <th>Econ</th>\n",
       "      <td>96</td>\n",
       "      <td>90</td>\n",
       "      <td>87</td>\n",
       "      <td>77</td>\n",
       "      <td>65</td>\n",
       "    </tr>\n",
       "    <tr>\n",
       "      <th>Physics</th>\n",
       "      <td>70</td>\n",
       "      <td>95</td>\n",
       "      <td>90</td>\n",
       "      <td>99</td>\n",
       "      <td>85</td>\n",
       "    </tr>\n",
       "  </tbody>\n",
       "</table>\n",
       "</div>"
      ],
      "text/plain": [
       "         kim  Kwon  park  Sam  Lee\n",
       "Math      87   100   100   94   83\n",
       "Econ      96    90    87   77   65\n",
       "Physics   70    95    90   99   85"
      ]
     },
     "execution_count": 44,
     "metadata": {},
     "output_type": "execute_result"
    }
   ],
   "source": [
    "scores_df.sort_values(by='Econ',axis=1,ascending=False)"
   ]
  },
  {
   "cell_type": "code",
   "execution_count": 45,
   "id": "prescribed-environment",
   "metadata": {},
   "outputs": [
    {
     "data": {
      "text/html": [
       "<div>\n",
       "<style scoped>\n",
       "    .dataframe tbody tr th:only-of-type {\n",
       "        vertical-align: middle;\n",
       "    }\n",
       "\n",
       "    .dataframe tbody tr th {\n",
       "        vertical-align: top;\n",
       "    }\n",
       "\n",
       "    .dataframe thead th {\n",
       "        text-align: right;\n",
       "    }\n",
       "</style>\n",
       "<table border=\"1\" class=\"dataframe\">\n",
       "  <thead>\n",
       "    <tr style=\"text-align: right;\">\n",
       "      <th></th>\n",
       "      <th>Math</th>\n",
       "      <th>Econ</th>\n",
       "      <th>Physics</th>\n",
       "    </tr>\n",
       "  </thead>\n",
       "  <tbody>\n",
       "    <tr>\n",
       "      <th>kim</th>\n",
       "      <td>87</td>\n",
       "      <td>96</td>\n",
       "      <td>70</td>\n",
       "    </tr>\n",
       "    <tr>\n",
       "      <th>Kwon</th>\n",
       "      <td>100</td>\n",
       "      <td>90</td>\n",
       "      <td>95</td>\n",
       "    </tr>\n",
       "    <tr>\n",
       "      <th>park</th>\n",
       "      <td>100</td>\n",
       "      <td>87</td>\n",
       "      <td>90</td>\n",
       "    </tr>\n",
       "    <tr>\n",
       "      <th>Sam</th>\n",
       "      <td>94</td>\n",
       "      <td>77</td>\n",
       "      <td>99</td>\n",
       "    </tr>\n",
       "    <tr>\n",
       "      <th>Lee</th>\n",
       "      <td>83</td>\n",
       "      <td>65</td>\n",
       "      <td>85</td>\n",
       "    </tr>\n",
       "  </tbody>\n",
       "</table>\n",
       "</div>"
      ],
      "text/plain": [
       "      Math  Econ  Physics\n",
       "kim     87    96       70\n",
       "Kwon   100    90       95\n",
       "park   100    87       90\n",
       "Sam     94    77       99\n",
       "Lee     83    65       85"
      ]
     },
     "execution_count": 45,
     "metadata": {},
     "output_type": "execute_result"
    }
   ],
   "source": [
    "scores_df.T.sort_values(by='Econ',ascending=False)"
   ]
  },
  {
   "cell_type": "markdown",
   "id": "floppy-transaction",
   "metadata": {},
   "source": [
    "__8. Pandas: One hot vector__\n",
    "\n",
    "0과1로 구성된 벡터"
   ]
  },
  {
   "cell_type": "code",
   "execution_count": 4,
   "id": "running-ethnic",
   "metadata": {},
   "outputs": [
    {
     "name": "stdout",
     "output_type": "stream",
     "text": [
      "    Year  Rank   Maker\n",
      "0   1990     0  Hundai\n",
      "1   1991     1   Honda\n",
      "2   1992     2     Kia\n",
      "3   1993     3    Audi\n",
      "4   1994     4    Benz\n",
      "5   1995     5  Hundai\n",
      "6   1996     6    Benz\n",
      "7   1997     7    Audi\n",
      "8   1998     8  Hundai\n",
      "9   1999     9     Kia\n",
      "10  2000    10   Honda\n",
      "11  2001    11     Kia\n",
      "12  2002    12    Audi\n",
      "13  2003    13  Hundai\n",
      "14  2004    14    Benz\n"
     ]
    }
   ],
   "source": [
    "auto_firms=['Hundai','Honda','Kia','Audi','Benz','Hundai','Benz','Audi','Hundai',\n",
    "            'Kia','Honda','Kia','Audi','Hundai','Benz']\n",
    "Year=list(range(1990,2005,1)); Rank=list(range(15))\n",
    "auto_df=pd.DataFrame({'Year':Year,'Rank':Rank,'Maker':auto_firms})\n",
    "print(auto_df)"
   ]
  },
  {
   "cell_type": "markdown",
   "id": "framed-short",
   "metadata": {},
   "source": [
    "one hot vector는 특정 데이터만 1로 전환하고, 그 외는 0으로 할당하는 기능"
   ]
  },
  {
   "cell_type": "markdown",
   "id": "fatal-hygiene",
   "metadata": {},
   "source": [
    "maker정보 one hot벡터로 바꾸기"
   ]
  },
  {
   "cell_type": "code",
   "execution_count": 5,
   "id": "unknown-playlist",
   "metadata": {},
   "outputs": [
    {
     "name": "stdout",
     "output_type": "stream",
     "text": [
      "    Audi  Benz  Honda  Hundai  Kia\n",
      "0      0     0      0       1    0\n",
      "1      0     0      1       0    0\n",
      "2      0     0      0       0    1\n",
      "3      1     0      0       0    0\n",
      "4      0     1      0       0    0\n",
      "5      0     0      0       1    0\n",
      "6      0     1      0       0    0\n",
      "7      1     0      0       0    0\n",
      "8      0     0      0       1    0\n",
      "9      0     0      0       0    1\n",
      "10     0     0      1       0    0\n",
      "11     0     0      0       0    1\n",
      "12     1     0      0       0    0\n",
      "13     0     0      0       1    0\n",
      "14     0     1      0       0    0\n"
     ]
    }
   ],
   "source": [
    "am_onehot=pd.get_dummies(auto_fdf['Maker'])\n",
    "print(am_onehot)"
   ]
  },
  {
   "cell_type": "markdown",
   "id": "proud-passion",
   "metadata": {},
   "source": [
    "## Strings, Files and Data Visualization"
   ]
  },
  {
   "cell_type": "markdown",
   "id": "baking-buffer",
   "metadata": {},
   "source": [
    "__1. String formatted strings (f-string)__"
   ]
  },
  {
   "cell_type": "markdown",
   "id": "precise-width",
   "metadata": {},
   "source": [
    "f'{y:<x.2f}'\n",
    "\n",
    "y는 f스트링 속에 집어넣을 정보 (수, 문자 등 --> 문자열로 나옴)\n",
    "\n",
    "스트링을 넣을 때는 \"\" 사용하기\n",
    "\n",
    "<좌측정렬 >오른쪽 정렬 ^중앙정렬\n",
    "\n",
    "x는 공간 지정\n",
    "\n",
    ".2f 소수점지정, f-float/ d-integer/ b-binary/ c-character"
   ]
  },
  {
   "cell_type": "code",
   "execution_count": 1,
   "id": "powerful-humor",
   "metadata": {},
   "outputs": [
    {
     "name": "stdout",
     "output_type": "stream",
     "text": [
      "['L', 'o', 'n', 'g', ' ', 'l', 'i', 'v', 'e', ' ', 't', 'h', 'e', ' ', 'K', 'i', 'n', 'g']\n"
     ]
    }
   ],
   "source": [
    "mansei=list('Long live the King')\n",
    "print(mansei)"
   ]
  },
  {
   "cell_type": "code",
   "execution_count": 4,
   "id": "unsigned-signal",
   "metadata": {},
   "outputs": [
    {
     "name": "stdout",
     "output_type": "stream",
     "text": [
      "     1.235\n"
     ]
    },
    {
     "data": {
      "text/plain": [
       "'  1.235   '"
      ]
     },
     "execution_count": 4,
     "metadata": {},
     "output_type": "execute_result"
    }
   ],
   "source": [
    "print(f'{1.23456:>10.3f}')\n",
    "f'{1.23456:^10.3f}'"
   ]
  },
  {
   "cell_type": "code",
   "execution_count": 6,
   "id": "roman-crazy",
   "metadata": {},
   "outputs": [
    {
     "name": "stdout",
     "output_type": "stream",
     "text": [
      "21        \n",
      "     10101\n"
     ]
    }
   ],
   "source": [
    "print(f'{21:<10}\\n{21:10b}')\n",
    "#문자는 왼쪽, 숫자는 오른쪽 정렬이 defalt"
   ]
  },
  {
   "cell_type": "code",
   "execution_count": 8,
   "id": "abandoned-ownership",
   "metadata": {},
   "outputs": [
    {
     "name": "stdout",
     "output_type": "stream",
     "text": [
      "         A\n",
      "         c\n"
     ]
    }
   ],
   "source": [
    "print(f'{65:10c}\\n{99:10c}')"
   ]
  },
  {
   "cell_type": "code",
   "execution_count": 11,
   "id": "educational-kingdom",
   "metadata": {},
   "outputs": [
    {
     "name": "stdout",
     "output_type": "stream",
     "text": [
      "Python    \n",
      "        98\n"
     ]
    }
   ],
   "source": [
    "print(f'{\"Python\":10}\\n{98:10}')"
   ]
  },
  {
   "cell_type": "markdown",
   "id": "fleet-logan",
   "metadata": {},
   "source": [
    "__2. Interchanging a character and a ASCII code of the character__"
   ]
  },
  {
   "cell_type": "code",
   "execution_count": 12,
   "id": "seventh-convert",
   "metadata": {},
   "outputs": [
    {
     "name": "stdout",
     "output_type": "stream",
     "text": [
      "65 A 66 B\n"
     ]
    }
   ],
   "source": [
    "print(ord('A'),chr(65), ord('B'), chr(66))\n",
    "#인공지능에 많이 사용"
   ]
  },
  {
   "cell_type": "markdown",
   "id": "boolean-character",
   "metadata": {},
   "source": [
    "__3. File reading and dataset repositories__"
   ]
  },
  {
   "cell_type": "markdown",
   "id": "promotional-start",
   "metadata": {},
   "source": [
    "UC Irvine Machine Learning Repository: http://archive.ics.uci.edu/ml/index.php\n",
    "\n",
    "Rdataset: http://vincentarelbundock.github.io/Rdatasets/datasets.html\n",
    "\n",
    "Kaggle datasets: http://www.kaggle.com/datasets"
   ]
  },
  {
   "cell_type": "code",
   "execution_count": 2,
   "id": "hawaiian-barrel",
   "metadata": {},
   "outputs": [],
   "source": [
    "import pandas as pd\n",
    "import numpy as np\n",
    "import matplotlib.pyplot as plt"
   ]
  },
  {
   "cell_type": "code",
   "execution_count": 4,
   "id": "standard-fault",
   "metadata": {},
   "outputs": [
    {
     "data": {
      "text/html": [
       "<div>\n",
       "<style scoped>\n",
       "    .dataframe tbody tr th:only-of-type {\n",
       "        vertical-align: middle;\n",
       "    }\n",
       "\n",
       "    .dataframe tbody tr th {\n",
       "        vertical-align: top;\n",
       "    }\n",
       "\n",
       "    .dataframe thead th {\n",
       "        text-align: right;\n",
       "    }\n",
       "</style>\n",
       "<table border=\"1\" class=\"dataframe\">\n",
       "  <thead>\n",
       "    <tr style=\"text-align: right;\">\n",
       "      <th></th>\n",
       "      <th>SepalLenth</th>\n",
       "      <th>SepalWidth</th>\n",
       "      <th>PetalLenth</th>\n",
       "      <th>PetalWidth</th>\n",
       "      <th>Name</th>\n",
       "    </tr>\n",
       "  </thead>\n",
       "  <tbody>\n",
       "    <tr>\n",
       "      <th>0</th>\n",
       "      <td>5.1</td>\n",
       "      <td>3.5</td>\n",
       "      <td>1.4</td>\n",
       "      <td>0.2</td>\n",
       "      <td>Iris-setosa</td>\n",
       "    </tr>\n",
       "    <tr>\n",
       "      <th>1</th>\n",
       "      <td>4.9</td>\n",
       "      <td>3.0</td>\n",
       "      <td>1.4</td>\n",
       "      <td>0.2</td>\n",
       "      <td>Iris-setosa</td>\n",
       "    </tr>\n",
       "    <tr>\n",
       "      <th>2</th>\n",
       "      <td>4.7</td>\n",
       "      <td>3.2</td>\n",
       "      <td>1.3</td>\n",
       "      <td>0.2</td>\n",
       "      <td>Iris-setosa</td>\n",
       "    </tr>\n",
       "    <tr>\n",
       "      <th>3</th>\n",
       "      <td>4.6</td>\n",
       "      <td>3.1</td>\n",
       "      <td>1.5</td>\n",
       "      <td>0.2</td>\n",
       "      <td>Iris-setosa</td>\n",
       "    </tr>\n",
       "    <tr>\n",
       "      <th>4</th>\n",
       "      <td>5.0</td>\n",
       "      <td>3.6</td>\n",
       "      <td>1.4</td>\n",
       "      <td>0.2</td>\n",
       "      <td>Iris-setosa</td>\n",
       "    </tr>\n",
       "    <tr>\n",
       "      <th>5</th>\n",
       "      <td>5.4</td>\n",
       "      <td>3.9</td>\n",
       "      <td>1.7</td>\n",
       "      <td>0.4</td>\n",
       "      <td>Iris-setosa</td>\n",
       "    </tr>\n",
       "    <tr>\n",
       "      <th>6</th>\n",
       "      <td>4.6</td>\n",
       "      <td>3.4</td>\n",
       "      <td>1.4</td>\n",
       "      <td>0.3</td>\n",
       "      <td>Iris-setosa</td>\n",
       "    </tr>\n",
       "    <tr>\n",
       "      <th>7</th>\n",
       "      <td>5.0</td>\n",
       "      <td>3.4</td>\n",
       "      <td>1.5</td>\n",
       "      <td>0.2</td>\n",
       "      <td>Iris-setosa</td>\n",
       "    </tr>\n",
       "    <tr>\n",
       "      <th>8</th>\n",
       "      <td>4.4</td>\n",
       "      <td>2.9</td>\n",
       "      <td>1.4</td>\n",
       "      <td>0.2</td>\n",
       "      <td>Iris-setosa</td>\n",
       "    </tr>\n",
       "    <tr>\n",
       "      <th>9</th>\n",
       "      <td>4.9</td>\n",
       "      <td>3.1</td>\n",
       "      <td>1.5</td>\n",
       "      <td>0.1</td>\n",
       "      <td>Iris-setosa</td>\n",
       "    </tr>\n",
       "  </tbody>\n",
       "</table>\n",
       "</div>"
      ],
      "text/plain": [
       "   SepalLenth  SepalWidth  PetalLenth  PetalWidth         Name\n",
       "0         5.1         3.5         1.4         0.2  Iris-setosa\n",
       "1         4.9         3.0         1.4         0.2  Iris-setosa\n",
       "2         4.7         3.2         1.3         0.2  Iris-setosa\n",
       "3         4.6         3.1         1.5         0.2  Iris-setosa\n",
       "4         5.0         3.6         1.4         0.2  Iris-setosa\n",
       "5         5.4         3.9         1.7         0.4  Iris-setosa\n",
       "6         4.6         3.4         1.4         0.3  Iris-setosa\n",
       "7         5.0         3.4         1.5         0.2  Iris-setosa\n",
       "8         4.4         2.9         1.4         0.2  Iris-setosa\n",
       "9         4.9         3.1         1.5         0.1  Iris-setosa"
      ]
     },
     "execution_count": 4,
     "metadata": {},
     "output_type": "execute_result"
    }
   ],
   "source": [
    "irisdata=pd.read_csv('http://archive.ics.uci.edu/ml/machine-learning\\\n",
    "-databases/iris/iris.data', header=None)\n",
    "#header=None - 제목없이 데이터만 나열된 자료라는 뜻\n",
    "irisdata.columns=['SepalLenth','SepalWidth','PetalLenth','PetalWidth','Name']\n",
    "irisdata.head(10) #상위 10개만 불러옴"
   ]
  },
  {
   "cell_type": "code",
   "execution_count": 32,
   "id": "completed-attention",
   "metadata": {},
   "outputs": [
    {
     "data": {
      "text/plain": [
       "150"
      ]
     },
     "execution_count": 32,
     "metadata": {},
     "output_type": "execute_result"
    }
   ],
   "source": [
    "len(irisdata)"
   ]
  },
  {
   "cell_type": "code",
   "execution_count": 31,
   "id": "magnetic-architect",
   "metadata": {},
   "outputs": [
    {
     "data": {
      "text/plain": [
       "('Iris-setosa',\n",
       "     SepalLenth  SepalWidth  PetalLenth  PetalWidth         Name\n",
       " 0          5.1         3.5         1.4         0.2  Iris-setosa\n",
       " 1          4.9         3.0         1.4         0.2  Iris-setosa\n",
       " 2          4.7         3.2         1.3         0.2  Iris-setosa\n",
       " 3          4.6         3.1         1.5         0.2  Iris-setosa\n",
       " 4          5.0         3.6         1.4         0.2  Iris-setosa\n",
       " 5          5.4         3.9         1.7         0.4  Iris-setosa\n",
       " 6          4.6         3.4         1.4         0.3  Iris-setosa\n",
       " 7          5.0         3.4         1.5         0.2  Iris-setosa\n",
       " 8          4.4         2.9         1.4         0.2  Iris-setosa\n",
       " 9          4.9         3.1         1.5         0.1  Iris-setosa\n",
       " 10         5.4         3.7         1.5         0.2  Iris-setosa\n",
       " 11         4.8         3.4         1.6         0.2  Iris-setosa\n",
       " 12         4.8         3.0         1.4         0.1  Iris-setosa\n",
       " 13         4.3         3.0         1.1         0.1  Iris-setosa\n",
       " 14         5.8         4.0         1.2         0.2  Iris-setosa\n",
       " 15         5.7         4.4         1.5         0.4  Iris-setosa\n",
       " 16         5.4         3.9         1.3         0.4  Iris-setosa\n",
       " 17         5.1         3.5         1.4         0.3  Iris-setosa\n",
       " 18         5.7         3.8         1.7         0.3  Iris-setosa\n",
       " 19         5.1         3.8         1.5         0.3  Iris-setosa\n",
       " 20         5.4         3.4         1.7         0.2  Iris-setosa\n",
       " 21         5.1         3.7         1.5         0.4  Iris-setosa\n",
       " 22         4.6         3.6         1.0         0.2  Iris-setosa\n",
       " 23         5.1         3.3         1.7         0.5  Iris-setosa\n",
       " 24         4.8         3.4         1.9         0.2  Iris-setosa\n",
       " 25         5.0         3.0         1.6         0.2  Iris-setosa\n",
       " 26         5.0         3.4         1.6         0.4  Iris-setosa\n",
       " 27         5.2         3.5         1.5         0.2  Iris-setosa\n",
       " 28         5.2         3.4         1.4         0.2  Iris-setosa\n",
       " 29         4.7         3.2         1.6         0.2  Iris-setosa\n",
       " 30         4.8         3.1         1.6         0.2  Iris-setosa\n",
       " 31         5.4         3.4         1.5         0.4  Iris-setosa\n",
       " 32         5.2         4.1         1.5         0.1  Iris-setosa\n",
       " 33         5.5         4.2         1.4         0.2  Iris-setosa\n",
       " 34         4.9         3.1         1.5         0.1  Iris-setosa\n",
       " 35         5.0         3.2         1.2         0.2  Iris-setosa\n",
       " 36         5.5         3.5         1.3         0.2  Iris-setosa\n",
       " 37         4.9         3.1         1.5         0.1  Iris-setosa\n",
       " 38         4.4         3.0         1.3         0.2  Iris-setosa\n",
       " 39         5.1         3.4         1.5         0.2  Iris-setosa\n",
       " 40         5.0         3.5         1.3         0.3  Iris-setosa\n",
       " 41         4.5         2.3         1.3         0.3  Iris-setosa\n",
       " 42         4.4         3.2         1.3         0.2  Iris-setosa\n",
       " 43         5.0         3.5         1.6         0.6  Iris-setosa\n",
       " 44         5.1         3.8         1.9         0.4  Iris-setosa\n",
       " 45         4.8         3.0         1.4         0.3  Iris-setosa\n",
       " 46         5.1         3.8         1.6         0.2  Iris-setosa\n",
       " 47         4.6         3.2         1.4         0.2  Iris-setosa\n",
       " 48         5.3         3.7         1.5         0.2  Iris-setosa\n",
       " 49         5.0         3.3         1.4         0.2  Iris-setosa)"
      ]
     },
     "execution_count": 31,
     "metadata": {},
     "output_type": "execute_result"
    }
   ],
   "source": [
    "groups=irisdata.groupby('Name')\n",
    "list(groups)[0]"
   ]
  },
  {
   "cell_type": "code",
   "execution_count": 5,
   "id": "above-rouge",
   "metadata": {},
   "outputs": [
    {
     "data": {
      "text/html": [
       "<div>\n",
       "<style scoped>\n",
       "    .dataframe tbody tr th:only-of-type {\n",
       "        vertical-align: middle;\n",
       "    }\n",
       "\n",
       "    .dataframe tbody tr th {\n",
       "        vertical-align: top;\n",
       "    }\n",
       "\n",
       "    .dataframe thead th {\n",
       "        text-align: right;\n",
       "    }\n",
       "</style>\n",
       "<table border=\"1\" class=\"dataframe\">\n",
       "  <thead>\n",
       "    <tr style=\"text-align: right;\">\n",
       "      <th></th>\n",
       "      <th>SepalL</th>\n",
       "      <th>sepalW</th>\n",
       "      <th>petalL</th>\n",
       "      <th>petalW</th>\n",
       "      <th>Name</th>\n",
       "    </tr>\n",
       "  </thead>\n",
       "  <tbody>\n",
       "    <tr>\n",
       "      <th>0</th>\n",
       "      <td>5.1</td>\n",
       "      <td>3.5</td>\n",
       "      <td>1.4</td>\n",
       "      <td>0.2</td>\n",
       "      <td>Iris-setosa</td>\n",
       "    </tr>\n",
       "    <tr>\n",
       "      <th>1</th>\n",
       "      <td>4.9</td>\n",
       "      <td>3.0</td>\n",
       "      <td>1.4</td>\n",
       "      <td>0.2</td>\n",
       "      <td>Iris-setosa</td>\n",
       "    </tr>\n",
       "    <tr>\n",
       "      <th>2</th>\n",
       "      <td>4.7</td>\n",
       "      <td>3.2</td>\n",
       "      <td>1.3</td>\n",
       "      <td>0.2</td>\n",
       "      <td>Iris-setosa</td>\n",
       "    </tr>\n",
       "    <tr>\n",
       "      <th>3</th>\n",
       "      <td>4.6</td>\n",
       "      <td>3.1</td>\n",
       "      <td>1.5</td>\n",
       "      <td>0.2</td>\n",
       "      <td>Iris-setosa</td>\n",
       "    </tr>\n",
       "    <tr>\n",
       "      <th>4</th>\n",
       "      <td>5.0</td>\n",
       "      <td>3.6</td>\n",
       "      <td>1.4</td>\n",
       "      <td>0.2</td>\n",
       "      <td>Iris-setosa</td>\n",
       "    </tr>\n",
       "  </tbody>\n",
       "</table>\n",
       "</div>"
      ],
      "text/plain": [
       "   SepalL  sepalW  petalL  petalW         Name\n",
       "0     5.1     3.5     1.4     0.2  Iris-setosa\n",
       "1     4.9     3.0     1.4     0.2  Iris-setosa\n",
       "2     4.7     3.2     1.3     0.2  Iris-setosa\n",
       "3     4.6     3.1     1.5     0.2  Iris-setosa\n",
       "4     5.0     3.6     1.4     0.2  Iris-setosa"
      ]
     },
     "execution_count": 5,
     "metadata": {},
     "output_type": "execute_result"
    }
   ],
   "source": [
    "iris=pd.read_csv('data/iris.csv')\n",
    "iris.head() #defalt가 5개"
   ]
  },
  {
   "cell_type": "code",
   "execution_count": 6,
   "id": "collaborative-scene",
   "metadata": {},
   "outputs": [
    {
     "data": {
      "text/html": [
       "<div>\n",
       "<style scoped>\n",
       "    .dataframe tbody tr th:only-of-type {\n",
       "        vertical-align: middle;\n",
       "    }\n",
       "\n",
       "    .dataframe tbody tr th {\n",
       "        vertical-align: top;\n",
       "    }\n",
       "\n",
       "    .dataframe thead th {\n",
       "        text-align: right;\n",
       "    }\n",
       "</style>\n",
       "<table border=\"1\" class=\"dataframe\">\n",
       "  <thead>\n",
       "    <tr style=\"text-align: right;\">\n",
       "      <th></th>\n",
       "      <th>SepalL</th>\n",
       "      <th>sepalW</th>\n",
       "      <th>petalL</th>\n",
       "      <th>petalW</th>\n",
       "    </tr>\n",
       "  </thead>\n",
       "  <tbody>\n",
       "    <tr>\n",
       "      <th>count</th>\n",
       "      <td>150.00</td>\n",
       "      <td>150.00</td>\n",
       "      <td>150.00</td>\n",
       "      <td>150.00</td>\n",
       "    </tr>\n",
       "    <tr>\n",
       "      <th>mean</th>\n",
       "      <td>5.84</td>\n",
       "      <td>3.05</td>\n",
       "      <td>3.76</td>\n",
       "      <td>1.20</td>\n",
       "    </tr>\n",
       "    <tr>\n",
       "      <th>std</th>\n",
       "      <td>0.83</td>\n",
       "      <td>0.43</td>\n",
       "      <td>1.76</td>\n",
       "      <td>0.76</td>\n",
       "    </tr>\n",
       "    <tr>\n",
       "      <th>min</th>\n",
       "      <td>4.30</td>\n",
       "      <td>2.00</td>\n",
       "      <td>1.00</td>\n",
       "      <td>0.10</td>\n",
       "    </tr>\n",
       "    <tr>\n",
       "      <th>25%</th>\n",
       "      <td>5.10</td>\n",
       "      <td>2.80</td>\n",
       "      <td>1.60</td>\n",
       "      <td>0.30</td>\n",
       "    </tr>\n",
       "    <tr>\n",
       "      <th>50%</th>\n",
       "      <td>5.80</td>\n",
       "      <td>3.00</td>\n",
       "      <td>4.35</td>\n",
       "      <td>1.30</td>\n",
       "    </tr>\n",
       "    <tr>\n",
       "      <th>75%</th>\n",
       "      <td>6.40</td>\n",
       "      <td>3.30</td>\n",
       "      <td>5.10</td>\n",
       "      <td>1.80</td>\n",
       "    </tr>\n",
       "    <tr>\n",
       "      <th>max</th>\n",
       "      <td>7.90</td>\n",
       "      <td>4.40</td>\n",
       "      <td>6.90</td>\n",
       "      <td>2.50</td>\n",
       "    </tr>\n",
       "  </tbody>\n",
       "</table>\n",
       "</div>"
      ],
      "text/plain": [
       "       SepalL  sepalW  petalL  petalW\n",
       "count  150.00  150.00  150.00  150.00\n",
       "mean     5.84    3.05    3.76    1.20\n",
       "std      0.83    0.43    1.76    0.76\n",
       "min      4.30    2.00    1.00    0.10\n",
       "25%      5.10    2.80    1.60    0.30\n",
       "50%      5.80    3.00    4.35    1.30\n",
       "75%      6.40    3.30    5.10    1.80\n",
       "max      7.90    4.40    6.90    2.50"
      ]
     },
     "execution_count": 6,
     "metadata": {},
     "output_type": "execute_result"
    }
   ],
   "source": [
    "pd.set_option('precision',2)\n",
    "iris.describe()"
   ]
  },
  {
   "cell_type": "code",
   "execution_count": 28,
   "id": "dietary-market",
   "metadata": {},
   "outputs": [
    {
     "data": {
      "text/html": [
       "<div>\n",
       "<style scoped>\n",
       "    .dataframe tbody tr th:only-of-type {\n",
       "        vertical-align: middle;\n",
       "    }\n",
       "\n",
       "    .dataframe tbody tr th {\n",
       "        vertical-align: top;\n",
       "    }\n",
       "\n",
       "    .dataframe thead th {\n",
       "        text-align: right;\n",
       "    }\n",
       "</style>\n",
       "<table border=\"1\" class=\"dataframe\">\n",
       "  <thead>\n",
       "    <tr style=\"text-align: right;\">\n",
       "      <th></th>\n",
       "      <th>Name</th>\n",
       "      <th>Iris-setosa</th>\n",
       "      <th>Iris-versicolor</th>\n",
       "      <th>Iris-virginica</th>\n",
       "    </tr>\n",
       "  </thead>\n",
       "  <tbody>\n",
       "    <tr>\n",
       "      <th rowspan=\"8\" valign=\"top\">SepalLenth</th>\n",
       "      <th>count</th>\n",
       "      <td>50.000000</td>\n",
       "      <td>50.000000</td>\n",
       "      <td>50.000000</td>\n",
       "    </tr>\n",
       "    <tr>\n",
       "      <th>mean</th>\n",
       "      <td>5.006000</td>\n",
       "      <td>5.936000</td>\n",
       "      <td>6.588000</td>\n",
       "    </tr>\n",
       "    <tr>\n",
       "      <th>std</th>\n",
       "      <td>0.352490</td>\n",
       "      <td>0.516171</td>\n",
       "      <td>0.635880</td>\n",
       "    </tr>\n",
       "    <tr>\n",
       "      <th>min</th>\n",
       "      <td>4.300000</td>\n",
       "      <td>4.900000</td>\n",
       "      <td>4.900000</td>\n",
       "    </tr>\n",
       "    <tr>\n",
       "      <th>25%</th>\n",
       "      <td>4.800000</td>\n",
       "      <td>5.600000</td>\n",
       "      <td>6.225000</td>\n",
       "    </tr>\n",
       "    <tr>\n",
       "      <th>50%</th>\n",
       "      <td>5.000000</td>\n",
       "      <td>5.900000</td>\n",
       "      <td>6.500000</td>\n",
       "    </tr>\n",
       "    <tr>\n",
       "      <th>75%</th>\n",
       "      <td>5.200000</td>\n",
       "      <td>6.300000</td>\n",
       "      <td>6.900000</td>\n",
       "    </tr>\n",
       "    <tr>\n",
       "      <th>max</th>\n",
       "      <td>5.800000</td>\n",
       "      <td>7.000000</td>\n",
       "      <td>7.900000</td>\n",
       "    </tr>\n",
       "    <tr>\n",
       "      <th rowspan=\"8\" valign=\"top\">SepalWidth</th>\n",
       "      <th>count</th>\n",
       "      <td>50.000000</td>\n",
       "      <td>50.000000</td>\n",
       "      <td>50.000000</td>\n",
       "    </tr>\n",
       "    <tr>\n",
       "      <th>mean</th>\n",
       "      <td>3.418000</td>\n",
       "      <td>2.770000</td>\n",
       "      <td>2.974000</td>\n",
       "    </tr>\n",
       "    <tr>\n",
       "      <th>std</th>\n",
       "      <td>0.381024</td>\n",
       "      <td>0.313798</td>\n",
       "      <td>0.322497</td>\n",
       "    </tr>\n",
       "    <tr>\n",
       "      <th>min</th>\n",
       "      <td>2.300000</td>\n",
       "      <td>2.000000</td>\n",
       "      <td>2.200000</td>\n",
       "    </tr>\n",
       "    <tr>\n",
       "      <th>25%</th>\n",
       "      <td>3.125000</td>\n",
       "      <td>2.525000</td>\n",
       "      <td>2.800000</td>\n",
       "    </tr>\n",
       "    <tr>\n",
       "      <th>50%</th>\n",
       "      <td>3.400000</td>\n",
       "      <td>2.800000</td>\n",
       "      <td>3.000000</td>\n",
       "    </tr>\n",
       "    <tr>\n",
       "      <th>75%</th>\n",
       "      <td>3.675000</td>\n",
       "      <td>3.000000</td>\n",
       "      <td>3.175000</td>\n",
       "    </tr>\n",
       "    <tr>\n",
       "      <th>max</th>\n",
       "      <td>4.400000</td>\n",
       "      <td>3.400000</td>\n",
       "      <td>3.800000</td>\n",
       "    </tr>\n",
       "    <tr>\n",
       "      <th rowspan=\"8\" valign=\"top\">PetalLenth</th>\n",
       "      <th>count</th>\n",
       "      <td>50.000000</td>\n",
       "      <td>50.000000</td>\n",
       "      <td>50.000000</td>\n",
       "    </tr>\n",
       "    <tr>\n",
       "      <th>mean</th>\n",
       "      <td>1.464000</td>\n",
       "      <td>4.260000</td>\n",
       "      <td>5.552000</td>\n",
       "    </tr>\n",
       "    <tr>\n",
       "      <th>std</th>\n",
       "      <td>0.173511</td>\n",
       "      <td>0.469911</td>\n",
       "      <td>0.551895</td>\n",
       "    </tr>\n",
       "    <tr>\n",
       "      <th>min</th>\n",
       "      <td>1.000000</td>\n",
       "      <td>3.000000</td>\n",
       "      <td>4.500000</td>\n",
       "    </tr>\n",
       "    <tr>\n",
       "      <th>25%</th>\n",
       "      <td>1.400000</td>\n",
       "      <td>4.000000</td>\n",
       "      <td>5.100000</td>\n",
       "    </tr>\n",
       "    <tr>\n",
       "      <th>50%</th>\n",
       "      <td>1.500000</td>\n",
       "      <td>4.350000</td>\n",
       "      <td>5.550000</td>\n",
       "    </tr>\n",
       "    <tr>\n",
       "      <th>75%</th>\n",
       "      <td>1.575000</td>\n",
       "      <td>4.600000</td>\n",
       "      <td>5.875000</td>\n",
       "    </tr>\n",
       "    <tr>\n",
       "      <th>max</th>\n",
       "      <td>1.900000</td>\n",
       "      <td>5.100000</td>\n",
       "      <td>6.900000</td>\n",
       "    </tr>\n",
       "    <tr>\n",
       "      <th rowspan=\"8\" valign=\"top\">PetalWidth</th>\n",
       "      <th>count</th>\n",
       "      <td>50.000000</td>\n",
       "      <td>50.000000</td>\n",
       "      <td>50.000000</td>\n",
       "    </tr>\n",
       "    <tr>\n",
       "      <th>mean</th>\n",
       "      <td>0.244000</td>\n",
       "      <td>1.326000</td>\n",
       "      <td>2.026000</td>\n",
       "    </tr>\n",
       "    <tr>\n",
       "      <th>std</th>\n",
       "      <td>0.107210</td>\n",
       "      <td>0.197753</td>\n",
       "      <td>0.274650</td>\n",
       "    </tr>\n",
       "    <tr>\n",
       "      <th>min</th>\n",
       "      <td>0.100000</td>\n",
       "      <td>1.000000</td>\n",
       "      <td>1.400000</td>\n",
       "    </tr>\n",
       "    <tr>\n",
       "      <th>25%</th>\n",
       "      <td>0.200000</td>\n",
       "      <td>1.200000</td>\n",
       "      <td>1.800000</td>\n",
       "    </tr>\n",
       "    <tr>\n",
       "      <th>50%</th>\n",
       "      <td>0.200000</td>\n",
       "      <td>1.300000</td>\n",
       "      <td>2.000000</td>\n",
       "    </tr>\n",
       "    <tr>\n",
       "      <th>75%</th>\n",
       "      <td>0.300000</td>\n",
       "      <td>1.500000</td>\n",
       "      <td>2.300000</td>\n",
       "    </tr>\n",
       "    <tr>\n",
       "      <th>max</th>\n",
       "      <td>0.600000</td>\n",
       "      <td>1.800000</td>\n",
       "      <td>2.500000</td>\n",
       "    </tr>\n",
       "  </tbody>\n",
       "</table>\n",
       "</div>"
      ],
      "text/plain": [
       "Name              Iris-setosa  Iris-versicolor  Iris-virginica\n",
       "SepalLenth count    50.000000        50.000000       50.000000\n",
       "           mean      5.006000         5.936000        6.588000\n",
       "           std       0.352490         0.516171        0.635880\n",
       "           min       4.300000         4.900000        4.900000\n",
       "           25%       4.800000         5.600000        6.225000\n",
       "           50%       5.000000         5.900000        6.500000\n",
       "           75%       5.200000         6.300000        6.900000\n",
       "           max       5.800000         7.000000        7.900000\n",
       "SepalWidth count    50.000000        50.000000       50.000000\n",
       "           mean      3.418000         2.770000        2.974000\n",
       "           std       0.381024         0.313798        0.322497\n",
       "           min       2.300000         2.000000        2.200000\n",
       "           25%       3.125000         2.525000        2.800000\n",
       "           50%       3.400000         2.800000        3.000000\n",
       "           75%       3.675000         3.000000        3.175000\n",
       "           max       4.400000         3.400000        3.800000\n",
       "PetalLenth count    50.000000        50.000000       50.000000\n",
       "           mean      1.464000         4.260000        5.552000\n",
       "           std       0.173511         0.469911        0.551895\n",
       "           min       1.000000         3.000000        4.500000\n",
       "           25%       1.400000         4.000000        5.100000\n",
       "           50%       1.500000         4.350000        5.550000\n",
       "           75%       1.575000         4.600000        5.875000\n",
       "           max       1.900000         5.100000        6.900000\n",
       "PetalWidth count    50.000000        50.000000       50.000000\n",
       "           mean      0.244000         1.326000        2.026000\n",
       "           std       0.107210         0.197753        0.274650\n",
       "           min       0.100000         1.000000        1.400000\n",
       "           25%       0.200000         1.200000        1.800000\n",
       "           50%       0.200000         1.300000        2.000000\n",
       "           75%       0.300000         1.500000        2.300000\n",
       "           max       0.600000         1.800000        2.500000"
      ]
     },
     "execution_count": 28,
     "metadata": {},
     "output_type": "execute_result"
    }
   ],
   "source": [
    "irisdata.groupby('Name').describe().T #groupby를 통해 데이터를 그룹화하여 정리할 수 있음"
   ]
  },
  {
   "cell_type": "code",
   "execution_count": 27,
   "id": "neither-medicare",
   "metadata": {},
   "outputs": [
    {
     "data": {
      "text/html": [
       "<div>\n",
       "<style scoped>\n",
       "    .dataframe tbody tr th:only-of-type {\n",
       "        vertical-align: middle;\n",
       "    }\n",
       "\n",
       "    .dataframe tbody tr th {\n",
       "        vertical-align: top;\n",
       "    }\n",
       "\n",
       "    .dataframe thead th {\n",
       "        text-align: right;\n",
       "    }\n",
       "</style>\n",
       "<table border=\"1\" class=\"dataframe\">\n",
       "  <thead>\n",
       "    <tr style=\"text-align: right;\">\n",
       "      <th></th>\n",
       "      <th>SepalLenth</th>\n",
       "      <th>SepalWidth</th>\n",
       "      <th>PetalLenth</th>\n",
       "      <th>PetalWidth</th>\n",
       "    </tr>\n",
       "  </thead>\n",
       "  <tbody>\n",
       "    <tr>\n",
       "      <th>SepalLenth</th>\n",
       "      <td>0.685694</td>\n",
       "      <td>-0.039268</td>\n",
       "      <td>1.273682</td>\n",
       "      <td>0.516904</td>\n",
       "    </tr>\n",
       "    <tr>\n",
       "      <th>SepalWidth</th>\n",
       "      <td>-0.039268</td>\n",
       "      <td>0.188004</td>\n",
       "      <td>-0.321713</td>\n",
       "      <td>-0.117981</td>\n",
       "    </tr>\n",
       "    <tr>\n",
       "      <th>PetalLenth</th>\n",
       "      <td>1.273682</td>\n",
       "      <td>-0.321713</td>\n",
       "      <td>3.113179</td>\n",
       "      <td>1.296387</td>\n",
       "    </tr>\n",
       "    <tr>\n",
       "      <th>PetalWidth</th>\n",
       "      <td>0.516904</td>\n",
       "      <td>-0.117981</td>\n",
       "      <td>1.296387</td>\n",
       "      <td>0.582414</td>\n",
       "    </tr>\n",
       "  </tbody>\n",
       "</table>\n",
       "</div>"
      ],
      "text/plain": [
       "            SepalLenth  SepalWidth  PetalLenth  PetalWidth\n",
       "SepalLenth    0.685694   -0.039268    1.273682    0.516904\n",
       "SepalWidth   -0.039268    0.188004   -0.321713   -0.117981\n",
       "PetalLenth    1.273682   -0.321713    3.113179    1.296387\n",
       "PetalWidth    0.516904   -0.117981    1.296387    0.582414"
      ]
     },
     "execution_count": 27,
     "metadata": {},
     "output_type": "execute_result"
    }
   ],
   "source": [
    "irisdata.cov() #covariance공분산"
   ]
  },
  {
   "cell_type": "code",
   "execution_count": 26,
   "id": "approved-feeding",
   "metadata": {},
   "outputs": [
    {
     "data": {
      "text/html": [
       "<div>\n",
       "<style scoped>\n",
       "    .dataframe tbody tr th:only-of-type {\n",
       "        vertical-align: middle;\n",
       "    }\n",
       "\n",
       "    .dataframe tbody tr th {\n",
       "        vertical-align: top;\n",
       "    }\n",
       "\n",
       "    .dataframe thead th {\n",
       "        text-align: right;\n",
       "    }\n",
       "</style>\n",
       "<table border=\"1\" class=\"dataframe\">\n",
       "  <thead>\n",
       "    <tr style=\"text-align: right;\">\n",
       "      <th></th>\n",
       "      <th></th>\n",
       "      <th>SepalLenth</th>\n",
       "      <th>SepalWidth</th>\n",
       "      <th>PetalLenth</th>\n",
       "      <th>PetalWidth</th>\n",
       "    </tr>\n",
       "    <tr>\n",
       "      <th>Name</th>\n",
       "      <th></th>\n",
       "      <th></th>\n",
       "      <th></th>\n",
       "      <th></th>\n",
       "      <th></th>\n",
       "    </tr>\n",
       "  </thead>\n",
       "  <tbody>\n",
       "    <tr>\n",
       "      <th rowspan=\"4\" valign=\"top\">Iris-setosa</th>\n",
       "      <th>SepalLenth</th>\n",
       "      <td>1.000000</td>\n",
       "      <td>0.746780</td>\n",
       "      <td>0.263874</td>\n",
       "      <td>0.279092</td>\n",
       "    </tr>\n",
       "    <tr>\n",
       "      <th>SepalWidth</th>\n",
       "      <td>0.746780</td>\n",
       "      <td>1.000000</td>\n",
       "      <td>0.176695</td>\n",
       "      <td>0.279973</td>\n",
       "    </tr>\n",
       "    <tr>\n",
       "      <th>PetalLenth</th>\n",
       "      <td>0.263874</td>\n",
       "      <td>0.176695</td>\n",
       "      <td>1.000000</td>\n",
       "      <td>0.306308</td>\n",
       "    </tr>\n",
       "    <tr>\n",
       "      <th>PetalWidth</th>\n",
       "      <td>0.279092</td>\n",
       "      <td>0.279973</td>\n",
       "      <td>0.306308</td>\n",
       "      <td>1.000000</td>\n",
       "    </tr>\n",
       "    <tr>\n",
       "      <th rowspan=\"4\" valign=\"top\">Iris-versicolor</th>\n",
       "      <th>SepalLenth</th>\n",
       "      <td>1.000000</td>\n",
       "      <td>0.525911</td>\n",
       "      <td>0.754049</td>\n",
       "      <td>0.546461</td>\n",
       "    </tr>\n",
       "    <tr>\n",
       "      <th>SepalWidth</th>\n",
       "      <td>0.525911</td>\n",
       "      <td>1.000000</td>\n",
       "      <td>0.560522</td>\n",
       "      <td>0.663999</td>\n",
       "    </tr>\n",
       "    <tr>\n",
       "      <th>PetalLenth</th>\n",
       "      <td>0.754049</td>\n",
       "      <td>0.560522</td>\n",
       "      <td>1.000000</td>\n",
       "      <td>0.786668</td>\n",
       "    </tr>\n",
       "    <tr>\n",
       "      <th>PetalWidth</th>\n",
       "      <td>0.546461</td>\n",
       "      <td>0.663999</td>\n",
       "      <td>0.786668</td>\n",
       "      <td>1.000000</td>\n",
       "    </tr>\n",
       "    <tr>\n",
       "      <th rowspan=\"4\" valign=\"top\">Iris-virginica</th>\n",
       "      <th>SepalLenth</th>\n",
       "      <td>1.000000</td>\n",
       "      <td>0.457228</td>\n",
       "      <td>0.864225</td>\n",
       "      <td>0.281108</td>\n",
       "    </tr>\n",
       "    <tr>\n",
       "      <th>SepalWidth</th>\n",
       "      <td>0.457228</td>\n",
       "      <td>1.000000</td>\n",
       "      <td>0.401045</td>\n",
       "      <td>0.537728</td>\n",
       "    </tr>\n",
       "    <tr>\n",
       "      <th>PetalLenth</th>\n",
       "      <td>0.864225</td>\n",
       "      <td>0.401045</td>\n",
       "      <td>1.000000</td>\n",
       "      <td>0.322108</td>\n",
       "    </tr>\n",
       "    <tr>\n",
       "      <th>PetalWidth</th>\n",
       "      <td>0.281108</td>\n",
       "      <td>0.537728</td>\n",
       "      <td>0.322108</td>\n",
       "      <td>1.000000</td>\n",
       "    </tr>\n",
       "  </tbody>\n",
       "</table>\n",
       "</div>"
      ],
      "text/plain": [
       "                            SepalLenth  SepalWidth  PetalLenth  PetalWidth\n",
       "Name                                                                      \n",
       "Iris-setosa     SepalLenth    1.000000    0.746780    0.263874    0.279092\n",
       "                SepalWidth    0.746780    1.000000    0.176695    0.279973\n",
       "                PetalLenth    0.263874    0.176695    1.000000    0.306308\n",
       "                PetalWidth    0.279092    0.279973    0.306308    1.000000\n",
       "Iris-versicolor SepalLenth    1.000000    0.525911    0.754049    0.546461\n",
       "                SepalWidth    0.525911    1.000000    0.560522    0.663999\n",
       "                PetalLenth    0.754049    0.560522    1.000000    0.786668\n",
       "                PetalWidth    0.546461    0.663999    0.786668    1.000000\n",
       "Iris-virginica  SepalLenth    1.000000    0.457228    0.864225    0.281108\n",
       "                SepalWidth    0.457228    1.000000    0.401045    0.537728\n",
       "                PetalLenth    0.864225    0.401045    1.000000    0.322108\n",
       "                PetalWidth    0.281108    0.537728    0.322108    1.000000"
      ]
     },
     "execution_count": 26,
     "metadata": {},
     "output_type": "execute_result"
    }
   ],
   "source": [
    "irisdata.groupby('Name').corr() #correlation상관계"
   ]
  },
  {
   "cell_type": "markdown",
   "id": "supported-barrel",
   "metadata": {},
   "source": [
    "__4.Data visulization: matplotlib__"
   ]
  },
  {
   "cell_type": "markdown",
   "id": "metropolitan-france",
   "metadata": {},
   "source": [
    "plt.bar-bar chart\n",
    "\n",
    "plt.scatter-scatter plot 산포도\n",
    "\n",
    "plt.boxplot- min,max,median(중간값),first quartile/third quartile set\n",
    "\n",
    "plt.hist-hisrogram 분포 보여줌 (bar형태)\n",
    "\n",
    "plt.plot-line graph (산포도를 라인으로)\n",
    "\n"
   ]
  },
  {
   "cell_type": "code",
   "execution_count": 25,
   "id": "demonstrated-disclaimer",
   "metadata": {},
   "outputs": [
    {
     "data": {
      "image/png": "[encoded data removed]",
      "text/plain": [
       "<Figure size 432x288 with 2 Axes>"
      ]
     },
     "metadata": {
      "needs_background": "light"
     },
     "output_type": "display_data"
    }
   ],
   "source": [
    "plt.figure(figsize=(6,4)) #데이터를 시각화할 배경의 크기 지정\n",
    "plt.subplot(1,2,1) #subplot을 이용해 시각화할 데이터의 좌표 입력\n",
    "plt.subplot(1,2,2)\n",
    "plt.show() #작업의 종류를 의미, 반드시 넣어줌"
   ]
  },
  {
   "cell_type": "code",
   "execution_count": 24,
   "id": "exact-costs",
   "metadata": {},
   "outputs": [
    {
     "data": {
      "image/png": "[encoded data removed]",
      "text/plain": [
       "<Figure size 432x288 with 1 Axes>"
      ]
     },
     "metadata": {
      "needs_background": "light"
     },
     "output_type": "display_data"
    }
   ],
   "source": [
    "iris.boxplot()\n",
    "plt.show()"
   ]
  },
  {
   "cell_type": "code",
   "execution_count": 43,
   "id": "interpreted-dairy",
   "metadata": {},
   "outputs": [
    {
     "data": {
      "image/png": "[encoded data removed]",
      "text/plain": [
       "<Figure size 432x288 with 4 Axes>"
      ]
     },
     "metadata": {
      "needs_background": "light"
     },
     "output_type": "display_data"
    }
   ],
   "source": [
    "iris.hist()\n",
    "plt.show()"
   ]
  },
  {
   "cell_type": "code",
   "execution_count": 22,
   "id": "olympic-tolerance",
   "metadata": {},
   "outputs": [
    {
     "data": {
      "image/png": "[encoded data removed]",
      "text/plain": [
       "<Figure size 432x288 with 1 Axes>"
      ]
     },
     "metadata": {
      "needs_background": "light"
     },
     "output_type": "display_data"
    }
   ],
   "source": [
    "iris.plot()\n",
    "plt.show()"
   ]
  },
  {
   "cell_type": "code",
   "execution_count": 7,
   "id": "comprehensive-development",
   "metadata": {},
   "outputs": [
    {
     "data": {
      "image/png": "[encoded data removed]",
      "text/plain": [
       "<Figure size 432x288 with 1 Axes>"
      ]
     },
     "metadata": {},
     "output_type": "display_data"
    }
   ],
   "source": [
    "plt.scatter(iris['petalL'],iris['petalW']) \n",
    "#scatter는 두개 변수의 산포도 보여줘서 변수 지정 필요\n",
    "plt.show() "
   ]
  },
  {
   "cell_type": "code",
   "execution_count": 4,
   "id": "timely-barcelona",
   "metadata": {},
   "outputs": [
    {
     "data": {
      "image/png": "[encoded data removed]",
      "text/plain": [
       "<Figure size 864x216 with 2 Axes>"
      ]
     },
     "metadata": {
      "needs_background": "light"
     },
     "output_type": "display_data"
    }
   ],
   "source": [
    "year,number=(['1st year','2nd year','3rd year','4th year'],[14,11,15,18])#두개의 리스트가 turple에\n",
    "plt.figure(figsize=(12,3)) #캔버스 사이즈\n",
    "plt.subplot(1,2,1)#첫번째 그래프\n",
    "plt.bar(year,number)\n",
    "plt.subplot(1,2,2)#두번째 그래프\n",
    "plt.barh(year,number)#가로막대 그래프\n",
    "plt.show()"
   ]
  },
  {
   "cell_type": "code",
   "execution_count": 76,
   "id": "stock-newark",
   "metadata": {},
   "outputs": [
    {
     "data": {
      "image/png": "[encoded data removed]",
      "text/plain": [
       "<Figure size 432x216 with 1 Axes>"
      ]
     },
     "metadata": {
      "needs_background": "light"
     },
     "output_type": "display_data"
    }
   ],
   "source": [
    "students=pd.Series([14,11,15,18],index=['1st year','2nd year','3rd year','4th year'])\n",
    "plt.figure() #캔버스 사이즈 지정 안하면 디폴트 값이 들어감\n",
    "students.sort_values().plot(kind='barh',grid=True,figsize=(6,3)) #grid를 집어 넣음, value기준 내림차순으로\n",
    "plt.show()"
   ]
  },
  {
   "cell_type": "code",
   "execution_count": 41,
   "id": "impressive-rolling",
   "metadata": {},
   "outputs": [],
   "source": [
    "setosa=iris.iloc[0:50,:]\n",
    "versicolor=iris.iloc[50:100,:]\n",
    "verginica=iris.iloc[100:150,:]\n",
    "#iris데이터 슬라이싱"
   ]
  },
  {
   "cell_type": "code",
   "execution_count": 40,
   "id": "protecting-fabric",
   "metadata": {},
   "outputs": [
    {
     "data": {
      "image/png": "[encoded data removed]",
      "text/plain": [
       "<Figure size 432x288 with 1 Axes>"
      ]
     },
     "metadata": {
      "needs_background": "light"
     },
     "output_type": "display_data"
    }
   ],
   "source": [
    "x=np.linspace(0,2*np.pi,400) #구간을 400개로 쪼갬\n",
    "y=np.sin(x**2) #sin그래프\n",
    "\n",
    "fig,ax=plt.subplots() #\n",
    "ax.plot(x,y)\n",
    "ax.set_title('Simple plot')\n",
    "plt.show()"
   ]
  },
  {
   "cell_type": "code",
   "execution_count": 67,
   "id": "round-mumbai",
   "metadata": {},
   "outputs": [
    {
     "data": {
      "image/png": "[encoded data removed]",
      "text/plain": [
       "<Figure size 432x288 with 1 Axes>"
      ]
     },
     "metadata": {
      "needs_background": "light"
     },
     "output_type": "display_data"
    }
   ],
   "source": [
    "#중첩\n",
    "plt.figure(figsize=(6,4))\n",
    "plt.hist(iris['SepalL']) #각 종류별로 같은 변수 데이터를 중첩해서 보여줌\n",
    "plt.hist(setosa['SepalL'])\n",
    "plt.hist(versicolor['SepalL'])\n",
    "plt.hist(verginica['SepalL'])\n",
    "plt.xlabel('Sepal Length(cm)',fontsize=10)\n",
    "plt.ylabel('Frequency',fontsize=10)\n",
    "plt.show()"
   ]
  },
  {
   "cell_type": "code",
   "execution_count": 65,
   "id": "incorporated-berlin",
   "metadata": {},
   "outputs": [
    {
     "data": {
      "image/png": "[encoded data removed]",
      "text/plain": [
       "<Figure size 432x288 with 1 Axes>"
      ]
     },
     "metadata": {
      "needs_background": "light"
     },
     "output_type": "display_data"
    }
   ],
   "source": [
    "kinds=[setosa,versicolor,verginica]\n",
    "names=['Setosa','Vergicolor','Verginica']\n",
    "fig,ax=plt.subplots(figsize=(6,4)) #위에랑 똑같은 것을 subplt방식으로\n",
    "plt.hist(iris['SepalL'])\n",
    "for x,y in zip(names,kinds):\n",
    "    ax.hist(y.SepalL, label=x)\n",
    "plt.title('Distribution of Sepla by Kinds')\n",
    "plt.xlabel('Sepal Length(cm)', fontsize=10)\n",
    "ax.legend(fontsize=10, loc='upper right')\n",
    "plt.ylabel('Frequency',fontsize=10)\n",
    "plt.show()"
   ]
  },
  {
   "cell_type": "code",
   "execution_count": 74,
   "id": "premium-moore",
   "metadata": {},
   "outputs": [
    {
     "data": {
      "image/png": "[encoded data removed]",
      "text/plain": [
       "<Figure size 432x360 with 1 Axes>"
      ]
     },
     "metadata": {
      "needs_background": "light"
     },
     "output_type": "display_data"
    }
   ],
   "source": [
    "fig,ax=plt.subplots(figsize=(6,5))\n",
    "for name,kind in zip(names,kinds):\n",
    "    ax.plot(kind.petalL,\n",
    "           kind.petalW,\n",
    "           marker='*',\n",
    "           linestyle='',\n",
    "           label=name)\n",
    "ax.legend(fontsize=10,loc='upper left')\n",
    "fig.suptitle('Distribution of Iris by its Kinds')\n",
    "plt.xlabel('Petal Length(cm)',fontsize=10)\n",
    "plt.ylabel('Petal Width(cm)',fontsize=10)\n",
    "plt.show()"
   ]
  },
  {
   "cell_type": "code",
   "execution_count": 80,
   "id": "found-action",
   "metadata": {},
   "outputs": [
    {
     "data": {
      "image/png": "[encoded data removed]",
      "text/plain": [
       "<Figure size 504x288 with 1 Axes>"
      ]
     },
     "metadata": {},
     "output_type": "display_data"
    }
   ],
   "source": [
    "fig,ax=plt.subplots(figsize=(7,4))\n",
    "ax.pie(students, explode=(0,0,0,0.1),labels=students.index, #explode는 그래프 조각 떨어뜨려 강조\n",
    "      autopct='%1.2f%%',shadow=True,startangle=90) #소수점 둘쨰 자리까지\n",
    "fig.suptitle('Students by Year',fontsize=14)\n",
    "ax.axis('equal')\n",
    "plt.show()"
   ]
  },
  {
   "cell_type": "code",
   "execution_count": 10,
   "id": "lonely-meter",
   "metadata": {},
   "outputs": [
    {
     "data": {
      "image/png": "[encoded data removed]",
      "text/plain": [
       "<Figure size 576x432 with 1 Axes>"
      ]
     },
     "metadata": {},
     "output_type": "display_data"
    }
   ],
   "source": [
    "import seaborn as sns #seaborn 더 보기 편하게 시각화\n",
    "plt.figure(figsize=(8,6))\n",
    "sns.set_style('whitegrid') #dark,ticks\n",
    "iris_scat=sns.scatterplot(x='petalL',y='petalW',palette='bright',\n",
    "                         hue='Name',style='Name',s=80,data=iris) #name별로 색과 모양 다르게\n",
    "iris_scat.set_title('Iris Distibution by Sepal',fontsize=14)\n",
    "iris_scat.set(xlabel='Sepal Length(cm)',ylabel='Sepal With(cm)')\n",
    "plt.show()"
   ]
  },
  {
   "cell_type": "markdown",
   "id": "clean-ballot",
   "metadata": {},
   "source": [
    "## Object Oriented Programming: Class"
   ]
  },
  {
   "cell_type": "markdown",
   "id": "bacterial-hello",
   "metadata": {},
   "source": [
    "모든 클래스는 2개의 구성요소가 있다. 클래스의 상태 state/ 클래스의 기능 function(method)"
   ]
  },
  {
   "cell_type": "markdown",
   "id": "legislative-crest",
   "metadata": {},
   "source": [
    "__1.Creating own classes__"
   ]
  },
  {
   "cell_type": "code",
   "execution_count": 24,
   "id": "nearby-preparation",
   "metadata": {},
   "outputs": [],
   "source": [
    "#사칙연산을 하는 class\n",
    "class FourCalculation:  #함수는 소문자로 쓰지만 class는 첫 글자가 대문자로 시작\n",
    "#Class는 안에 많은 함수를 담고 있음\n",
    "    def __init__(self, first, second): #모든 class틑 init으로 시작\n",
    "        self.first=first\n",
    "        self.second=second\n",
    "        \n",
    "        if second==0:\n",
    "            raise ValueError('the number must NOT be zero')\n",
    "    def add(self):\n",
    "        return self.first+self.second\n",
    "    def mul(self):\n",
    "        return self.first*self.second\n",
    "    def sub(self):\n",
    "        return self.first-self.second\n",
    "    def div(self):\n",
    "        return self.first/self.second\n",
    "\n",
    "#%save fourcalculation.py 1-17 ---->calss파일 만들기"
   ]
  },
  {
   "cell_type": "code",
   "execution_count": 21,
   "id": "scheduled-cliff",
   "metadata": {},
   "outputs": [
    {
     "name": "stdout",
     "output_type": "stream",
     "text": [
      "8 2\n",
      "10 16 6 4.0\n"
     ]
    }
   ],
   "source": [
    "b=FourCalculation(8,2)\n",
    "print(b.first,b.second)\n",
    "print(b.add(),b.mul(),b.sub(),b.div())"
   ]
  },
  {
   "cell_type": "code",
   "execution_count": 26,
   "id": "answering-adrian",
   "metadata": {},
   "outputs": [
    {
     "name": "stdout",
     "output_type": "stream",
     "text": [
      "8 4\n",
      "12 32 4 2.0\n"
     ]
    }
   ],
   "source": [
    "#class파일 저장한 것 불러와서 사용하는 방식\n",
    "import fourcalculation as fc\n",
    "b=fc.FourCalculation(8,4)\n",
    "print(b.first,b.second)\n",
    "print(b.add(),b.mul(),b.sub(),b.div())"
   ]
  },
  {
   "cell_type": "markdown",
   "id": "needed-italic",
   "metadata": {},
   "source": [
    "__2. Class inheritance and overring methods__"
   ]
  },
  {
   "cell_type": "markdown",
   "id": "acceptable-wages",
   "metadata": {},
   "source": [
    "calss를 상속받아 쓸 때 methode를 내가 원하는대로 변형해서 쓰고 싶을 때 - overide"
   ]
  },
  {
   "cell_type": "code",
   "execution_count": null,
   "id": "contemporary-laser",
   "metadata": {},
   "outputs": [
    {
     "ename": "",
     "evalue": "",
     "output_type": "error",
     "traceback": [
      "\u001b[1;31mRunning cells with 'Python 3.9.9 64-bit' requires ipykernel package.\n",
      "Run the following command to install 'ipykernel' into the Python environment. \n",
      "Command: 'C:/Users/User/AppData/Local/Programs/Python/Python39/python.exe -m pip install ipykernel -U --user --force-reinstall'"
     ]
    }
   ],
   "source": [
    "from fourcalculation import FourCalculation #FourCalculation 은 superclass\n",
    "class FiveCalculation(FourCalculation): #class 상속받고, 기능 추가\n",
    "    \n",
    "    def __init__(self, first,second,third):\n",
    "        super().__init__(first,second)\n",
    "        self.third=third\n",
    "    \n",
    "    def pow(self): # 지수 계산\n",
    "        return self.first**self.second+self.third\n",
    "    \n",
    "    def div(self):   # overide\n",
    "        if self.second==0:\n",
    "            return 0\n",
    "        else:\n",
    "            return self.first/self.second"
   ]
  },
  {
   "cell_type": "code",
   "execution_count": 30,
   "id": "medium-theorem",
   "metadata": {},
   "outputs": [
    {
     "name": "stdout",
     "output_type": "stream",
     "text": [
      "19 6 2\n"
     ]
    }
   ],
   "source": [
    "c=FiveCalculation(4,2,3)\n",
    "print(c.pow(),c.add(),c.sub())"
   ]
  },
  {
   "cell_type": "code",
   "execution_count": 36,
   "id": "satisfied-uncertainty",
   "metadata": {},
   "outputs": [],
   "source": [
    "class Person:\n",
    "    def __init__(self,first,last):\n",
    "        self.firstname=first\n",
    "        self.lastname=last\n",
    "    def Name(self):\n",
    "        return self.firstname + \" \" +self.lastname\n",
    "    \n",
    "class Employee(Person): #person class를 상속받아 사용\n",
    "        def __init__(self,first,last,staffnum):\n",
    "            Person.__init__(self,first,last)\n",
    "            self.staffnumber=staffnum\n",
    "        def GetEmployee(self):\n",
    "            return self.Name()+\",\"+self.staffnumber"
   ]
  },
  {
   "cell_type": "code",
   "execution_count": 37,
   "id": "promising-dylan",
   "metadata": {},
   "outputs": [
    {
     "name": "stdout",
     "output_type": "stream",
     "text": [
      "Sukyoung Ji\n",
      "Sukyoung Ji,1234\n"
     ]
    }
   ],
   "source": [
    "x=Person('Sukyoung','Ji')\n",
    "print(x.Name())\n",
    "y=Employee('Sukyoung','Ji','1234')\n",
    "print(y.GetEmployee())"
   ]
  }
 ],
 "metadata": {
  "kernelspec": {
   "display_name": "Python 3",
   "language": "python",
   "name": "python3"
  },
  "language_info": {
   "codemirror_mode": {
    "name": "ipython",
    "version": 3
   },
   "file_extension": ".py",
   "mimetype": "text/x-python",
   "name": "python",
   "nbconvert_exporter": "python",
   "pygments_lexer": "ipython3",
   "version": "3.9.9"
  },
  "toc-autonumbering": true
 },
 "nbformat": 4,
 "nbformat_minor": 5
}
